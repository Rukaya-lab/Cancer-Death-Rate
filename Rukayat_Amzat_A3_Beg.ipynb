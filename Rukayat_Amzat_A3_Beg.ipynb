{
  "nbformat": 4,
  "nbformat_minor": 0,
  "metadata": {
    "colab": {
      "name": "Rukayat_Amzat_A3_Beg.ipynb",
      "provenance": [],
      "collapsed_sections": [],
      "authorship_tag": "ABX9TyM1GmrEVoau82Pxva/DNWFa",
      "include_colab_link": true
    },
    "kernelspec": {
      "name": "python3",
      "display_name": "Python 3"
    }
  },
  "cells": [
    {
      "cell_type": "markdown",
      "metadata": {
        "id": "view-in-github",
        "colab_type": "text"
      },
      "source": [
        "<a href=\"https://colab.research.google.com/github/Rukaya-lab/Cancer-Death-Rate/blob/main/Rukayat_Amzat_A3_Beg.ipynb\" target=\"_parent\"><img src=\"https://colab.research.google.com/assets/colab-badge.svg\" alt=\"Open In Colab\"/></a>"
      ]
    },
    {
      "cell_type": "markdown",
      "metadata": {
        "id": "60_7mZF4XsrI"
      },
      "source": [
        "# **Cancer Death Rate Prediction Analysis**"
      ]
    },
    {
      "cell_type": "code",
      "metadata": {
        "id": "ce51N3ZnBJc1"
      },
      "source": [
        "#importing useful libraries\r\n",
        "\r\n",
        "import pandas as pd\r\n",
        "import numpy as np\r\n",
        "import matplotlib.pyplot as plt \r\n",
        "import seaborn as sns"
      ],
      "execution_count": 3,
      "outputs": []
    },
    {
      "cell_type": "code",
      "metadata": {
        "id": "IdxhI9l9BOly"
      },
      "source": [
        "#metrics\r\n",
        "from sklearn.linear_model import LinearRegression\r\n",
        "from scipy import stats\r\n",
        "from sklearn.model_selection import train_test_split\r\n",
        "from sklearn.ensemble import RandomForestRegressor\r\n",
        "from sklearn.tree import DecisionTreeRegressor"
      ],
      "execution_count": 69,
      "outputs": []
    },
    {
      "cell_type": "code",
      "metadata": {
        "id": "sNywsT0MBSZj"
      },
      "source": [
        "# loading data directly from a github page.\r\n",
        "\r\n",
        "train_data = pd.read_csv(\"https://raw.githubusercontent.com/dphi-official/Datasets/master/cancer_death_rate/Training_set_label.csv\")"
      ],
      "execution_count": 5,
      "outputs": []
    },
    {
      "cell_type": "code",
      "metadata": {
        "id": "2FL_Yl2pBc-_"
      },
      "source": [
        "test_data = pd.read_csv('https://raw.githubusercontent.com/dphi-official/Datasets/master/cancer_death_rate/Testing_set_label.csv')"
      ],
      "execution_count": 6,
      "outputs": []
    },
    {
      "cell_type": "code",
      "metadata": {
        "colab": {
          "base_uri": "https://localhost:8080/"
        },
        "id": "EQSYNW6CBhUA",
        "outputId": "b8d7b4db-3955-431d-d578-04bf8312367a"
      },
      "source": [
        "print(train_data.head())\r\n",
        "\r\n",
        "print(train_data.shape)"
      ],
      "execution_count": 7,
      "outputs": [
        {
          "output_type": "stream",
          "text": [
            "   avgAnnCount  avgDeathsPerYear  ...  BirthRate  TARGET_deathRate\n",
            "0         19.0                 8  ...  15.157116             160.3\n",
            "1         88.0                34  ...   3.293510             194.9\n",
            "2        195.0                83  ...   6.390328             196.5\n",
            "3        116.0                55  ...   5.124836             230.9\n",
            "4         80.0                35  ...   3.897033             162.2\n",
            "\n",
            "[5 rows x 34 columns]\n",
            "(3051, 34)\n"
          ],
          "name": "stdout"
        }
      ]
    },
    {
      "cell_type": "code",
      "metadata": {
        "colab": {
          "base_uri": "https://localhost:8080/"
        },
        "id": "inSzVI4YB70E",
        "outputId": "8a8a9db9-046f-49ab-d5c6-3aadc82a7067"
      },
      "source": [
        "print(test_data.head())\r\n",
        "\r\n",
        "print(test_data.shape)"
      ],
      "execution_count": 8,
      "outputs": [
        {
          "output_type": "stream",
          "text": [
            "   avgAnnCount  avgDeathsPerYear  ...  PctMarriedHouseholds  BirthRate\n",
            "0  2092.000000               763  ...             56.335344   6.825886\n",
            "1    94.000000                41  ...             55.288859   2.292861\n",
            "2   126.000000                43  ...             52.614465  10.502567\n",
            "3  1962.667684                16  ...             55.044700   9.342231\n",
            "4  1962.667684                 4  ...             47.826087  10.029499\n",
            "\n",
            "[5 rows x 33 columns]\n",
            "(762, 33)\n"
          ],
          "name": "stdout"
        }
      ]
    },
    {
      "cell_type": "code",
      "metadata": {
        "id": "v7lJgqlPCAr8"
      },
      "source": [
        "### feature description\r\n",
        "\r\n",
        "#TARGET_deathRate: Dependent variable. Mean per capita (100,000) cancer mortalities(a)\r\n",
        "#avgAnnCount: Mean number of reported cases of cancer diagnosed annually(a)\r\n",
        "#avgDeathsPerYear: Mean number of reported mortalities due to cancer(a)\r\n",
        "#incidenceRate: Mean per capita (100,000) cancer diagoses(a)\r\n",
        "#medianIncome: Median income per county (b)\r\n",
        "#popEst2015: Population of county (b)\r\n",
        "#povertyPercent: Percent of populace in poverty (b)\r\n",
        "#studyPerCap: Per capita number of cancer-related clinical trials per county (a)\r\n",
        "#binnedInc: Median income per capita binned by decile (b)\r\n",
        "#MedianAge: Median age of county residents (b)\r\n",
        "#MedianAgeMale: Median age of male county residents (b)\r\n",
        "#MedianAgeFemale: Median age of female county residents (b)\r\n",
        "#Geography: County name (b)\r\n",
        "#AvgHouseholdSize: Mean household size of county (b)\r\n",
        "#PercentMarried: Percent of county residents who are married (b)\r\n",
        "#PctNoHS18_24: Percent of county residents ages 18-24 highest education attained: less than high school (b)\r\n",
        "#PctHS18_24: Percent of county residents ages 18-24 highest education attained: high school diploma (b)\r\n",
        "#PctSomeCol18_24: Percent of county residents ages 18-24 highest education attained: some college (b)\r\n",
        "#PctBachDeg18_24: Percent of county residents ages 18-24 highest education attained: bachelor's degree (b)\r\n",
        "#PctHS25_Over: Percent of county residents ages 25 and over highest education attained: high school diploma (b)\r\n",
        "#PctBachDeg25_Over: Percent of county residents ages 25 and over highest education attained: bachelor's degree (b)\r\n",
        "#PctEmployed16_Over: Percent of county residents ages 16 and over employed (b)\r\n",
        "#PctUnemployed16_Over: Percent of county residents ages 16 and over unemployed (b)\r\n",
        "#PctPrivateCoverage: Percent of county residents with private health coverage (b)\r\n",
        "#PctPrivateCoverageAlone: Percent of county residents with private health coverage alone (no public assistance) (b)\r\n",
        "#PctEmpPrivCoverage: Percent of county residents with employee-provided private health coverage (b)\r\n",
        "#PctPublicCoverage: Percent of county residents with government-provided health coverage (b)\r\n",
        "#PctPubliceCoverageAlone: Percent of county residents with government-provided health coverage alone (b)\r\n",
        "#PctWhite: Percent of county residents who identify as White (b)\r\n",
        "#PctBlack: Percent of county residents who identify as Black (b)\r\n",
        "#PctAsian: Percent of county residents who identify as Asian (b)\r\n",
        "#PctOtherRace: Percent of county residents who identify in a category which is not White, Black, or Asian (b)\r\n",
        "#PctMarriedHouseholds: Percent of married households (b)\r\n",
        "#BirthRate: Number of live births relative to number of women in county (b)\r\n",
        "#(a): years 2010-2016\r\n",
        "\r\n",
        "#(b): 2013 Census Estimates"
      ],
      "execution_count": 9,
      "outputs": []
    },
    {
      "cell_type": "markdown",
      "metadata": {
        "id": "W2HV7xx9CQbg"
      },
      "source": [
        "### EDA"
      ]
    },
    {
      "cell_type": "code",
      "metadata": {
        "colab": {
          "base_uri": "https://localhost:8080/"
        },
        "id": "y_FR0lmDCReU",
        "outputId": "0c4af024-6451-43d1-88b9-9649f1e1b244"
      },
      "source": [
        "train_data.info()"
      ],
      "execution_count": 10,
      "outputs": [
        {
          "output_type": "stream",
          "text": [
            "<class 'pandas.core.frame.DataFrame'>\n",
            "RangeIndex: 3051 entries, 0 to 3050\n",
            "Data columns (total 34 columns):\n",
            " #   Column                   Non-Null Count  Dtype  \n",
            "---  ------                   --------------  -----  \n",
            " 0   avgAnnCount              3051 non-null   float64\n",
            " 1   avgDeathsPerYear         3051 non-null   int64  \n",
            " 2   incidenceRate            3051 non-null   float64\n",
            " 3   medIncome                3051 non-null   int64  \n",
            " 4   popEst2015               3051 non-null   int64  \n",
            " 5   povertyPercent           3051 non-null   float64\n",
            " 6   studyPerCap              3051 non-null   float64\n",
            " 7   binnedInc                3051 non-null   object \n",
            " 8   MedianAge                3051 non-null   float64\n",
            " 9   MedianAgeMale            3051 non-null   float64\n",
            " 10  MedianAgeFemale          3051 non-null   float64\n",
            " 11  Geography                3051 non-null   object \n",
            " 12  AvgHouseholdSize         3051 non-null   float64\n",
            " 13  PercentMarried           3051 non-null   float64\n",
            " 14  PctNoHS18_24             3051 non-null   float64\n",
            " 15  PctHS18_24               3051 non-null   float64\n",
            " 16  PctSomeCol18_24          785 non-null    float64\n",
            " 17  PctBachDeg18_24          3051 non-null   float64\n",
            " 18  PctHS25_Over             3051 non-null   float64\n",
            " 19  PctBachDeg25_Over        3051 non-null   float64\n",
            " 20  PctEmployed16_Over       2899 non-null   float64\n",
            " 21  PctUnemployed16_Over     3051 non-null   float64\n",
            " 22  PctPrivateCoverage       3051 non-null   float64\n",
            " 23  PctPrivateCoverageAlone  2447 non-null   float64\n",
            " 24  PctEmpPrivCoverage       3051 non-null   float64\n",
            " 25  PctPublicCoverage        3051 non-null   float64\n",
            " 26  PctPublicCoverageAlone   3051 non-null   float64\n",
            " 27  PctWhite                 3051 non-null   float64\n",
            " 28  PctBlack                 3051 non-null   float64\n",
            " 29  PctAsian                 3051 non-null   float64\n",
            " 30  PctOtherRace             3051 non-null   float64\n",
            " 31  PctMarriedHouseholds     3051 non-null   float64\n",
            " 32  BirthRate                3051 non-null   float64\n",
            " 33  TARGET_deathRate         3051 non-null   float64\n",
            "dtypes: float64(29), int64(3), object(2)\n",
            "memory usage: 810.5+ KB\n"
          ],
          "name": "stdout"
        }
      ]
    },
    {
      "cell_type": "code",
      "metadata": {
        "colab": {
          "base_uri": "https://localhost:8080/"
        },
        "id": "POf0RBYQCYlL",
        "outputId": "213e5330-9022-4d4b-a2df-086b65c70cbd"
      },
      "source": [
        "test_data.info()"
      ],
      "execution_count": 11,
      "outputs": [
        {
          "output_type": "stream",
          "text": [
            "<class 'pandas.core.frame.DataFrame'>\n",
            "RangeIndex: 762 entries, 0 to 761\n",
            "Data columns (total 33 columns):\n",
            " #   Column                   Non-Null Count  Dtype  \n",
            "---  ------                   --------------  -----  \n",
            " 0   avgAnnCount              762 non-null    float64\n",
            " 1   avgDeathsPerYear         762 non-null    int64  \n",
            " 2   incidenceRate            762 non-null    float64\n",
            " 3   medIncome                762 non-null    int64  \n",
            " 4   popEst2015               762 non-null    int64  \n",
            " 5   povertyPercent           762 non-null    float64\n",
            " 6   studyPerCap              762 non-null    float64\n",
            " 7   binnedInc                762 non-null    object \n",
            " 8   MedianAge                762 non-null    float64\n",
            " 9   MedianAgeMale            762 non-null    float64\n",
            " 10  MedianAgeFemale          762 non-null    float64\n",
            " 11  Geography                762 non-null    object \n",
            " 12  AvgHouseholdSize         762 non-null    float64\n",
            " 13  PercentMarried           762 non-null    float64\n",
            " 14  PctNoHS18_24             762 non-null    float64\n",
            " 15  PctHS18_24               762 non-null    float64\n",
            " 16  PctSomeCol18_24          182 non-null    float64\n",
            " 17  PctBachDeg18_24          762 non-null    float64\n",
            " 18  PctHS25_Over             762 non-null    float64\n",
            " 19  PctBachDeg25_Over        762 non-null    float64\n",
            " 20  PctEmployed16_Over       729 non-null    float64\n",
            " 21  PctUnemployed16_Over     762 non-null    float64\n",
            " 22  PctPrivateCoverage       762 non-null    float64\n",
            " 23  PctPrivateCoverageAlone  614 non-null    float64\n",
            " 24  PctEmpPrivCoverage       762 non-null    float64\n",
            " 25  PctPublicCoverage        762 non-null    float64\n",
            " 26  PctPublicCoverageAlone   762 non-null    float64\n",
            " 27  PctWhite                 762 non-null    float64\n",
            " 28  PctBlack                 762 non-null    float64\n",
            " 29  PctAsian                 762 non-null    float64\n",
            " 30  PctOtherRace             762 non-null    float64\n",
            " 31  PctMarriedHouseholds     762 non-null    float64\n",
            " 32  BirthRate                762 non-null    float64\n",
            "dtypes: float64(28), int64(3), object(2)\n",
            "memory usage: 196.6+ KB\n"
          ],
          "name": "stdout"
        }
      ]
    },
    {
      "cell_type": "code",
      "metadata": {
        "colab": {
          "base_uri": "https://localhost:8080/",
          "height": 302
        },
        "id": "uay2R0ccCd6u",
        "outputId": "1a85af8a-888b-441f-ae3b-f23c4a6d1c6c"
      },
      "source": [
        "train_data.describe()"
      ],
      "execution_count": 12,
      "outputs": [
        {
          "output_type": "execute_result",
          "data": {
            "text/html": [
              "<div>\n",
              "<style scoped>\n",
              "    .dataframe tbody tr th:only-of-type {\n",
              "        vertical-align: middle;\n",
              "    }\n",
              "\n",
              "    .dataframe tbody tr th {\n",
              "        vertical-align: top;\n",
              "    }\n",
              "\n",
              "    .dataframe thead th {\n",
              "        text-align: right;\n",
              "    }\n",
              "</style>\n",
              "<table border=\"1\" class=\"dataframe\">\n",
              "  <thead>\n",
              "    <tr style=\"text-align: right;\">\n",
              "      <th></th>\n",
              "      <th>avgAnnCount</th>\n",
              "      <th>avgDeathsPerYear</th>\n",
              "      <th>incidenceRate</th>\n",
              "      <th>medIncome</th>\n",
              "      <th>popEst2015</th>\n",
              "      <th>povertyPercent</th>\n",
              "      <th>studyPerCap</th>\n",
              "      <th>MedianAge</th>\n",
              "      <th>MedianAgeMale</th>\n",
              "      <th>MedianAgeFemale</th>\n",
              "      <th>AvgHouseholdSize</th>\n",
              "      <th>PercentMarried</th>\n",
              "      <th>PctNoHS18_24</th>\n",
              "      <th>PctHS18_24</th>\n",
              "      <th>PctSomeCol18_24</th>\n",
              "      <th>PctBachDeg18_24</th>\n",
              "      <th>PctHS25_Over</th>\n",
              "      <th>PctBachDeg25_Over</th>\n",
              "      <th>PctEmployed16_Over</th>\n",
              "      <th>PctUnemployed16_Over</th>\n",
              "      <th>PctPrivateCoverage</th>\n",
              "      <th>PctPrivateCoverageAlone</th>\n",
              "      <th>PctEmpPrivCoverage</th>\n",
              "      <th>PctPublicCoverage</th>\n",
              "      <th>PctPublicCoverageAlone</th>\n",
              "      <th>PctWhite</th>\n",
              "      <th>PctBlack</th>\n",
              "      <th>PctAsian</th>\n",
              "      <th>PctOtherRace</th>\n",
              "      <th>PctMarriedHouseholds</th>\n",
              "      <th>BirthRate</th>\n",
              "      <th>TARGET_deathRate</th>\n",
              "    </tr>\n",
              "  </thead>\n",
              "  <tbody>\n",
              "    <tr>\n",
              "      <th>count</th>\n",
              "      <td>3051.000000</td>\n",
              "      <td>3051.000000</td>\n",
              "      <td>3051.000000</td>\n",
              "      <td>3051.000000</td>\n",
              "      <td>3.051000e+03</td>\n",
              "      <td>3051.000000</td>\n",
              "      <td>3051.000000</td>\n",
              "      <td>3051.000000</td>\n",
              "      <td>3051.000000</td>\n",
              "      <td>3051.000000</td>\n",
              "      <td>3051.000000</td>\n",
              "      <td>3051.000000</td>\n",
              "      <td>3051.000000</td>\n",
              "      <td>3051.000000</td>\n",
              "      <td>785.000000</td>\n",
              "      <td>3051.000000</td>\n",
              "      <td>3051.000000</td>\n",
              "      <td>3051.000000</td>\n",
              "      <td>2899.000000</td>\n",
              "      <td>3051.000000</td>\n",
              "      <td>3051.000000</td>\n",
              "      <td>2447.000000</td>\n",
              "      <td>3051.000000</td>\n",
              "      <td>3051.000000</td>\n",
              "      <td>3051.000000</td>\n",
              "      <td>3051.000000</td>\n",
              "      <td>3051.000000</td>\n",
              "      <td>3051.000000</td>\n",
              "      <td>3051.000000</td>\n",
              "      <td>3051.000000</td>\n",
              "      <td>3051.000000</td>\n",
              "      <td>3051.000000</td>\n",
              "    </tr>\n",
              "    <tr>\n",
              "      <th>mean</th>\n",
              "      <td>570.668154</td>\n",
              "      <td>176.000983</td>\n",
              "      <td>449.007042</td>\n",
              "      <td>46902.917076</td>\n",
              "      <td>9.495799e+04</td>\n",
              "      <td>16.880367</td>\n",
              "      <td>158.695936</td>\n",
              "      <td>44.303540</td>\n",
              "      <td>39.600885</td>\n",
              "      <td>42.234579</td>\n",
              "      <td>2.473048</td>\n",
              "      <td>51.885480</td>\n",
              "      <td>18.225139</td>\n",
              "      <td>34.920190</td>\n",
              "      <td>41.247898</td>\n",
              "      <td>6.131957</td>\n",
              "      <td>34.909440</td>\n",
              "      <td>13.212750</td>\n",
              "      <td>54.115626</td>\n",
              "      <td>7.841069</td>\n",
              "      <td>64.519338</td>\n",
              "      <td>48.573314</td>\n",
              "      <td>41.342347</td>\n",
              "      <td>36.287545</td>\n",
              "      <td>19.198820</td>\n",
              "      <td>84.005243</td>\n",
              "      <td>9.166570</td>\n",
              "      <td>1.198561</td>\n",
              "      <td>1.864829</td>\n",
              "      <td>51.355837</td>\n",
              "      <td>5.608851</td>\n",
              "      <td>178.909767</td>\n",
              "    </tr>\n",
              "    <tr>\n",
              "      <th>std</th>\n",
              "      <td>1250.546532</td>\n",
              "      <td>445.042777</td>\n",
              "      <td>52.886386</td>\n",
              "      <td>11902.460659</td>\n",
              "      <td>2.761007e+05</td>\n",
              "      <td>6.340462</td>\n",
              "      <td>544.035590</td>\n",
              "      <td>38.704107</td>\n",
              "      <td>5.177629</td>\n",
              "      <td>5.253474</td>\n",
              "      <td>0.429926</td>\n",
              "      <td>6.812846</td>\n",
              "      <td>8.105799</td>\n",
              "      <td>9.021475</td>\n",
              "      <td>11.107006</td>\n",
              "      <td>4.552222</td>\n",
              "      <td>7.015728</td>\n",
              "      <td>5.360342</td>\n",
              "      <td>8.267656</td>\n",
              "      <td>3.454863</td>\n",
              "      <td>10.511932</td>\n",
              "      <td>10.011218</td>\n",
              "      <td>9.327793</td>\n",
              "      <td>7.748442</td>\n",
              "      <td>6.023164</td>\n",
              "      <td>16.126982</td>\n",
              "      <td>14.676772</td>\n",
              "      <td>2.369931</td>\n",
              "      <td>3.235204</td>\n",
              "      <td>6.524964</td>\n",
              "      <td>1.955201</td>\n",
              "      <td>27.570075</td>\n",
              "    </tr>\n",
              "    <tr>\n",
              "      <th>min</th>\n",
              "      <td>6.000000</td>\n",
              "      <td>3.000000</td>\n",
              "      <td>211.100000</td>\n",
              "      <td>22640.000000</td>\n",
              "      <td>8.270000e+02</td>\n",
              "      <td>3.200000</td>\n",
              "      <td>0.000000</td>\n",
              "      <td>22.300000</td>\n",
              "      <td>22.400000</td>\n",
              "      <td>22.300000</td>\n",
              "      <td>0.022100</td>\n",
              "      <td>25.100000</td>\n",
              "      <td>0.000000</td>\n",
              "      <td>0.000000</td>\n",
              "      <td>7.100000</td>\n",
              "      <td>0.000000</td>\n",
              "      <td>7.500000</td>\n",
              "      <td>3.200000</td>\n",
              "      <td>17.600000</td>\n",
              "      <td>0.400000</td>\n",
              "      <td>23.400000</td>\n",
              "      <td>16.800000</td>\n",
              "      <td>14.300000</td>\n",
              "      <td>11.800000</td>\n",
              "      <td>2.600000</td>\n",
              "      <td>11.008762</td>\n",
              "      <td>0.000000</td>\n",
              "      <td>0.000000</td>\n",
              "      <td>0.000000</td>\n",
              "      <td>23.915652</td>\n",
              "      <td>0.000000</td>\n",
              "      <td>66.300000</td>\n",
              "    </tr>\n",
              "    <tr>\n",
              "      <th>25%</th>\n",
              "      <td>80.000000</td>\n",
              "      <td>29.000000</td>\n",
              "      <td>421.800000</td>\n",
              "      <td>38752.000000</td>\n",
              "      <td>1.236850e+04</td>\n",
              "      <td>12.200000</td>\n",
              "      <td>0.000000</td>\n",
              "      <td>37.900000</td>\n",
              "      <td>36.400000</td>\n",
              "      <td>39.200000</td>\n",
              "      <td>2.370000</td>\n",
              "      <td>47.800000</td>\n",
              "      <td>12.800000</td>\n",
              "      <td>29.300000</td>\n",
              "      <td>34.000000</td>\n",
              "      <td>3.100000</td>\n",
              "      <td>30.650000</td>\n",
              "      <td>9.300000</td>\n",
              "      <td>48.600000</td>\n",
              "      <td>5.500000</td>\n",
              "      <td>57.500000</td>\n",
              "      <td>41.300000</td>\n",
              "      <td>34.700000</td>\n",
              "      <td>31.000000</td>\n",
              "      <td>14.900000</td>\n",
              "      <td>78.012571</td>\n",
              "      <td>0.616576</td>\n",
              "      <td>0.261748</td>\n",
              "      <td>0.282825</td>\n",
              "      <td>47.736828</td>\n",
              "      <td>4.499936</td>\n",
              "      <td>161.400000</td>\n",
              "    </tr>\n",
              "    <tr>\n",
              "      <th>50%</th>\n",
              "      <td>171.000000</td>\n",
              "      <td>62.000000</td>\n",
              "      <td>453.549422</td>\n",
              "      <td>45098.000000</td>\n",
              "      <td>2.677700e+04</td>\n",
              "      <td>15.900000</td>\n",
              "      <td>0.000000</td>\n",
              "      <td>41.000000</td>\n",
              "      <td>39.500000</td>\n",
              "      <td>42.400000</td>\n",
              "      <td>2.500000</td>\n",
              "      <td>52.500000</td>\n",
              "      <td>17.200000</td>\n",
              "      <td>34.700000</td>\n",
              "      <td>41.000000</td>\n",
              "      <td>5.300000</td>\n",
              "      <td>35.400000</td>\n",
              "      <td>12.300000</td>\n",
              "      <td>54.400000</td>\n",
              "      <td>7.600000</td>\n",
              "      <td>65.300000</td>\n",
              "      <td>48.700000</td>\n",
              "      <td>41.300000</td>\n",
              "      <td>36.300000</td>\n",
              "      <td>18.800000</td>\n",
              "      <td>90.318790</td>\n",
              "      <td>2.276756</td>\n",
              "      <td>0.557031</td>\n",
              "      <td>0.791571</td>\n",
              "      <td>51.757925</td>\n",
              "      <td>5.384471</td>\n",
              "      <td>178.300000</td>\n",
              "    </tr>\n",
              "    <tr>\n",
              "      <th>75%</th>\n",
              "      <td>508.000000</td>\n",
              "      <td>148.000000</td>\n",
              "      <td>481.300000</td>\n",
              "      <td>52410.500000</td>\n",
              "      <td>6.853600e+04</td>\n",
              "      <td>20.400000</td>\n",
              "      <td>86.581336</td>\n",
              "      <td>43.900000</td>\n",
              "      <td>42.500000</td>\n",
              "      <td>45.300000</td>\n",
              "      <td>2.630000</td>\n",
              "      <td>56.500000</td>\n",
              "      <td>22.600000</td>\n",
              "      <td>40.700000</td>\n",
              "      <td>46.900000</td>\n",
              "      <td>8.100000</td>\n",
              "      <td>39.700000</td>\n",
              "      <td>16.100000</td>\n",
              "      <td>60.300000</td>\n",
              "      <td>9.700000</td>\n",
              "      <td>72.200000</td>\n",
              "      <td>55.700000</td>\n",
              "      <td>47.700000</td>\n",
              "      <td>41.400000</td>\n",
              "      <td>23.000000</td>\n",
              "      <td>95.577396</td>\n",
              "      <td>10.326954</td>\n",
              "      <td>1.189955</td>\n",
              "      <td>2.080241</td>\n",
              "      <td>55.465803</td>\n",
              "      <td>6.473896</td>\n",
              "      <td>195.500000</td>\n",
              "    </tr>\n",
              "    <tr>\n",
              "      <th>max</th>\n",
              "      <td>24965.000000</td>\n",
              "      <td>9445.000000</td>\n",
              "      <td>1206.900000</td>\n",
              "      <td>125635.000000</td>\n",
              "      <td>5.238216e+06</td>\n",
              "      <td>47.000000</td>\n",
              "      <td>9762.308998</td>\n",
              "      <td>525.600000</td>\n",
              "      <td>64.700000</td>\n",
              "      <td>65.700000</td>\n",
              "      <td>3.930000</td>\n",
              "      <td>72.500000</td>\n",
              "      <td>64.100000</td>\n",
              "      <td>72.500000</td>\n",
              "      <td>79.000000</td>\n",
              "      <td>51.800000</td>\n",
              "      <td>54.800000</td>\n",
              "      <td>40.400000</td>\n",
              "      <td>76.500000</td>\n",
              "      <td>29.400000</td>\n",
              "      <td>92.300000</td>\n",
              "      <td>78.900000</td>\n",
              "      <td>70.700000</td>\n",
              "      <td>65.100000</td>\n",
              "      <td>46.600000</td>\n",
              "      <td>100.000000</td>\n",
              "      <td>84.866024</td>\n",
              "      <td>35.640183</td>\n",
              "      <td>38.743747</td>\n",
              "      <td>71.703057</td>\n",
              "      <td>21.326165</td>\n",
              "      <td>362.800000</td>\n",
              "    </tr>\n",
              "  </tbody>\n",
              "</table>\n",
              "</div>"
            ],
            "text/plain": [
              "        avgAnnCount  avgDeathsPerYear  ...    BirthRate  TARGET_deathRate\n",
              "count   3051.000000       3051.000000  ...  3051.000000       3051.000000\n",
              "mean     570.668154        176.000983  ...     5.608851        178.909767\n",
              "std     1250.546532        445.042777  ...     1.955201         27.570075\n",
              "min        6.000000          3.000000  ...     0.000000         66.300000\n",
              "25%       80.000000         29.000000  ...     4.499936        161.400000\n",
              "50%      171.000000         62.000000  ...     5.384471        178.300000\n",
              "75%      508.000000        148.000000  ...     6.473896        195.500000\n",
              "max    24965.000000       9445.000000  ...    21.326165        362.800000\n",
              "\n",
              "[8 rows x 32 columns]"
            ]
          },
          "metadata": {
            "tags": []
          },
          "execution_count": 12
        }
      ]
    },
    {
      "cell_type": "code",
      "metadata": {
        "colab": {
          "base_uri": "https://localhost:8080/",
          "height": 302
        },
        "id": "5c_B6mKGC1og",
        "outputId": "3da36c5b-1716-49b5-aab3-800b5cb6d7da"
      },
      "source": [
        "test_data.describe()"
      ],
      "execution_count": 13,
      "outputs": [
        {
          "output_type": "execute_result",
          "data": {
            "text/html": [
              "<div>\n",
              "<style scoped>\n",
              "    .dataframe tbody tr th:only-of-type {\n",
              "        vertical-align: middle;\n",
              "    }\n",
              "\n",
              "    .dataframe tbody tr th {\n",
              "        vertical-align: top;\n",
              "    }\n",
              "\n",
              "    .dataframe thead th {\n",
              "        text-align: right;\n",
              "    }\n",
              "</style>\n",
              "<table border=\"1\" class=\"dataframe\">\n",
              "  <thead>\n",
              "    <tr style=\"text-align: right;\">\n",
              "      <th></th>\n",
              "      <th>avgAnnCount</th>\n",
              "      <th>avgDeathsPerYear</th>\n",
              "      <th>incidenceRate</th>\n",
              "      <th>medIncome</th>\n",
              "      <th>popEst2015</th>\n",
              "      <th>povertyPercent</th>\n",
              "      <th>studyPerCap</th>\n",
              "      <th>MedianAge</th>\n",
              "      <th>MedianAgeMale</th>\n",
              "      <th>MedianAgeFemale</th>\n",
              "      <th>AvgHouseholdSize</th>\n",
              "      <th>PercentMarried</th>\n",
              "      <th>PctNoHS18_24</th>\n",
              "      <th>PctHS18_24</th>\n",
              "      <th>PctSomeCol18_24</th>\n",
              "      <th>PctBachDeg18_24</th>\n",
              "      <th>PctHS25_Over</th>\n",
              "      <th>PctBachDeg25_Over</th>\n",
              "      <th>PctEmployed16_Over</th>\n",
              "      <th>PctUnemployed16_Over</th>\n",
              "      <th>PctPrivateCoverage</th>\n",
              "      <th>PctPrivateCoverageAlone</th>\n",
              "      <th>PctEmpPrivCoverage</th>\n",
              "      <th>PctPublicCoverage</th>\n",
              "      <th>PctPublicCoverageAlone</th>\n",
              "      <th>PctWhite</th>\n",
              "      <th>PctBlack</th>\n",
              "      <th>PctAsian</th>\n",
              "      <th>PctOtherRace</th>\n",
              "      <th>PctMarriedHouseholds</th>\n",
              "      <th>BirthRate</th>\n",
              "    </tr>\n",
              "  </thead>\n",
              "  <tbody>\n",
              "    <tr>\n",
              "      <th>count</th>\n",
              "      <td>762.000000</td>\n",
              "      <td>762.000000</td>\n",
              "      <td>762.000000</td>\n",
              "      <td>762.000000</td>\n",
              "      <td>7.620000e+02</td>\n",
              "      <td>762.000000</td>\n",
              "      <td>762.000000</td>\n",
              "      <td>762.000000</td>\n",
              "      <td>762.000000</td>\n",
              "      <td>762.000000</td>\n",
              "      <td>762.000000</td>\n",
              "      <td>762.000000</td>\n",
              "      <td>762.000000</td>\n",
              "      <td>762.000000</td>\n",
              "      <td>182.000000</td>\n",
              "      <td>762.000000</td>\n",
              "      <td>762.000000</td>\n",
              "      <td>762.000000</td>\n",
              "      <td>729.000000</td>\n",
              "      <td>762.000000</td>\n",
              "      <td>762.000000</td>\n",
              "      <td>614.000000</td>\n",
              "      <td>762.000000</td>\n",
              "      <td>762.000000</td>\n",
              "      <td>762.000000</td>\n",
              "      <td>762.000000</td>\n",
              "      <td>762.000000</td>\n",
              "      <td>762.000000</td>\n",
              "      <td>762.000000</td>\n",
              "      <td>762.000000</td>\n",
              "      <td>762.000000</td>\n",
              "    </tr>\n",
              "    <tr>\n",
              "      <th>mean</th>\n",
              "      <td>711.605491</td>\n",
              "      <td>220.711286</td>\n",
              "      <td>447.204162</td>\n",
              "      <td>47029.500000</td>\n",
              "      <td>1.282696e+05</td>\n",
              "      <td>16.980315</td>\n",
              "      <td>147.999759</td>\n",
              "      <td>47.133858</td>\n",
              "      <td>39.620997</td>\n",
              "      <td>42.022178</td>\n",
              "      <td>2.500591</td>\n",
              "      <td>51.539108</td>\n",
              "      <td>18.150394</td>\n",
              "      <td>35.191207</td>\n",
              "      <td>40.574176</td>\n",
              "      <td>6.231102</td>\n",
              "      <td>34.533333</td>\n",
              "      <td>13.391207</td>\n",
              "      <td>54.027435</td>\n",
              "      <td>7.967585</td>\n",
              "      <td>63.701050</td>\n",
              "      <td>47.805700</td>\n",
              "      <td>40.608661</td>\n",
              "      <td>36.477428</td>\n",
              "      <td>19.569554</td>\n",
              "      <td>82.788278</td>\n",
              "      <td>8.896343</td>\n",
              "      <td>1.340419</td>\n",
              "      <td>2.254919</td>\n",
              "      <td>50.926053</td>\n",
              "      <td>5.736898</td>\n",
              "    </tr>\n",
              "    <tr>\n",
              "      <th>std</th>\n",
              "      <td>1940.045693</td>\n",
              "      <td>695.011673</td>\n",
              "      <td>56.745238</td>\n",
              "      <td>11986.997138</td>\n",
              "      <td>4.792013e+05</td>\n",
              "      <td>6.536684</td>\n",
              "      <td>480.782424</td>\n",
              "      <td>56.374276</td>\n",
              "      <td>5.469577</td>\n",
              "      <td>5.491687</td>\n",
              "      <td>0.403520</td>\n",
              "      <td>7.181519</td>\n",
              "      <td>7.939906</td>\n",
              "      <td>9.011131</td>\n",
              "      <td>11.438374</td>\n",
              "      <td>4.225098</td>\n",
              "      <td>7.113428</td>\n",
              "      <td>5.503342</td>\n",
              "      <td>8.535290</td>\n",
              "      <td>3.534852</td>\n",
              "      <td>11.037942</td>\n",
              "      <td>10.386014</td>\n",
              "      <td>9.816577</td>\n",
              "      <td>8.237832</td>\n",
              "      <td>6.459500</td>\n",
              "      <td>17.320289</td>\n",
              "      <td>14.432993</td>\n",
              "      <td>2.972052</td>\n",
              "      <td>4.090086</td>\n",
              "      <td>6.800150</td>\n",
              "      <td>2.065069</td>\n",
              "    </tr>\n",
              "    <tr>\n",
              "      <th>min</th>\n",
              "      <td>7.000000</td>\n",
              "      <td>3.000000</td>\n",
              "      <td>201.300000</td>\n",
              "      <td>24707.000000</td>\n",
              "      <td>1.337000e+03</td>\n",
              "      <td>4.000000</td>\n",
              "      <td>0.000000</td>\n",
              "      <td>23.300000</td>\n",
              "      <td>22.800000</td>\n",
              "      <td>22.800000</td>\n",
              "      <td>0.024000</td>\n",
              "      <td>23.100000</td>\n",
              "      <td>1.500000</td>\n",
              "      <td>7.100000</td>\n",
              "      <td>10.100000</td>\n",
              "      <td>0.000000</td>\n",
              "      <td>11.500000</td>\n",
              "      <td>2.500000</td>\n",
              "      <td>23.900000</td>\n",
              "      <td>0.700000</td>\n",
              "      <td>22.300000</td>\n",
              "      <td>15.700000</td>\n",
              "      <td>13.500000</td>\n",
              "      <td>11.200000</td>\n",
              "      <td>5.700000</td>\n",
              "      <td>10.199155</td>\n",
              "      <td>0.000000</td>\n",
              "      <td>0.000000</td>\n",
              "      <td>0.000000</td>\n",
              "      <td>22.992490</td>\n",
              "      <td>0.000000</td>\n",
              "    </tr>\n",
              "    <tr>\n",
              "      <th>25%</th>\n",
              "      <td>68.000000</td>\n",
              "      <td>26.000000</td>\n",
              "      <td>417.375000</td>\n",
              "      <td>38730.500000</td>\n",
              "      <td>1.075350e+04</td>\n",
              "      <td>12.300000</td>\n",
              "      <td>0.000000</td>\n",
              "      <td>37.500000</td>\n",
              "      <td>36.225000</td>\n",
              "      <td>38.900000</td>\n",
              "      <td>2.370000</td>\n",
              "      <td>47.700000</td>\n",
              "      <td>12.700000</td>\n",
              "      <td>29.125000</td>\n",
              "      <td>33.700000</td>\n",
              "      <td>3.225000</td>\n",
              "      <td>29.625000</td>\n",
              "      <td>9.500000</td>\n",
              "      <td>48.100000</td>\n",
              "      <td>5.800000</td>\n",
              "      <td>56.300000</td>\n",
              "      <td>39.950000</td>\n",
              "      <td>33.525000</td>\n",
              "      <td>30.800000</td>\n",
              "      <td>14.925000</td>\n",
              "      <td>76.468705</td>\n",
              "      <td>0.613335</td>\n",
              "      <td>0.236915</td>\n",
              "      <td>0.297753</td>\n",
              "      <td>47.607275</td>\n",
              "      <td>4.608878</td>\n",
              "    </tr>\n",
              "    <tr>\n",
              "      <th>50%</th>\n",
              "      <td>162.500000</td>\n",
              "      <td>60.000000</td>\n",
              "      <td>453.549422</td>\n",
              "      <td>45238.500000</td>\n",
              "      <td>2.611850e+04</td>\n",
              "      <td>15.800000</td>\n",
              "      <td>0.000000</td>\n",
              "      <td>41.100000</td>\n",
              "      <td>39.800000</td>\n",
              "      <td>42.350000</td>\n",
              "      <td>2.500000</td>\n",
              "      <td>52.250000</td>\n",
              "      <td>17.100000</td>\n",
              "      <td>35.000000</td>\n",
              "      <td>39.300000</td>\n",
              "      <td>5.500000</td>\n",
              "      <td>34.950000</td>\n",
              "      <td>12.300000</td>\n",
              "      <td>54.600000</td>\n",
              "      <td>7.500000</td>\n",
              "      <td>64.300000</td>\n",
              "      <td>48.250000</td>\n",
              "      <td>40.600000</td>\n",
              "      <td>36.600000</td>\n",
              "      <td>18.950000</td>\n",
              "      <td>89.464327</td>\n",
              "      <td>2.120925</td>\n",
              "      <td>0.538765</td>\n",
              "      <td>0.846727</td>\n",
              "      <td>51.336903</td>\n",
              "      <td>5.367187</td>\n",
              "    </tr>\n",
              "    <tr>\n",
              "      <th>75%</th>\n",
              "      <td>535.750000</td>\n",
              "      <td>151.000000</td>\n",
              "      <td>479.875000</td>\n",
              "      <td>52310.500000</td>\n",
              "      <td>7.086150e+04</td>\n",
              "      <td>20.400000</td>\n",
              "      <td>80.313645</td>\n",
              "      <td>44.275000</td>\n",
              "      <td>42.875000</td>\n",
              "      <td>45.500000</td>\n",
              "      <td>2.640000</td>\n",
              "      <td>56.100000</td>\n",
              "      <td>22.975000</td>\n",
              "      <td>40.575000</td>\n",
              "      <td>45.475000</td>\n",
              "      <td>8.375000</td>\n",
              "      <td>39.500000</td>\n",
              "      <td>16.100000</td>\n",
              "      <td>60.100000</td>\n",
              "      <td>9.900000</td>\n",
              "      <td>71.800000</td>\n",
              "      <td>55.500000</td>\n",
              "      <td>47.275000</td>\n",
              "      <td>42.175000</td>\n",
              "      <td>23.775000</td>\n",
              "      <td>95.162772</td>\n",
              "      <td>10.811476</td>\n",
              "      <td>1.325862</td>\n",
              "      <td>2.382843</td>\n",
              "      <td>55.208111</td>\n",
              "      <td>6.583930</td>\n",
              "    </tr>\n",
              "    <tr>\n",
              "      <th>max</th>\n",
              "      <td>38150.000000</td>\n",
              "      <td>14010.000000</td>\n",
              "      <td>1014.200000</td>\n",
              "      <td>103876.000000</td>\n",
              "      <td>1.017029e+07</td>\n",
              "      <td>47.400000</td>\n",
              "      <td>6810.442679</td>\n",
              "      <td>624.000000</td>\n",
              "      <td>58.600000</td>\n",
              "      <td>58.000000</td>\n",
              "      <td>3.970000</td>\n",
              "      <td>72.300000</td>\n",
              "      <td>59.100000</td>\n",
              "      <td>66.200000</td>\n",
              "      <td>78.300000</td>\n",
              "      <td>32.600000</td>\n",
              "      <td>50.200000</td>\n",
              "      <td>42.200000</td>\n",
              "      <td>80.100000</td>\n",
              "      <td>25.400000</td>\n",
              "      <td>87.900000</td>\n",
              "      <td>76.300000</td>\n",
              "      <td>68.800000</td>\n",
              "      <td>62.200000</td>\n",
              "      <td>43.300000</td>\n",
              "      <td>99.693045</td>\n",
              "      <td>85.947799</td>\n",
              "      <td>42.619425</td>\n",
              "      <td>41.930251</td>\n",
              "      <td>78.075397</td>\n",
              "      <td>18.556701</td>\n",
              "    </tr>\n",
              "  </tbody>\n",
              "</table>\n",
              "</div>"
            ],
            "text/plain": [
              "        avgAnnCount  avgDeathsPerYear  ...  PctMarriedHouseholds   BirthRate\n",
              "count    762.000000        762.000000  ...            762.000000  762.000000\n",
              "mean     711.605491        220.711286  ...             50.926053    5.736898\n",
              "std     1940.045693        695.011673  ...              6.800150    2.065069\n",
              "min        7.000000          3.000000  ...             22.992490    0.000000\n",
              "25%       68.000000         26.000000  ...             47.607275    4.608878\n",
              "50%      162.500000         60.000000  ...             51.336903    5.367187\n",
              "75%      535.750000        151.000000  ...             55.208111    6.583930\n",
              "max    38150.000000      14010.000000  ...             78.075397   18.556701\n",
              "\n",
              "[8 rows x 31 columns]"
            ]
          },
          "metadata": {
            "tags": []
          },
          "execution_count": 13
        }
      ]
    },
    {
      "cell_type": "code",
      "metadata": {
        "colab": {
          "base_uri": "https://localhost:8080/"
        },
        "id": "LLqxPlA3C37E",
        "outputId": "896dad8c-da66-434a-b3dd-ef69b3290752"
      },
      "source": [
        "train_data.isnull().sum()"
      ],
      "execution_count": 14,
      "outputs": [
        {
          "output_type": "execute_result",
          "data": {
            "text/plain": [
              "avgAnnCount                   0\n",
              "avgDeathsPerYear              0\n",
              "incidenceRate                 0\n",
              "medIncome                     0\n",
              "popEst2015                    0\n",
              "povertyPercent                0\n",
              "studyPerCap                   0\n",
              "binnedInc                     0\n",
              "MedianAge                     0\n",
              "MedianAgeMale                 0\n",
              "MedianAgeFemale               0\n",
              "Geography                     0\n",
              "AvgHouseholdSize              0\n",
              "PercentMarried                0\n",
              "PctNoHS18_24                  0\n",
              "PctHS18_24                    0\n",
              "PctSomeCol18_24            2266\n",
              "PctBachDeg18_24               0\n",
              "PctHS25_Over                  0\n",
              "PctBachDeg25_Over             0\n",
              "PctEmployed16_Over          152\n",
              "PctUnemployed16_Over          0\n",
              "PctPrivateCoverage            0\n",
              "PctPrivateCoverageAlone     604\n",
              "PctEmpPrivCoverage            0\n",
              "PctPublicCoverage             0\n",
              "PctPublicCoverageAlone        0\n",
              "PctWhite                      0\n",
              "PctBlack                      0\n",
              "PctAsian                      0\n",
              "PctOtherRace                  0\n",
              "PctMarriedHouseholds          0\n",
              "BirthRate                     0\n",
              "TARGET_deathRate              0\n",
              "dtype: int64"
            ]
          },
          "metadata": {
            "tags": []
          },
          "execution_count": 14
        }
      ]
    },
    {
      "cell_type": "code",
      "metadata": {
        "id": "vn9G3pvdDCfl"
      },
      "source": [
        "# filling missing values with mean since they are numeric values\r\n",
        "\r\n",
        "train_data= train_data.fillna(train_data.mean())"
      ],
      "execution_count": 15,
      "outputs": []
    },
    {
      "cell_type": "code",
      "metadata": {
        "colab": {
          "base_uri": "https://localhost:8080/"
        },
        "id": "EYNIKdndDNLk",
        "outputId": "c06477bb-7427-473c-b3bc-fef578b103ee"
      },
      "source": [
        "train_data.isnull().sum()"
      ],
      "execution_count": 16,
      "outputs": [
        {
          "output_type": "execute_result",
          "data": {
            "text/plain": [
              "avgAnnCount                0\n",
              "avgDeathsPerYear           0\n",
              "incidenceRate              0\n",
              "medIncome                  0\n",
              "popEst2015                 0\n",
              "povertyPercent             0\n",
              "studyPerCap                0\n",
              "binnedInc                  0\n",
              "MedianAge                  0\n",
              "MedianAgeMale              0\n",
              "MedianAgeFemale            0\n",
              "Geography                  0\n",
              "AvgHouseholdSize           0\n",
              "PercentMarried             0\n",
              "PctNoHS18_24               0\n",
              "PctHS18_24                 0\n",
              "PctSomeCol18_24            0\n",
              "PctBachDeg18_24            0\n",
              "PctHS25_Over               0\n",
              "PctBachDeg25_Over          0\n",
              "PctEmployed16_Over         0\n",
              "PctUnemployed16_Over       0\n",
              "PctPrivateCoverage         0\n",
              "PctPrivateCoverageAlone    0\n",
              "PctEmpPrivCoverage         0\n",
              "PctPublicCoverage          0\n",
              "PctPublicCoverageAlone     0\n",
              "PctWhite                   0\n",
              "PctBlack                   0\n",
              "PctAsian                   0\n",
              "PctOtherRace               0\n",
              "PctMarriedHouseholds       0\n",
              "BirthRate                  0\n",
              "TARGET_deathRate           0\n",
              "dtype: int64"
            ]
          },
          "metadata": {
            "tags": []
          },
          "execution_count": 16
        }
      ]
    },
    {
      "cell_type": "code",
      "metadata": {
        "colab": {
          "base_uri": "https://localhost:8080/"
        },
        "id": "pRvspvtGDPcD",
        "outputId": "9de93f3f-3f40-4604-ce5e-00be494d81af"
      },
      "source": [
        "test_data.isnull().sum()"
      ],
      "execution_count": 17,
      "outputs": [
        {
          "output_type": "execute_result",
          "data": {
            "text/plain": [
              "avgAnnCount                  0\n",
              "avgDeathsPerYear             0\n",
              "incidenceRate                0\n",
              "medIncome                    0\n",
              "popEst2015                   0\n",
              "povertyPercent               0\n",
              "studyPerCap                  0\n",
              "binnedInc                    0\n",
              "MedianAge                    0\n",
              "MedianAgeMale                0\n",
              "MedianAgeFemale              0\n",
              "Geography                    0\n",
              "AvgHouseholdSize             0\n",
              "PercentMarried               0\n",
              "PctNoHS18_24                 0\n",
              "PctHS18_24                   0\n",
              "PctSomeCol18_24            580\n",
              "PctBachDeg18_24              0\n",
              "PctHS25_Over                 0\n",
              "PctBachDeg25_Over            0\n",
              "PctEmployed16_Over          33\n",
              "PctUnemployed16_Over         0\n",
              "PctPrivateCoverage           0\n",
              "PctPrivateCoverageAlone    148\n",
              "PctEmpPrivCoverage           0\n",
              "PctPublicCoverage            0\n",
              "PctPublicCoverageAlone       0\n",
              "PctWhite                     0\n",
              "PctBlack                     0\n",
              "PctAsian                     0\n",
              "PctOtherRace                 0\n",
              "PctMarriedHouseholds         0\n",
              "BirthRate                    0\n",
              "dtype: int64"
            ]
          },
          "metadata": {
            "tags": []
          },
          "execution_count": 17
        }
      ]
    },
    {
      "cell_type": "code",
      "metadata": {
        "id": "r7Lu1E71DSRy"
      },
      "source": [
        "# filling missing values with mean since they are numeric values\r\n",
        "\r\n",
        "test_data= test_data.fillna(test_data.mean())"
      ],
      "execution_count": 18,
      "outputs": []
    },
    {
      "cell_type": "code",
      "metadata": {
        "colab": {
          "base_uri": "https://localhost:8080/"
        },
        "id": "SZUdD1L5DZ75",
        "outputId": "45b6cf5d-b19e-4915-ab80-fb7b35addf24"
      },
      "source": [
        "test_data.isnull().sum()"
      ],
      "execution_count": 19,
      "outputs": [
        {
          "output_type": "execute_result",
          "data": {
            "text/plain": [
              "avgAnnCount                0\n",
              "avgDeathsPerYear           0\n",
              "incidenceRate              0\n",
              "medIncome                  0\n",
              "popEst2015                 0\n",
              "povertyPercent             0\n",
              "studyPerCap                0\n",
              "binnedInc                  0\n",
              "MedianAge                  0\n",
              "MedianAgeMale              0\n",
              "MedianAgeFemale            0\n",
              "Geography                  0\n",
              "AvgHouseholdSize           0\n",
              "PercentMarried             0\n",
              "PctNoHS18_24               0\n",
              "PctHS18_24                 0\n",
              "PctSomeCol18_24            0\n",
              "PctBachDeg18_24            0\n",
              "PctHS25_Over               0\n",
              "PctBachDeg25_Over          0\n",
              "PctEmployed16_Over         0\n",
              "PctUnemployed16_Over       0\n",
              "PctPrivateCoverage         0\n",
              "PctPrivateCoverageAlone    0\n",
              "PctEmpPrivCoverage         0\n",
              "PctPublicCoverage          0\n",
              "PctPublicCoverageAlone     0\n",
              "PctWhite                   0\n",
              "PctBlack                   0\n",
              "PctAsian                   0\n",
              "PctOtherRace               0\n",
              "PctMarriedHouseholds       0\n",
              "BirthRate                  0\n",
              "dtype: int64"
            ]
          },
          "metadata": {
            "tags": []
          },
          "execution_count": 19
        }
      ]
    },
    {
      "cell_type": "code",
      "metadata": {
        "colab": {
          "base_uri": "https://localhost:8080/",
          "height": 730
        },
        "id": "x8Q82RDrDfgR",
        "outputId": "2e65b087-88ef-4752-ec34-3430e10d829a"
      },
      "source": [
        "plt.figure(figsize = (25,10))\r\n",
        "\r\n",
        "sns.heatmap(train_data.corr(), annot= True)"
      ],
      "execution_count": 20,
      "outputs": [
        {
          "output_type": "execute_result",
          "data": {
            "text/plain": [
              "<matplotlib.axes._subplots.AxesSubplot at 0x7f42bb312b00>"
            ]
          },
          "metadata": {
            "tags": []
          },
          "execution_count": 20
        },
        {
          "output_type": "display_data",
          "data": {
            "image/png": "[encoded data removed]",
            "text/plain": [
              "<Figure size 1800x720 with 2 Axes>"
            ]
          },
          "metadata": {
            "tags": [],
            "needs_background": "light"
          }
        }
      ]
    },
    {
      "cell_type": "code",
      "metadata": {
        "id": "ZBSVFsVeDnQx",
        "colab": {
          "base_uri": "https://localhost:8080/"
        },
        "outputId": "586ac73c-4d13-48f4-9b3b-c3c86efc9ae1"
      },
      "source": [
        "train_data['binnedInc'].value_counts()"
      ],
      "execution_count": 21,
      "outputs": [
        {
          "output_type": "execute_result",
          "data": {
            "text/plain": [
              "(37413.8, 40362.7]    318\n",
              "(51046.4, 54545.6]    318\n",
              "(54545.6, 61494.5]    315\n",
              "(34218.1, 37413.8]    309\n",
              "(42724.4, 45201]      306\n",
              "(40362.7, 42724.4]    306\n",
              "[22640, 34218.1]      301\n",
              "(45201, 48021.6]      299\n",
              "(48021.6, 51046.4]    297\n",
              "(61494.5, 125635]     282\n",
              "Name: binnedInc, dtype: int64"
            ]
          },
          "metadata": {
            "tags": []
          },
          "execution_count": 21
        }
      ]
    },
    {
      "cell_type": "code",
      "metadata": {
        "colab": {
          "base_uri": "https://localhost:8080/"
        },
        "id": "NI5fpw2EDxeF",
        "outputId": "50167bec-29b3-4035-f05e-c8f64fde999e"
      },
      "source": [
        "train_data['Geography'].value_counts()"
      ],
      "execution_count": 26,
      "outputs": [
        {
          "output_type": "execute_result",
          "data": {
            "text/plain": [
              "Glades County, Florida             2\n",
              "Harrison County, Texas             2\n",
              "Greeley County, Nebraska           2\n",
              "Gilmer County, Georgia             2\n",
              "Mariposa County, California        2\n",
              "                                  ..\n",
              "Nome Census Area, Alaska           1\n",
              "Concordia Parish, Louisiana        1\n",
              "Pointe Coupee Parish, Louisiana    1\n",
              "Monroe County, Illinois            1\n",
              "Edmonson County, Kentucky          1\n",
              "Name: Geography, Length: 2285, dtype: int64"
            ]
          },
          "metadata": {
            "tags": []
          },
          "execution_count": 26
        }
      ]
    },
    {
      "cell_type": "code",
      "metadata": {
        "id": "X8X5oa65ECkO",
        "colab": {
          "base_uri": "https://localhost:8080/"
        },
        "outputId": "b737219a-5231-4cd8-d05d-41740f04b094"
      },
      "source": [
        "test_data['binnedInc'].value_counts()"
      ],
      "execution_count": 27,
      "outputs": [
        {
          "output_type": "execute_result",
          "data": {
            "text/plain": [
              "(61494.5, 125635]     84\n",
              "(45201, 48021.6]      82\n",
              "(48021.6, 51046.4]    81\n",
              "(34218.1, 37413.8]    81\n",
              "(40362.7, 42724.4]    79\n",
              "[22640, 34218.1]      79\n",
              "(42724.4, 45201]      72\n",
              "(51046.4, 54545.6]    70\n",
              "(37413.8, 40362.7]    68\n",
              "(54545.6, 61494.5]    66\n",
              "Name: binnedInc, dtype: int64"
            ]
          },
          "metadata": {
            "tags": []
          },
          "execution_count": 27
        }
      ]
    },
    {
      "cell_type": "code",
      "metadata": {
        "colab": {
          "base_uri": "https://localhost:8080/"
        },
        "id": "aJxci8LyD8hY",
        "outputId": "395b771f-e0d5-4da6-c8a5-67df3a924aa6"
      },
      "source": [
        "test_data['Geography'].value_counts()"
      ],
      "execution_count": 28,
      "outputs": [
        {
          "output_type": "execute_result",
          "data": {
            "text/plain": [
              "Osceola County, Florida         1\n",
              "Lander County, Nevada           1\n",
              "Leavenworth County, Kansas      1\n",
              "Hartford County, Connecticut    1\n",
              "Edwards County, Illinois        1\n",
              "                               ..\n",
              "Hart County, Kentucky           1\n",
              "Kent County, Michigan           1\n",
              "Washburn County, Wisconsin      1\n",
              "Vanderburgh County, Indiana     1\n",
              "Lancaster County, Nebraska      1\n",
              "Name: Geography, Length: 762, dtype: int64"
            ]
          },
          "metadata": {
            "tags": []
          },
          "execution_count": 28
        }
      ]
    },
    {
      "cell_type": "code",
      "metadata": {
        "colab": {
          "base_uri": "https://localhost:8080/"
        },
        "id": "T0d1LKzSEP4U",
        "outputId": "6fbffd31-a30b-4f32-84b4-57d4973d09de"
      },
      "source": [
        "train_data.duplicated().sum()"
      ],
      "execution_count": 29,
      "outputs": [
        {
          "output_type": "execute_result",
          "data": {
            "text/plain": [
              "766"
            ]
          },
          "metadata": {
            "tags": []
          },
          "execution_count": 29
        }
      ]
    },
    {
      "cell_type": "code",
      "metadata": {
        "colab": {
          "base_uri": "https://localhost:8080/"
        },
        "id": "OFm8yz0KJgE1",
        "outputId": "1d87d109-e251-46b7-8996-3ffd4821132b"
      },
      "source": [
        "test_data.duplicated().sum()"
      ],
      "execution_count": 30,
      "outputs": [
        {
          "output_type": "execute_result",
          "data": {
            "text/plain": [
              "0"
            ]
          },
          "metadata": {
            "tags": []
          },
          "execution_count": 30
        }
      ]
    },
    {
      "cell_type": "code",
      "metadata": {
        "id": "xnAtGoaLKj98"
      },
      "source": [
        "# converting the categorical column in the train dataset to numerical\r\n",
        "\r\n",
        "train_data['Geography'] = train_data['Geography'].astype('category').cat.codes"
      ],
      "execution_count": 36,
      "outputs": []
    },
    {
      "cell_type": "code",
      "metadata": {
        "id": "Z2WnORKzS_8e"
      },
      "source": [
        "train_data['binnedInc'] = train_data['binnedInc'].astype('category').cat.codes"
      ],
      "execution_count": 37,
      "outputs": []
    },
    {
      "cell_type": "code",
      "metadata": {
        "colab": {
          "base_uri": "https://localhost:8080/"
        },
        "id": "P5qBFNjsTJJU",
        "outputId": "9ed7368f-8171-42b0-d39e-0e6ad10fb835"
      },
      "source": [
        "train_data.info()"
      ],
      "execution_count": 38,
      "outputs": [
        {
          "output_type": "stream",
          "text": [
            "<class 'pandas.core.frame.DataFrame'>\n",
            "RangeIndex: 3051 entries, 0 to 3050\n",
            "Data columns (total 34 columns):\n",
            " #   Column                   Non-Null Count  Dtype  \n",
            "---  ------                   --------------  -----  \n",
            " 0   avgAnnCount              3051 non-null   float64\n",
            " 1   avgDeathsPerYear         3051 non-null   int64  \n",
            " 2   incidenceRate            3051 non-null   float64\n",
            " 3   medIncome                3051 non-null   int64  \n",
            " 4   popEst2015               3051 non-null   int64  \n",
            " 5   povertyPercent           3051 non-null   float64\n",
            " 6   studyPerCap              3051 non-null   float64\n",
            " 7   binnedInc                3051 non-null   int8   \n",
            " 8   MedianAge                3051 non-null   float64\n",
            " 9   MedianAgeMale            3051 non-null   float64\n",
            " 10  MedianAgeFemale          3051 non-null   float64\n",
            " 11  Geography                3051 non-null   int16  \n",
            " 12  AvgHouseholdSize         3051 non-null   float64\n",
            " 13  PercentMarried           3051 non-null   float64\n",
            " 14  PctNoHS18_24             3051 non-null   float64\n",
            " 15  PctHS18_24               3051 non-null   float64\n",
            " 16  PctSomeCol18_24          3051 non-null   float64\n",
            " 17  PctBachDeg18_24          3051 non-null   float64\n",
            " 18  PctHS25_Over             3051 non-null   float64\n",
            " 19  PctBachDeg25_Over        3051 non-null   float64\n",
            " 20  PctEmployed16_Over       3051 non-null   float64\n",
            " 21  PctUnemployed16_Over     3051 non-null   float64\n",
            " 22  PctPrivateCoverage       3051 non-null   float64\n",
            " 23  PctPrivateCoverageAlone  3051 non-null   float64\n",
            " 24  PctEmpPrivCoverage       3051 non-null   float64\n",
            " 25  PctPublicCoverage        3051 non-null   float64\n",
            " 26  PctPublicCoverageAlone   3051 non-null   float64\n",
            " 27  PctWhite                 3051 non-null   float64\n",
            " 28  PctBlack                 3051 non-null   float64\n",
            " 29  PctAsian                 3051 non-null   float64\n",
            " 30  PctOtherRace             3051 non-null   float64\n",
            " 31  PctMarriedHouseholds     3051 non-null   float64\n",
            " 32  BirthRate                3051 non-null   float64\n",
            " 33  TARGET_deathRate         3051 non-null   float64\n",
            "dtypes: float64(29), int16(1), int64(3), int8(1)\n",
            "memory usage: 771.8 KB\n"
          ],
          "name": "stdout"
        }
      ]
    },
    {
      "cell_type": "code",
      "metadata": {
        "id": "AzCf_ltZTqjF"
      },
      "source": [
        "# converting the categorical column in the test dataset to numerical\r\n",
        "\r\n",
        "test_data['Geography'] = test_data['Geography'].astype('category').cat.codes"
      ],
      "execution_count": 39,
      "outputs": []
    },
    {
      "cell_type": "code",
      "metadata": {
        "id": "l7_HhcjKT1ba"
      },
      "source": [
        "test_data['binnedInc'] = test_data['binnedInc'].astype('category').cat.codes"
      ],
      "execution_count": 40,
      "outputs": []
    },
    {
      "cell_type": "code",
      "metadata": {
        "colab": {
          "base_uri": "https://localhost:8080/"
        },
        "id": "Oo04M75LT7xl",
        "outputId": "519808de-7ed1-4ba8-d1f1-4c17ab9d6860"
      },
      "source": [
        "test_data.info()"
      ],
      "execution_count": 41,
      "outputs": [
        {
          "output_type": "stream",
          "text": [
            "<class 'pandas.core.frame.DataFrame'>\n",
            "RangeIndex: 762 entries, 0 to 761\n",
            "Data columns (total 33 columns):\n",
            " #   Column                   Non-Null Count  Dtype  \n",
            "---  ------                   --------------  -----  \n",
            " 0   avgAnnCount              762 non-null    float64\n",
            " 1   avgDeathsPerYear         762 non-null    int64  \n",
            " 2   incidenceRate            762 non-null    float64\n",
            " 3   medIncome                762 non-null    int64  \n",
            " 4   popEst2015               762 non-null    int64  \n",
            " 5   povertyPercent           762 non-null    float64\n",
            " 6   studyPerCap              762 non-null    float64\n",
            " 7   binnedInc                762 non-null    int8   \n",
            " 8   MedianAge                762 non-null    float64\n",
            " 9   MedianAgeMale            762 non-null    float64\n",
            " 10  MedianAgeFemale          762 non-null    float64\n",
            " 11  Geography                762 non-null    int16  \n",
            " 12  AvgHouseholdSize         762 non-null    float64\n",
            " 13  PercentMarried           762 non-null    float64\n",
            " 14  PctNoHS18_24             762 non-null    float64\n",
            " 15  PctHS18_24               762 non-null    float64\n",
            " 16  PctSomeCol18_24          762 non-null    float64\n",
            " 17  PctBachDeg18_24          762 non-null    float64\n",
            " 18  PctHS25_Over             762 non-null    float64\n",
            " 19  PctBachDeg25_Over        762 non-null    float64\n",
            " 20  PctEmployed16_Over       762 non-null    float64\n",
            " 21  PctUnemployed16_Over     762 non-null    float64\n",
            " 22  PctPrivateCoverage       762 non-null    float64\n",
            " 23  PctPrivateCoverageAlone  762 non-null    float64\n",
            " 24  PctEmpPrivCoverage       762 non-null    float64\n",
            " 25  PctPublicCoverage        762 non-null    float64\n",
            " 26  PctPublicCoverageAlone   762 non-null    float64\n",
            " 27  PctWhite                 762 non-null    float64\n",
            " 28  PctBlack                 762 non-null    float64\n",
            " 29  PctAsian                 762 non-null    float64\n",
            " 30  PctOtherRace             762 non-null    float64\n",
            " 31  PctMarriedHouseholds     762 non-null    float64\n",
            " 32  BirthRate                762 non-null    float64\n",
            "dtypes: float64(28), int16(1), int64(3), int8(1)\n",
            "memory usage: 186.9 KB\n"
          ],
          "name": "stdout"
        }
      ]
    },
    {
      "cell_type": "code",
      "metadata": {
        "id": "yma02Bv9T-c1"
      },
      "source": [
        "## splitting the train data into target and features\r\n",
        "\r\n",
        "X = train_data.drop('TARGET_deathRate', axis= 1)\r\n",
        "\r\n",
        "y = train_data['TARGET_deathRate']"
      ],
      "execution_count": 50,
      "outputs": []
    },
    {
      "cell_type": "code",
      "metadata": {
        "colab": {
          "base_uri": "https://localhost:8080/"
        },
        "id": "Hdx3BYiIWRas",
        "outputId": "f28b1204-fd8c-44d8-f9f8-9692151f0241"
      },
      "source": [
        "col_names= X.columns\r\n",
        "col_names"
      ],
      "execution_count": 51,
      "outputs": [
        {
          "output_type": "execute_result",
          "data": {
            "text/plain": [
              "Index(['avgAnnCount', 'avgDeathsPerYear', 'incidenceRate', 'medIncome',\n",
              "       'popEst2015', 'povertyPercent', 'studyPerCap', 'binnedInc', 'MedianAge',\n",
              "       'MedianAgeMale', 'MedianAgeFemale', 'Geography', 'AvgHouseholdSize',\n",
              "       'PercentMarried', 'PctNoHS18_24', 'PctHS18_24', 'PctSomeCol18_24',\n",
              "       'PctBachDeg18_24', 'PctHS25_Over', 'PctBachDeg25_Over',\n",
              "       'PctEmployed16_Over', 'PctUnemployed16_Over', 'PctPrivateCoverage',\n",
              "       'PctPrivateCoverageAlone', 'PctEmpPrivCoverage', 'PctPublicCoverage',\n",
              "       'PctPublicCoverageAlone', 'PctWhite', 'PctBlack', 'PctAsian',\n",
              "       'PctOtherRace', 'PctMarriedHouseholds', 'BirthRate'],\n",
              "      dtype='object')"
            ]
          },
          "metadata": {
            "tags": []
          },
          "execution_count": 51
        }
      ]
    },
    {
      "cell_type": "code",
      "metadata": {
        "colab": {
          "base_uri": "https://localhost:8080/",
          "height": 214
        },
        "id": "Nx6VeTRlU3jv",
        "outputId": "977e7762-88f2-4b49-d2ae-78a901cb0115"
      },
      "source": [
        "#scaling the train data\r\n",
        "\r\n",
        "from sklearn.preprocessing import StandardScaler\r\n",
        "X = StandardScaler().fit_transform(X)\r\n",
        "X = pd.DataFrame(data= X, columns= col_names)\r\n",
        "\r\n",
        "\r\n",
        "# Let's see how the data looks after scaling\r\n",
        "X.head()"
      ],
      "execution_count": 52,
      "outputs": [
        {
          "output_type": "execute_result",
          "data": {
            "text/html": [
              "<div>\n",
              "<style scoped>\n",
              "    .dataframe tbody tr th:only-of-type {\n",
              "        vertical-align: middle;\n",
              "    }\n",
              "\n",
              "    .dataframe tbody tr th {\n",
              "        vertical-align: top;\n",
              "    }\n",
              "\n",
              "    .dataframe thead th {\n",
              "        text-align: right;\n",
              "    }\n",
              "</style>\n",
              "<table border=\"1\" class=\"dataframe\">\n",
              "  <thead>\n",
              "    <tr style=\"text-align: right;\">\n",
              "      <th></th>\n",
              "      <th>avgAnnCount</th>\n",
              "      <th>avgDeathsPerYear</th>\n",
              "      <th>incidenceRate</th>\n",
              "      <th>medIncome</th>\n",
              "      <th>popEst2015</th>\n",
              "      <th>povertyPercent</th>\n",
              "      <th>studyPerCap</th>\n",
              "      <th>binnedInc</th>\n",
              "      <th>MedianAge</th>\n",
              "      <th>MedianAgeMale</th>\n",
              "      <th>MedianAgeFemale</th>\n",
              "      <th>Geography</th>\n",
              "      <th>AvgHouseholdSize</th>\n",
              "      <th>PercentMarried</th>\n",
              "      <th>PctNoHS18_24</th>\n",
              "      <th>PctHS18_24</th>\n",
              "      <th>PctSomeCol18_24</th>\n",
              "      <th>PctBachDeg18_24</th>\n",
              "      <th>PctHS25_Over</th>\n",
              "      <th>PctBachDeg25_Over</th>\n",
              "      <th>PctEmployed16_Over</th>\n",
              "      <th>PctUnemployed16_Over</th>\n",
              "      <th>PctPrivateCoverage</th>\n",
              "      <th>PctPrivateCoverageAlone</th>\n",
              "      <th>PctEmpPrivCoverage</th>\n",
              "      <th>PctPublicCoverage</th>\n",
              "      <th>PctPublicCoverageAlone</th>\n",
              "      <th>PctWhite</th>\n",
              "      <th>PctBlack</th>\n",
              "      <th>PctAsian</th>\n",
              "      <th>PctOtherRace</th>\n",
              "      <th>PctMarriedHouseholds</th>\n",
              "      <th>BirthRate</th>\n",
              "    </tr>\n",
              "  </thead>\n",
              "  <tbody>\n",
              "    <tr>\n",
              "      <th>0</th>\n",
              "      <td>-0.441214</td>\n",
              "      <td>-0.377556</td>\n",
              "      <td>0.614492</td>\n",
              "      <td>0.263441</td>\n",
              "      <td>-0.334186</td>\n",
              "      <td>-0.911813</td>\n",
              "      <td>-0.291749</td>\n",
              "      <td>0.188202</td>\n",
              "      <td>0.105858</td>\n",
              "      <td>1.931532</td>\n",
              "      <td>0.793019</td>\n",
              "      <td>-0.336031</td>\n",
              "      <td>-0.518890</td>\n",
              "      <td>2.057410</td>\n",
              "      <td>-0.916178</td>\n",
              "      <td>-1.099800</td>\n",
              "      <td>2.868766e+00</td>\n",
              "      <td>0.146775</td>\n",
              "      <td>0.312287</td>\n",
              "      <td>-0.188965</td>\n",
              "      <td>0.407607</td>\n",
              "      <td>-1.951502</td>\n",
              "      <td>1.587091</td>\n",
              "      <td>8.285162e-01</td>\n",
              "      <td>-0.604995</td>\n",
              "      <td>-0.204919</td>\n",
              "      <td>-1.544096</td>\n",
              "      <td>0.745879</td>\n",
              "      <td>-0.575265</td>\n",
              "      <td>-0.505820</td>\n",
              "      <td>-0.576512</td>\n",
              "      <td>1.709963</td>\n",
              "      <td>4.884323</td>\n",
              "    </tr>\n",
              "    <tr>\n",
              "      <th>1</th>\n",
              "      <td>-0.386029</td>\n",
              "      <td>-0.319125</td>\n",
              "      <td>0.699594</td>\n",
              "      <td>1.050046</td>\n",
              "      <td>-0.290210</td>\n",
              "      <td>-1.132653</td>\n",
              "      <td>-0.291749</td>\n",
              "      <td>0.885051</td>\n",
              "      <td>-0.062111</td>\n",
              "      <td>0.328219</td>\n",
              "      <td>0.183798</td>\n",
              "      <td>0.363191</td>\n",
              "      <td>0.365127</td>\n",
              "      <td>0.985729</td>\n",
              "      <td>0.502792</td>\n",
              "      <td>-0.645254</td>\n",
              "      <td>-5.047964e-15</td>\n",
              "      <td>-1.105566</td>\n",
              "      <td>0.141215</td>\n",
              "      <td>0.520061</td>\n",
              "      <td>0.779923</td>\n",
              "      <td>-1.169867</td>\n",
              "      <td>1.158936</td>\n",
              "      <td>4.756061e-15</td>\n",
              "      <td>1.014088</td>\n",
              "      <td>-0.540526</td>\n",
              "      <td>-1.062543</td>\n",
              "      <td>0.839234</td>\n",
              "      <td>-0.575603</td>\n",
              "      <td>-0.471744</td>\n",
              "      <td>-0.564031</td>\n",
              "      <td>1.576544</td>\n",
              "      <td>-1.184390</td>\n",
              "    </tr>\n",
              "    <tr>\n",
              "      <th>2</th>\n",
              "      <td>-0.300452</td>\n",
              "      <td>-0.209005</td>\n",
              "      <td>0.504805</td>\n",
              "      <td>-0.603497</td>\n",
              "      <td>-0.252826</td>\n",
              "      <td>0.255486</td>\n",
              "      <td>-0.291749</td>\n",
              "      <td>-1.205497</td>\n",
              "      <td>0.118778</td>\n",
              "      <td>1.603142</td>\n",
              "      <td>1.459354</td>\n",
              "      <td>-0.573132</td>\n",
              "      <td>-0.402572</td>\n",
              "      <td>0.780201</td>\n",
              "      <td>0.823602</td>\n",
              "      <td>0.141886</td>\n",
              "      <td>-5.047964e-15</td>\n",
              "      <td>-0.578264</td>\n",
              "      <td>0.754224</td>\n",
              "      <td>-1.047260</td>\n",
              "      <td>-1.602895</td>\n",
              "      <td>0.914493</td>\n",
              "      <td>-0.277762</td>\n",
              "      <td>4.756061e-15</td>\n",
              "      <td>-0.991002</td>\n",
              "      <td>1.744179</td>\n",
              "      <td>0.398723</td>\n",
              "      <td>0.841667</td>\n",
              "      <td>-0.600080</td>\n",
              "      <td>-0.332052</td>\n",
              "      <td>-0.551054</td>\n",
              "      <td>0.401948</td>\n",
              "      <td>0.399757</td>\n",
              "    </tr>\n",
              "    <tr>\n",
              "      <th>3</th>\n",
              "      <td>-0.363635</td>\n",
              "      <td>-0.271931</td>\n",
              "      <td>0.900057</td>\n",
              "      <td>-1.395227</td>\n",
              "      <td>-0.279078</td>\n",
              "      <td>1.769819</td>\n",
              "      <td>-0.291749</td>\n",
              "      <td>1.581901</td>\n",
              "      <td>-0.002676</td>\n",
              "      <td>0.598657</td>\n",
              "      <td>0.564561</td>\n",
              "      <td>-0.710561</td>\n",
              "      <td>-0.100145</td>\n",
              "      <td>0.163618</td>\n",
              "      <td>-0.903839</td>\n",
              "      <td>1.871377</td>\n",
              "      <td>-5.047964e-15</td>\n",
              "      <td>-0.182788</td>\n",
              "      <td>1.324465</td>\n",
              "      <td>-1.159211</td>\n",
              "      <td>-1.553253</td>\n",
              "      <td>0.740797</td>\n",
              "      <td>-1.838150</td>\n",
              "      <td>4.756061e-15</td>\n",
              "      <td>-1.838072</td>\n",
              "      <td>2.183049</td>\n",
              "      <td>2.291726</td>\n",
              "      <td>0.862262</td>\n",
              "      <td>-0.613644</td>\n",
              "      <td>-0.376372</td>\n",
              "      <td>-0.471341</td>\n",
              "      <td>-0.052529</td>\n",
              "      <td>-0.247593</td>\n",
              "    </tr>\n",
              "    <tr>\n",
              "      <th>4</th>\n",
              "      <td>-0.392427</td>\n",
              "      <td>-0.316878</td>\n",
              "      <td>-1.456323</td>\n",
              "      <td>-0.611563</td>\n",
              "      <td>-0.293057</td>\n",
              "      <td>0.081968</td>\n",
              "      <td>-0.291749</td>\n",
              "      <td>-1.205497</td>\n",
              "      <td>0.017997</td>\n",
              "      <td>0.502072</td>\n",
              "      <td>1.097629</td>\n",
              "      <td>0.006784</td>\n",
              "      <td>-0.262990</td>\n",
              "      <td>0.046173</td>\n",
              "      <td>-0.694079</td>\n",
              "      <td>-0.412438</td>\n",
              "      <td>-5.047964e-15</td>\n",
              "      <td>-1.303304</td>\n",
              "      <td>-0.942243</td>\n",
              "      <td>-0.506161</td>\n",
              "      <td>-0.597644</td>\n",
              "      <td>0.393403</td>\n",
              "      <td>-0.753490</td>\n",
              "      <td>4.756061e-15</td>\n",
              "      <td>-0.851611</td>\n",
              "      <td>0.866439</td>\n",
              "      <td>0.913487</td>\n",
              "      <td>-0.082651</td>\n",
              "      <td>-0.499679</td>\n",
              "      <td>-0.217740</td>\n",
              "      <td>1.975048</td>\n",
              "      <td>-0.121003</td>\n",
              "      <td>-0.875664</td>\n",
              "    </tr>\n",
              "  </tbody>\n",
              "</table>\n",
              "</div>"
            ],
            "text/plain": [
              "   avgAnnCount  avgDeathsPerYear  ...  PctMarriedHouseholds  BirthRate\n",
              "0    -0.441214         -0.377556  ...              1.709963   4.884323\n",
              "1    -0.386029         -0.319125  ...              1.576544  -1.184390\n",
              "2    -0.300452         -0.209005  ...              0.401948   0.399757\n",
              "3    -0.363635         -0.271931  ...             -0.052529  -0.247593\n",
              "4    -0.392427         -0.316878  ...             -0.121003  -0.875664\n",
              "\n",
              "[5 rows x 33 columns]"
            ]
          },
          "metadata": {
            "tags": []
          },
          "execution_count": 52
        }
      ]
    },
    {
      "cell_type": "code",
      "metadata": {
        "colab": {
          "base_uri": "https://localhost:8080/",
          "height": 214
        },
        "id": "A-ufcLdeVOJG",
        "outputId": "0bb9b5c0-b817-448a-88b0-ca6c776c8977"
      },
      "source": [
        "#scaling the test data\r\n",
        "\r\n",
        "from sklearn.preprocessing import StandardScaler\r\n",
        "test_data = StandardScaler().fit_transform(test_data)\r\n",
        "test_data = pd.DataFrame(data= test_data, columns= col_names)\r\n",
        "\r\n",
        "\r\n",
        "# Let's see how the data looks after scaling\r\n",
        "test_data.head()"
      ],
      "execution_count": 53,
      "outputs": [
        {
          "output_type": "execute_result",
          "data": {
            "text/html": [
              "<div>\n",
              "<style scoped>\n",
              "    .dataframe tbody tr th:only-of-type {\n",
              "        vertical-align: middle;\n",
              "    }\n",
              "\n",
              "    .dataframe tbody tr th {\n",
              "        vertical-align: top;\n",
              "    }\n",
              "\n",
              "    .dataframe thead th {\n",
              "        text-align: right;\n",
              "    }\n",
              "</style>\n",
              "<table border=\"1\" class=\"dataframe\">\n",
              "  <thead>\n",
              "    <tr style=\"text-align: right;\">\n",
              "      <th></th>\n",
              "      <th>avgAnnCount</th>\n",
              "      <th>avgDeathsPerYear</th>\n",
              "      <th>incidenceRate</th>\n",
              "      <th>medIncome</th>\n",
              "      <th>popEst2015</th>\n",
              "      <th>povertyPercent</th>\n",
              "      <th>studyPerCap</th>\n",
              "      <th>binnedInc</th>\n",
              "      <th>MedianAge</th>\n",
              "      <th>MedianAgeMale</th>\n",
              "      <th>MedianAgeFemale</th>\n",
              "      <th>Geography</th>\n",
              "      <th>AvgHouseholdSize</th>\n",
              "      <th>PercentMarried</th>\n",
              "      <th>PctNoHS18_24</th>\n",
              "      <th>PctHS18_24</th>\n",
              "      <th>PctSomeCol18_24</th>\n",
              "      <th>PctBachDeg18_24</th>\n",
              "      <th>PctHS25_Over</th>\n",
              "      <th>PctBachDeg25_Over</th>\n",
              "      <th>PctEmployed16_Over</th>\n",
              "      <th>PctUnemployed16_Over</th>\n",
              "      <th>PctPrivateCoverage</th>\n",
              "      <th>PctPrivateCoverageAlone</th>\n",
              "      <th>PctEmpPrivCoverage</th>\n",
              "      <th>PctPublicCoverage</th>\n",
              "      <th>PctPublicCoverageAlone</th>\n",
              "      <th>PctWhite</th>\n",
              "      <th>PctBlack</th>\n",
              "      <th>PctAsian</th>\n",
              "      <th>PctOtherRace</th>\n",
              "      <th>PctMarriedHouseholds</th>\n",
              "      <th>BirthRate</th>\n",
              "    </tr>\n",
              "  </thead>\n",
              "  <tbody>\n",
              "    <tr>\n",
              "      <th>0</th>\n",
              "      <td>0.711994</td>\n",
              "      <td>0.780771</td>\n",
              "      <td>-1.872825</td>\n",
              "      <td>-1.056963</td>\n",
              "      <td>1.491030</td>\n",
              "      <td>2.528887</td>\n",
              "      <td>-0.219078</td>\n",
              "      <td>-1.561593</td>\n",
              "      <td>-0.325430</td>\n",
              "      <td>-2.235826</td>\n",
              "      <td>-2.172376</td>\n",
              "      <td>-0.393235</td>\n",
              "      <td>2.775930</td>\n",
              "      <td>-0.075118</td>\n",
              "      <td>0.522970</td>\n",
              "      <td>-0.687513</td>\n",
              "      <td>0.000000</td>\n",
              "      <td>-0.267886</td>\n",
              "      <td>-1.594277</td>\n",
              "      <td>-0.271142</td>\n",
              "      <td>-0.219046</td>\n",
              "      <td>0.547034</td>\n",
              "      <td>-2.819500</td>\n",
              "      <td>0.000000</td>\n",
              "      <td>-1.805140</td>\n",
              "      <td>0.099919</td>\n",
              "      <td>1.336963</td>\n",
              "      <td>0.498093</td>\n",
              "      <td>-0.573802</td>\n",
              "      <td>-0.100526</td>\n",
              "      <td>0.868466</td>\n",
              "      <td>0.795989</td>\n",
              "      <td>0.527683</td>\n",
              "    </tr>\n",
              "    <tr>\n",
              "      <th>1</th>\n",
              "      <td>-0.318555</td>\n",
              "      <td>-0.258743</td>\n",
              "      <td>-0.035342</td>\n",
              "      <td>-0.952866</td>\n",
              "      <td>-0.232969</td>\n",
              "      <td>0.691888</td>\n",
              "      <td>-0.308033</td>\n",
              "      <td>-1.561593</td>\n",
              "      <td>-0.100002</td>\n",
              "      <td>0.233993</td>\n",
              "      <td>0.014180</td>\n",
              "      <td>-1.588851</td>\n",
              "      <td>0.444902</td>\n",
              "      <td>0.064220</td>\n",
              "      <td>-1.052390</td>\n",
              "      <td>0.100918</td>\n",
              "      <td>0.937408</td>\n",
              "      <td>0.489990</td>\n",
              "      <td>1.767772</td>\n",
              "      <td>-0.998450</td>\n",
              "      <td>-0.902278</td>\n",
              "      <td>0.292259</td>\n",
              "      <td>-0.734410</td>\n",
              "      <td>-0.827200</td>\n",
              "      <td>-0.418818</td>\n",
              "      <td>1.010950</td>\n",
              "      <td>1.058121</td>\n",
              "      <td>0.812061</td>\n",
              "      <td>-0.558780</td>\n",
              "      <td>-0.324525</td>\n",
              "      <td>-0.544364</td>\n",
              "      <td>0.641996</td>\n",
              "      <td>-1.668854</td>\n",
              "    </tr>\n",
              "    <tr>\n",
              "      <th>2</th>\n",
              "      <td>-0.302050</td>\n",
              "      <td>-0.255863</td>\n",
              "      <td>-0.379209</td>\n",
              "      <td>2.474512</td>\n",
              "      <td>-0.200706</td>\n",
              "      <td>-1.435969</td>\n",
              "      <td>-0.243304</td>\n",
              "      <td>1.205695</td>\n",
              "      <td>-0.215379</td>\n",
              "      <td>-0.991769</td>\n",
              "      <td>-1.097319</td>\n",
              "      <td>1.270626</td>\n",
              "      <td>-0.150254</td>\n",
              "      <td>0.593703</td>\n",
              "      <td>-0.649098</td>\n",
              "      <td>-0.931816</td>\n",
              "      <td>0.000000</td>\n",
              "      <td>0.892612</td>\n",
              "      <td>-0.567375</td>\n",
              "      <td>0.747090</td>\n",
              "      <td>2.082368</td>\n",
              "      <td>-1.462856</td>\n",
              "      <td>1.776764</td>\n",
              "      <td>2.167840</td>\n",
              "      <td>1.558729</td>\n",
              "      <td>-2.050116</td>\n",
              "      <td>-2.117584</td>\n",
              "      <td>0.568367</td>\n",
              "      <td>-0.539539</td>\n",
              "      <td>-0.027915</td>\n",
              "      <td>-0.100448</td>\n",
              "      <td>0.248454</td>\n",
              "      <td>2.309269</td>\n",
              "    </tr>\n",
              "    <tr>\n",
              "      <th>3</th>\n",
              "      <td>0.645286</td>\n",
              "      <td>-0.294737</td>\n",
              "      <td>0.111894</td>\n",
              "      <td>-0.097962</td>\n",
              "      <td>-0.256515</td>\n",
              "      <td>-0.854253</td>\n",
              "      <td>-0.308033</td>\n",
              "      <td>-0.177949</td>\n",
              "      <td>-0.043202</td>\n",
              "      <td>0.837727</td>\n",
              "      <td>0.633704</td>\n",
              "      <td>0.729644</td>\n",
              "      <td>-0.522226</td>\n",
              "      <td>1.248591</td>\n",
              "      <td>1.896684</td>\n",
              "      <td>-2.364319</td>\n",
              "      <td>0.847718</td>\n",
              "      <td>0.324205</td>\n",
              "      <td>0.107848</td>\n",
              "      <td>0.383436</td>\n",
              "      <td>1.087486</td>\n",
              "      <td>-1.038231</td>\n",
              "      <td>1.096844</td>\n",
              "      <td>0.804506</td>\n",
              "      <td>0.396665</td>\n",
              "      <td>-0.373818</td>\n",
              "      <td>-0.630424</td>\n",
              "      <td>0.812693</td>\n",
              "      <td>-0.590327</td>\n",
              "      <td>-0.390099</td>\n",
              "      <td>-0.511649</td>\n",
              "      <td>0.606068</td>\n",
              "      <td>1.747012</td>\n",
              "    </tr>\n",
              "    <tr>\n",
              "      <th>4</th>\n",
              "      <td>0.645286</td>\n",
              "      <td>-0.312014</td>\n",
              "      <td>0.111894</td>\n",
              "      <td>0.560099</td>\n",
              "      <td>-0.264362</td>\n",
              "      <td>-0.930794</td>\n",
              "      <td>-0.308033</td>\n",
              "      <td>0.513873</td>\n",
              "      <td>8.663290</td>\n",
              "      <td>0.929201</td>\n",
              "      <td>0.433270</td>\n",
              "      <td>0.002273</td>\n",
              "      <td>-1.067786</td>\n",
              "      <td>0.607637</td>\n",
              "      <td>0.888453</td>\n",
              "      <td>-0.454315</td>\n",
              "      <td>0.000000</td>\n",
              "      <td>-0.765243</td>\n",
              "      <td>-0.679912</td>\n",
              "      <td>0.383436</td>\n",
              "      <td>1.662839</td>\n",
              "      <td>-1.576089</td>\n",
              "      <td>1.314418</td>\n",
              "      <td>0.954795</td>\n",
              "      <td>0.814600</td>\n",
              "      <td>-0.883996</td>\n",
              "      <td>-1.296548</td>\n",
              "      <td>0.897750</td>\n",
              "      <td>-0.591944</td>\n",
              "      <td>-0.451304</td>\n",
              "      <td>-0.551676</td>\n",
              "      <td>-0.456167</td>\n",
              "      <td>2.080037</td>\n",
              "    </tr>\n",
              "  </tbody>\n",
              "</table>\n",
              "</div>"
            ],
            "text/plain": [
              "   avgAnnCount  avgDeathsPerYear  ...  PctMarriedHouseholds  BirthRate\n",
              "0     0.711994          0.780771  ...              0.795989   0.527683\n",
              "1    -0.318555         -0.258743  ...              0.641996  -1.668854\n",
              "2    -0.302050         -0.255863  ...              0.248454   2.309269\n",
              "3     0.645286         -0.294737  ...              0.606068   1.747012\n",
              "4     0.645286         -0.312014  ...             -0.456167   2.080037\n",
              "\n",
              "[5 rows x 33 columns]"
            ]
          },
          "metadata": {
            "tags": []
          },
          "execution_count": 53
        }
      ]
    },
    {
      "cell_type": "code",
      "metadata": {
        "id": "h2mSVn4_YcqC"
      },
      "source": [
        "## splitting the train data into train and validation set\r\n",
        "\r\n",
        "X_train, X_val, y_train, y_val= train_test_split(X, y, train_size= 0.8, random_state= 42)"
      ],
      "execution_count": 54,
      "outputs": []
    },
    {
      "cell_type": "markdown",
      "metadata": {
        "id": "E6wkY3z9XaSe"
      },
      "source": [
        "## **Fitting models to the data**"
      ]
    },
    {
      "cell_type": "markdown",
      "metadata": {
        "id": "S0UVef4aYLwK"
      },
      "source": [
        "**Linear Regression Model**"
      ]
    },
    {
      "cell_type": "code",
      "metadata": {
        "colab": {
          "base_uri": "https://localhost:8080/"
        },
        "id": "CIlNcnVEXkPr",
        "outputId": "31ce2493-58e2-4e9f-9a53-dc2dee348bd1"
      },
      "source": [
        "# linear regression model\r\n",
        "\r\n",
        "lrm_model= LinearRegression()\r\n",
        "\r\n",
        "lrm_model.fit(X_train, y_train)"
      ],
      "execution_count": 55,
      "outputs": [
        {
          "output_type": "execute_result",
          "data": {
            "text/plain": [
              "LinearRegression(copy_X=True, fit_intercept=True, n_jobs=None, normalize=False)"
            ]
          },
          "metadata": {
            "tags": []
          },
          "execution_count": 55
        }
      ]
    },
    {
      "cell_type": "code",
      "metadata": {
        "id": "VnkEZRprY1vr"
      },
      "source": [
        "lrm_predict= lrm_model.predict(X_val)"
      ],
      "execution_count": 56,
      "outputs": []
    },
    {
      "cell_type": "code",
      "metadata": {
        "colab": {
          "base_uri": "https://localhost:8080/"
        },
        "id": "20YEb213ZDSc",
        "outputId": "f0bbdf6d-adb1-415b-f2b6-dbc3c0013d02"
      },
      "source": [
        "print(lrm_model.score(X_val,lrm_predict))\r\n",
        "\r\n",
        "print(lrm_model.score(X_train,y_train))\r\n",
        "\r\n",
        "print(lrm_model.score(X_val,y_val))"
      ],
      "execution_count": 58,
      "outputs": [
        {
          "output_type": "stream",
          "text": [
            "1.0\n",
            "0.5280691565718539\n",
            "0.5435342349336534\n"
          ],
          "name": "stdout"
        }
      ]
    },
    {
      "cell_type": "code",
      "metadata": {
        "colab": {
          "base_uri": "https://localhost:8080/"
        },
        "id": "HvIaR93qZKu5",
        "outputId": "e5cacdf9-ddb3-4fb4-db6e-10817e59910b"
      },
      "source": [
        "# Mean Squared Error \r\n",
        "\r\n",
        "from sklearn.metrics import mean_squared_error\r\n",
        "MSE_lrm = mean_squared_error(y_val, lrm_predict)\r\n",
        "\r\n",
        "print(MSE_lrm)"
      ],
      "execution_count": 59,
      "outputs": [
        {
          "output_type": "stream",
          "text": [
            "375.0409914278659\n"
          ],
          "name": "stdout"
        }
      ]
    },
    {
      "cell_type": "code",
      "metadata": {
        "id": "et_WLZOkZjv7"
      },
      "source": [
        "# using the linear model to predict death rate for the test data\r\n",
        "\r\n",
        "predictions1 = lrm_model.predict(test_data)"
      ],
      "execution_count": 60,
      "outputs": []
    },
    {
      "cell_type": "code",
      "metadata": {
        "colab": {
          "base_uri": "https://localhost:8080/"
        },
        "id": "iCneBoDXZ1G9",
        "outputId": "880e6003-40bb-4905-a808-a2d27ce7b3c5"
      },
      "source": [
        "print(predictions1)"
      ],
      "execution_count": 61,
      "outputs": [
        {
          "output_type": "stream",
          "text": [
            "[163.92834529 193.41124563 157.52736592 156.11258478 154.02052142\n",
            " 178.9062257  184.13130321 166.1086967  151.75584498 183.04255468\n",
            " 150.72070494 184.35410843 155.99588463 165.63764125 196.78453657\n",
            " 181.52355684 193.94826843 150.08321221 171.68114051 176.25131504\n",
            " 179.95576236 205.78638081 175.02292696 173.47999492 130.35193008\n",
            " 147.4408203  183.71377878 238.06868684 172.63465984 184.04536893\n",
            " 155.15299979 172.31188373 161.98629507 168.30319623 148.22163527\n",
            " 172.55100801 147.95321231 193.99725293 153.49795374 183.15524311\n",
            " 198.05926008 175.4460108  176.22336467 168.93947418 193.87984495\n",
            " 157.06344519 164.95168138 179.8304739  195.31679345 164.0443773\n",
            " 151.75235189 175.85484854 182.91378589 164.68227903 163.11820581\n",
            " 174.42671918 183.84621251 188.28832423 174.75746207 163.02741058\n",
            " 173.61132694 191.06790853 184.8250925  180.51422358 170.5254827\n",
            " 171.25275285 168.77053088 188.4442112  180.60580102 144.34918317\n",
            " 200.4115459  184.80619419 177.27907193 150.17275703 173.01534245\n",
            " 164.57934213 177.16715799 180.12566255 157.92865862 186.94085876\n",
            " 200.17544237 161.59359409 193.00003536 180.86002717 187.74863269\n",
            " 184.00609568 154.72799329 198.71543606 201.65409845 202.75583535\n",
            " 200.10893561 165.49837841 153.90546726 161.31901194 181.51335423\n",
            " 159.81191935 183.02454168 138.62242815 171.70205041 194.83867215\n",
            " 142.51103419 160.73081179 169.72574622 176.68731743 196.33264452\n",
            " 181.25800787 168.45411106 169.6049436  186.14285587 210.29983627\n",
            " 150.46953769 156.1608758  167.03838492 150.12712185 199.21453893\n",
            " 163.84061401 187.35562599 184.4092868  225.73202048 157.26129962\n",
            " 201.15968433 166.44180078 156.20932186 155.18258844 192.70044481\n",
            " 185.89434146 162.34521513 212.48267664 174.29731498 187.62365803\n",
            " 182.5498387  189.6267034  179.26878096 219.44435276 169.76165875\n",
            " 179.34134742 181.65114767 151.26849023 210.95305757 178.07260102\n",
            " 199.29908832 186.92607259 209.28520106 183.58523899 177.01591142\n",
            " 118.46656611 199.86671961 133.84721604 198.97289489 176.11600519\n",
            " 179.01944041 206.21570713 187.22913864 176.40158113 156.01107034\n",
            " 138.18034413 177.16123117 159.87831539 202.71340849 120.03329263\n",
            " 158.36423298 214.5576687  155.81677422 178.46638472 145.6851269\n",
            " 176.81391544 201.6171101  164.99664238 214.48199351 200.52124684\n",
            " 196.28859186 192.28183629 164.79498796 195.14120904 169.41134397\n",
            " 204.36449811 188.81776019 175.14192367 216.78040228 171.79939827\n",
            " 187.29569858 179.63605732 161.45850074 201.43327171 192.76049163\n",
            " 172.9818231  150.61115967 194.47389942 205.67153576 176.29538028\n",
            " 178.46814083 186.46731699 198.89498416 166.65925637 141.09292923\n",
            " 169.86336389 181.95139309 182.87566575 149.32942217 184.81458679\n",
            " 158.08716034 183.7709521  179.63561381 181.2138285  179.59021916\n",
            " 176.75232428 168.16318629 179.40959969 181.50826239 156.64433528\n",
            " 183.51585879 174.77232464 175.54453225 190.62427    170.92352299\n",
            " 161.51758611 237.82026415 195.47259206 191.43501207 128.18232186\n",
            " 178.13610036 163.94127434 206.90864945 172.14118797 189.78947495\n",
            " 189.73246122 191.94333735 184.84947624 166.29704919 161.32197782\n",
            " 188.58268145 177.02831162 157.86028351 174.06125376 195.04803259\n",
            " 167.32265981 168.63585622 194.0935564  169.98028277 175.92348563\n",
            " 201.38255062 151.17846654 152.15686144 195.14612704 210.89451344\n",
            " 153.27331379 160.01727853 179.03246471 184.25473388 234.1900399\n",
            " 183.27715253 195.48576613  91.07785972 130.84618528 167.18317708\n",
            " 189.517568   174.04932265 168.2098694  172.91754143 175.4768696\n",
            " 159.23371973 170.94275947 187.55396823 165.75938705 169.30919212\n",
            " 204.31169727 182.80739267 195.75346763 191.34891185 181.13330233\n",
            " 190.98006266 171.32669691 155.13433399 201.48044198 172.77931278\n",
            " 181.18601915 182.62086539 130.29854042 151.34703249 186.46854968\n",
            " 217.91513126 171.2984021  215.10277861 160.34460591 198.028664\n",
            " 182.54116526 184.95260357 183.30124604 184.85673141 175.73602105\n",
            " 174.61644604 175.19256828 167.30485057 205.58850016 154.29746042\n",
            " 159.46466936 176.38575057 178.98243646 168.50611226 170.28206376\n",
            " 144.62108929 153.55077707 194.45559407 188.81806927 167.56027969\n",
            " 173.64559783 162.87361272 208.35193    170.11035908 174.37174415\n",
            " 187.92611049 155.78622581 176.42414448 173.02324752 169.26851109\n",
            " 146.92973084 190.3112362  185.26338909 180.46993242 159.69803549\n",
            " 185.10881964 169.74138864 153.09867247 194.77789451 166.94193161\n",
            " 179.58949712 212.62405231 160.66698243 175.10792079 181.34579113\n",
            " 199.88983343 195.65362336 207.74868655 176.79132239 187.81925977\n",
            " 173.13974054 173.41261207 193.88992378 129.25076741 194.31458605\n",
            " 167.55698616 170.68999879 212.00460912 190.92919377 205.93274009\n",
            " 178.20388838 155.12701458 181.96683781 186.1805652  198.27066807\n",
            " 169.92628872 186.85840655 182.68850574 175.10536427 151.54537368\n",
            " 220.57210477 166.87370855 175.34190679 175.85658877 166.96686127\n",
            " 188.9346837  163.43143478 176.30082563 129.53622907 173.53083946\n",
            " 171.85338668 176.14332994 213.83557144 166.2349919  142.14009\n",
            " 171.8672813  182.72179446 210.16934736 147.45898261 189.38591622\n",
            " 173.3721333  165.82289905 187.48708075 178.77387001 206.94477604\n",
            " 202.7720535  188.61941369 187.59638354 180.20028764 179.82961424\n",
            " 178.14507723 171.64213062 185.83194906 213.69165082 181.09800274\n",
            " 160.87915114 147.90939509 152.45721348 170.75704735 191.46240757\n",
            " 175.57695415 171.58036615 157.7519678  169.43411849 187.87111171\n",
            " 180.15037838 193.63652272 137.79826535 182.29437091 196.50177907\n",
            " 166.77997059 221.73920347 172.50314385 179.08351114 149.39395515\n",
            " 162.35456589 151.32151413 202.96137294 199.84650085 160.56351895\n",
            " 188.05486855 165.92678439 176.11052779 183.69173943 171.54258088\n",
            " 185.13018346 158.16586441 188.50737014 203.96455151 193.85670695\n",
            " 185.5476711  203.32245969 185.88389038 179.73174579 185.40072388\n",
            " 178.73950784 148.58393486 187.10940574 194.1152061  171.92686312\n",
            " 156.37862795 171.62213395 157.07438838 179.58664417 202.62453108\n",
            " 193.42808752 164.40076614 154.04855613 187.52308755 213.03414218\n",
            " 208.1845385  215.78833906 179.27040316 178.29462103 159.18274295\n",
            " 188.1012916  192.30449478 182.49433988 185.15514764 188.57750545\n",
            " 157.25203829 183.05123408 196.41302339 208.78147764 165.92241514\n",
            " 190.68591402 200.64813919 150.28696853 180.97786493 191.81149152\n",
            " 152.99836097 194.26383867 161.117762   177.52673688 192.32238251\n",
            " 179.68733588 174.64421591 194.53628715 126.66509286 170.9406275\n",
            " 167.86344981 207.16950113 173.87169771 166.10862177 251.62745356\n",
            " 214.97841191 182.65141534 152.51511964 178.23149592 159.93650984\n",
            " 161.82786534 179.68009003 204.97623952 208.35580762 206.45994878\n",
            " 174.85821129 150.75222137 198.45989763 163.54121605 175.42859373\n",
            " 228.69303096 196.9394695  218.99727066 149.92116064 172.53721068\n",
            " 196.34891131 195.06693016 204.9738947  177.84903307 186.5190859\n",
            " 210.09718536 159.16287295 153.30182042 158.80577525 143.21292278\n",
            " 207.81769202 189.67768696 174.98045862 182.37693514 182.54087663\n",
            " 173.94105645 194.11649493 173.84539008 174.25226816 180.37831663\n",
            " 155.33377625 171.24666707 169.09779843 165.00350192 205.2005444\n",
            " 192.12059654 190.94696042 187.92613425 159.1496819  211.62639362\n",
            " 166.73024016 181.72366155 177.81133822 157.6801523  168.19025972\n",
            " 183.60931353 188.38063897 203.11495272 230.11372557 171.92251966\n",
            " 188.62221927 156.28233125 175.80086315 170.35738895 187.94576335\n",
            " 170.82988296 161.72939053 201.60270746 177.85285714 191.85624522\n",
            " 171.01443376 173.36394764 204.6898092  142.75134752 196.60062019\n",
            " 157.75787676 177.99839525 157.66743738 210.34307481 178.64655163\n",
            " 183.55591916 173.01912296 146.97580605 170.55056487 172.74810095\n",
            " 186.07628748 177.98128209 201.19751944 209.44197936 165.06721758\n",
            " 177.75667277 180.91257064 184.83398559 200.24480115 186.60552375\n",
            " 157.69229786 185.95762474 181.16081996 192.11019121 151.42667015\n",
            " 210.31041688 196.1989209  214.91439647 145.63117923 168.67212936\n",
            " 189.29120524 214.15413123 196.58652917 164.28811397 189.78368228\n",
            " 177.09582112 158.97447208 189.80473748 173.44105302 195.81235401\n",
            " 156.33750613 187.14345208 164.41436145 200.83740409 164.23752869\n",
            " 176.63748648 185.6040915  154.38202123 215.61660167 173.81983388\n",
            " 186.68855847 180.75801041 188.73521308 186.59307815 196.21724511\n",
            " 152.27698603 179.16664999 219.03681328 180.51799354 194.46316014\n",
            " 188.3171063  175.55076645 165.64673207 170.35329104 189.25176437\n",
            " 173.53446806 160.43741096 183.27531748 176.8866684  203.6568436\n",
            " 181.35748089 186.10395154 174.76898154 175.95598922 182.06524607\n",
            " 171.97748074 158.51738736 217.51908056 173.32558366 182.37279223\n",
            " 238.25571542 204.07599729 194.57684233 166.99409618 166.87987681\n",
            " 204.2456583  211.84774082 219.09173161 192.24468663 177.1384176\n",
            " 177.52148066 200.82530399 173.52906769 221.55925824 205.44113763\n",
            " 191.86568603 184.6639652  168.25187406 141.14562202 179.24452362\n",
            " 183.38631369 179.21634512 182.98389736 181.62559622 216.12742849\n",
            " 192.13003295 178.27431224 165.04546687 123.55949376 184.44483103\n",
            " 190.25099723 185.25480488 209.51554276 192.01720016 188.67735986\n",
            " 181.9154571  189.01345087 179.6609424  168.49686619 193.70924974\n",
            " 142.79640025 182.85881814 158.7516969  198.84018224 173.94587721\n",
            " 173.89330093 186.6034541  159.05237109 184.35416786 192.46597541\n",
            " 180.94679229 167.44877066 188.41173489 180.09004528 150.71065984\n",
            " 182.63091185 147.16607124 140.12488962 184.61443746 203.75781351\n",
            " 149.51427179 160.73848435 164.12560667 176.06061864 171.86779735\n",
            " 208.9081169  165.20474817 202.78618657 179.0771619  192.39017684\n",
            " 194.29783463 151.29955167 188.71491503 173.60406306 227.33896472\n",
            " 195.32875496 194.58120446 167.55471383 186.29149348 190.15871133\n",
            " 161.33252389 171.73095629 197.73508741 181.50444842 200.91765028\n",
            " 170.06181456 166.58056598 204.66806172 174.51876688 164.57501402\n",
            " 167.72481671 173.51285517 246.50798375 167.90995939 171.62181909\n",
            " 204.69697196 165.98170225 198.82592455 169.45572063 176.30051654\n",
            " 147.96695004 186.89249679 157.58807977 148.48820201 183.66112111\n",
            " 186.7126269  181.29506222 144.21141356 206.22226224 148.48596544\n",
            " 152.8825842  162.28344507 184.13765445 146.22518157 180.00524694\n",
            " 170.82306957 192.84792998 176.88254361 198.29404916 215.57414464\n",
            " 174.34938443 174.52326289 218.70336264 193.86364974 172.78374876\n",
            " 208.11138563 141.46680587]\n"
          ],
          "name": "stdout"
        }
      ]
    },
    {
      "cell_type": "markdown",
      "metadata": {
        "id": "S9pXhEbVaFCH"
      },
      "source": [
        "**Random Forest Regressor Model**"
      ]
    },
    {
      "cell_type": "code",
      "metadata": {
        "colab": {
          "base_uri": "https://localhost:8080/"
        },
        "id": "4Rl0anlFZ7Rm",
        "outputId": "67f10a0a-5a16-47fd-bbcd-635e65ecc517"
      },
      "source": [
        "# random forest model\r\n",
        "\r\n",
        "rdf_model= RandomForestRegressor(random_state= 42, n_estimators= 100)\r\n",
        "\r\n",
        "rdf_model.fit(X_train, y_train)"
      ],
      "execution_count": 62,
      "outputs": [
        {
          "output_type": "execute_result",
          "data": {
            "text/plain": [
              "RandomForestRegressor(bootstrap=True, ccp_alpha=0.0, criterion='mse',\n",
              "                      max_depth=None, max_features='auto', max_leaf_nodes=None,\n",
              "                      max_samples=None, min_impurity_decrease=0.0,\n",
              "                      min_impurity_split=None, min_samples_leaf=1,\n",
              "                      min_samples_split=2, min_weight_fraction_leaf=0.0,\n",
              "                      n_estimators=100, n_jobs=None, oob_score=False,\n",
              "                      random_state=42, verbose=0, warm_start=False)"
            ]
          },
          "metadata": {
            "tags": []
          },
          "execution_count": 62
        }
      ]
    },
    {
      "cell_type": "code",
      "metadata": {
        "id": "MhQ_CK1fbTWk"
      },
      "source": [
        "rdf_predict= rdf_model.predict(X_val)"
      ],
      "execution_count": 63,
      "outputs": []
    },
    {
      "cell_type": "code",
      "metadata": {
        "colab": {
          "base_uri": "https://localhost:8080/"
        },
        "id": "qyIA3Mf2bZVc",
        "outputId": "af53ff7f-5545-4e99-9436-4314a1f4358d"
      },
      "source": [
        "print(rdf_model.score(X_train, y_train))\r\n",
        "\r\n",
        "print(rdf_model.score(X_val, rdf_predict))\r\n",
        "\r\n",
        "print(rdf_model.score(X_val, y_val))"
      ],
      "execution_count": 64,
      "outputs": [
        {
          "output_type": "stream",
          "text": [
            "0.9592575845293573\n",
            "1.0\n",
            "0.6822885626912729\n"
          ],
          "name": "stdout"
        }
      ]
    },
    {
      "cell_type": "code",
      "metadata": {
        "colab": {
          "base_uri": "https://localhost:8080/"
        },
        "id": "XZKTU6n2bo_c",
        "outputId": "254a9da8-72db-4dcc-8c66-2120df20e070"
      },
      "source": [
        "# Mean Squared Error \r\n",
        "\r\n",
        "from sklearn.metrics import mean_squared_error\r\n",
        "MSE_rdf = mean_squared_error(y_val, rdf_predict)\r\n",
        "\r\n",
        "print(MSE_rdf)"
      ],
      "execution_count": 65,
      "outputs": [
        {
          "output_type": "stream",
          "text": [
            "261.03778542716844\n"
          ],
          "name": "stdout"
        }
      ]
    },
    {
      "cell_type": "code",
      "metadata": {
        "id": "bubyfDbLcMF0"
      },
      "source": [
        "# using the forest model to predict death rate for the test data\r\n",
        "\r\n",
        "predictions2 = rdf_model.predict(test_data)"
      ],
      "execution_count": 66,
      "outputs": []
    },
    {
      "cell_type": "code",
      "metadata": {
        "colab": {
          "base_uri": "https://localhost:8080/"
        },
        "id": "sbVWz1P9cY4C",
        "outputId": "c6260d09-66a1-4ec7-b014-df69aeaef2ac"
      },
      "source": [
        "print(predictions2)"
      ],
      "execution_count": 67,
      "outputs": [
        {
          "output_type": "stream",
          "text": [
            "[141.861 195.983 163.834 160.783 159.752 176.969 187.301 168.974 155.938\n",
            " 180.308 153.798 191.653 165.149 167.631 198.95  170.671 190.206 169.712\n",
            " 173.848 175.852 174.594 230.903 170.883 175.866 136.92  160.162 184.948\n",
            " 233.417 162.987 176.679 159.647 175.449 161.889 170.3   158.158 165.247\n",
            " 164.731 209.659 155.744 180.473 199.859 178.426 178.59  172.464 169.272\n",
            " 160.624 172.09  192.466 188.443 171.737 152.877 172.835 180.275 169.629\n",
            " 162.95  186.009 195.192 195.25  188.387 164.609 178.419 185.951 181.041\n",
            " 179.967 185.406 171.291 181.52  184.091 193.061 163.988 190.916 182.833\n",
            " 175.199 152.848 188.733 174.412 182.162 178.265 162.37  191.994 199.461\n",
            " 157.799 195.178 177.201 190.113 175.799 159.468 195.082 198.72  196.571\n",
            " 200.597 173.587 149.077 167.645 175.72  166.499 190.943 158.367 166.54\n",
            " 189.774 140.753 170.331 172.805 185.415 195.771 177.611 171.657 161.383\n",
            " 199.299 209.027 182.968 162.77  158.503 158.74  204.695 172.338 186.251\n",
            " 179.715 225.652 155.556 196.64  174.112 158.182 205.584 195.418 187.061\n",
            " 167.198 218.348 172.354 188.486 182.203 185.335 187.986 228.497 164.47\n",
            " 170.557 173.59  158.593 196.916 179.462 194.243 192.271 202.759 173.306\n",
            " 190.09  152.007 193.833 140.313 204.385 177.281 192.251 204.071 189.95\n",
            " 179.447 155.545 140.766 185.209 169.182 202.96  122.196 155.818 184.166\n",
            " 161.193 185.52  158.659 172.349 203.608 176.49  209.332 201.909 182.556\n",
            " 192.747 155.631 188.505 159.482 207.164 188.228 170.89  199.239 167.84\n",
            " 177.15  182.116 161.943 209.055 183.769 184.818 163.298 194.259 208.264\n",
            " 175.47  185.86  180.994 201.526 163.214 150.873 168.564 190.95  183.12\n",
            " 159.409 192.286 162.652 184.475 178.497 176.537 166.249 173.041 179.805\n",
            " 177.45  182.053 154.814 192.751 180.296 169.302 185.618 175.45  158.871\n",
            " 210.73  191.889 200.331 140.358 173.721 166.965 207.439 172.013 190.687\n",
            " 186.849 192.662 186.7   160.549 169.666 185.097 181.834 158.395 173.774\n",
            " 198.143 163.693 160.026 193.044 173.967 181.792 200.13  223.571 155.18\n",
            " 202.424 201.999 159.676 168.315 186.523 193.771 249.194 188.117 191.724\n",
            " 130.467 126.92  163.839 190.114 176.144 169.528 170.202 181.699 164.511\n",
            " 169.735 189.454 163.671 174.746 199.263 176.766 191.942 193.796 188.752\n",
            " 191.822 180.787 169.398 194.548 176.08  201.69  182.876 130.555 157.348\n",
            " 177.261 218.186 159.697 225.901 162.417 196.119 187.2   191.636 183.762\n",
            " 188.806 176.554 166.637 171.609 170.147 198.468 158.555 163.17  183.342\n",
            " 195.198 170.33  177.407 150.031 151.282 187.837 189.707 167.914 173.883\n",
            " 152.792 205.199 165.942 172.668 191.825 196.153 166.38  187.134 166.599\n",
            " 162.343 192.942 178.902 188.149 159.479 187.61  170.288 167.785 182.891\n",
            " 162.857 174.271 210.716 175.956 177.165 192.197 193.625 190.867 209.078\n",
            " 179.126 181.453 162.939 162.872 188.382 156.618 188.091 178.882 165.525\n",
            " 214.17  185.678 198.436 158.08  160.61  190.604 181.303 204.33  170.365\n",
            " 174.677 188.242 170.247 162.316 211.14  167.483 176.304 174.399 174.55\n",
            " 186.972 175.605 182.014 149.683 180.598 164.01  176.377 219.728 164.412\n",
            " 157.618 184.679 181.438 195.224 160.124 189.716 180.795 166.887 186.953\n",
            " 175.301 193.909 199.312 187.942 194.686 173.601 170.127 176.855 170.773\n",
            " 179.735 203.482 191.588 175.428 152.666 158.428 176.026 187.232 172.022\n",
            " 179.543 160.783 171.574 187.605 185.093 205.679 143.253 186.272 194.965\n",
            " 159.897 197.586 179.485 176.927 161.618 166.296 156.655 201.78  200.89\n",
            " 155.394 186.89  168.398 178.552 186.179 163.455 192.785 158.52  205.041\n",
            " 204.645 195.18  177.087 196.136 181.77  177.098 188.672 166.39  182.421\n",
            " 187.844 192.988 171.365 154.876 172.767 170.923 193.697 177.078 187.467\n",
            " 184.207 157.937 190.832 226.655 209.184 214.802 174.11  185.16  156.674\n",
            " 177.611 196.472 182.066 184.662 179.807 152.75  180.452 191.561 205.903\n",
            " 167.871 184.837 203.572 157.513 180.351 206.073 155.514 197.812 164.573\n",
            " 167.166 184.309 162.013 181.948 196.249 151.007 173.566 153.476 211.462\n",
            " 169.867 155.343 214.475 207.513 185.331 162.364 172.771 172.098 171.671\n",
            " 179.311 202.096 211.109 205.09  169.289 157.815 218.895 167.565 171.572\n",
            " 234.072 184.842 218.921 161.82  174.049 193.436 195.902 192.693 174.501\n",
            " 196.166 205.241 159.553 164.574 163.077 146.613 203.988 183.008 181.295\n",
            " 198.444 182.779 165.563 185.778 163.253 182.234 182.814 160.487 171.036\n",
            " 177.756 162.482 197.279 195.558 177.529 180.531 163.114 214.    174.965\n",
            " 172.042 183.675 162.09  184.373 183.054 187.289 195.344 230.926 173.616\n",
            " 192.594 162.211 179.241 156.013 175.091 173.814 160.699 201.053 173.773\n",
            " 185.874 174.461 165.236 196.954 147.535 191.376 160.34  175.453 154.564\n",
            " 208.984 195.292 186.062 179.007 156.448 175.302 173.475 182.331 169.65\n",
            " 198.415 209.461 177.158 174.833 188.904 182.749 201.456 189.934 166.052\n",
            " 193.112 190.779 181.414 165.07  206.785 189.299 200.462 152.458 166.245\n",
            " 192.612 219.299 201.71  164.748 195.934 171.801 170.762 193.326 176.646\n",
            " 194.046 168.021 188.601 169.912 200.186 171.087 181.625 184.401 161.578\n",
            " 209.954 171.767 177.213 179.301 185.491 179.983 194.34  162.254 178.589\n",
            " 203.252 186.89  175.342 192.13  181.68  163.415 171.527 189.147 175.374\n",
            " 163.081 186.579 181.656 195.375 178.542 186.984 173.244 178.106 177.107\n",
            " 180.818 155.628 218.658 167.399 190.714 250.186 202.418 200.236 168.881\n",
            " 164.517 198.454 209.766 219.92  199.843 186.971 179.154 200.067 170.144\n",
            " 237.419 200.06  184.891 179.874 169.251 160.394 172.783 182.107 186.219\n",
            " 177.615 179.234 226.958 196.592 196.817 180.401 162.074 186.357 188.881\n",
            " 194.106 203.398 191.285 190.529 177.15  176.766 181.583 169.137 201.659\n",
            " 142.283 186.164 161.979 202.167 176.108 174.585 201.919 161.076 179.401\n",
            " 186.741 180.719 171.609 191.416 185.166 155.499 182.248 157.995 151.84\n",
            " 192.996 200.092 162.769 161.2   171.33  158.245 173.537 205.103 166.5\n",
            " 202.951 176.703 190.027 182.774 152.812 180.69  175.58  226.939 188.662\n",
            " 198.259 175.225 174.683 192.495 172.428 173.493 204.193 187.372 204.808\n",
            " 160.989 161.609 223.049 177.099 174.104 161.871 177.319 252.208 173.945\n",
            " 178.674 196.557 164.056 205.595 171.325 175.967 159.458 188.798 163.377\n",
            " 148.398 191.084 200.153 185.503 149.06  206.213 137.886 174.432 167.393\n",
            " 190.775 157.901 186.6   167.838 192.597 167.709 199.553 223.438 175.923\n",
            " 187.535 208.257 189.596 186.171 201.399 169.344]\n"
          ],
          "name": "stdout"
        }
      ]
    },
    {
      "cell_type": "markdown",
      "metadata": {
        "id": "IxDSxp7KfExo"
      },
      "source": [
        "**Decision Tree Regressor Model**"
      ]
    },
    {
      "cell_type": "code",
      "metadata": {
        "colab": {
          "base_uri": "https://localhost:8080/"
        },
        "id": "QQdrOgCSccSv",
        "outputId": "9cc46cf3-f912-431f-df4c-88d24a0c74e4"
      },
      "source": [
        "# Decision Tree Model\r\n",
        "\r\n",
        "dtr_model = DecisionTreeRegressor(random_state= 42)\r\n",
        "\r\n",
        "dtr_model.fit(X_train, y_train)"
      ],
      "execution_count": 71,
      "outputs": [
        {
          "output_type": "execute_result",
          "data": {
            "text/plain": [
              "DecisionTreeRegressor(ccp_alpha=0.0, criterion='mse', max_depth=None,\n",
              "                      max_features=None, max_leaf_nodes=None,\n",
              "                      min_impurity_decrease=0.0, min_impurity_split=None,\n",
              "                      min_samples_leaf=1, min_samples_split=2,\n",
              "                      min_weight_fraction_leaf=0.0, presort='deprecated',\n",
              "                      random_state=42, splitter='best')"
            ]
          },
          "metadata": {
            "tags": []
          },
          "execution_count": 71
        }
      ]
    },
    {
      "cell_type": "code",
      "metadata": {
        "id": "iR8Wzygoe7L5"
      },
      "source": [
        "dtr_predict= dtr_model.predict(X_val)"
      ],
      "execution_count": 72,
      "outputs": []
    },
    {
      "cell_type": "code",
      "metadata": {
        "colab": {
          "base_uri": "https://localhost:8080/"
        },
        "id": "JQqhJKmxfdNX",
        "outputId": "7f89ecd0-7b9c-4c7a-b215-a1a35fc934ba"
      },
      "source": [
        "print(dtr_model.score(X_val,dtr_predict))\r\n",
        "\r\n",
        "print(dtr_model.score(X_train,y_train))\r\n",
        "\r\n",
        "print(dtr_model.score(X_val,y_val))"
      ],
      "execution_count": 73,
      "outputs": [
        {
          "output_type": "stream",
          "text": [
            "1.0\n",
            "1.0\n",
            "0.34841707280275347\n"
          ],
          "name": "stdout"
        }
      ]
    },
    {
      "cell_type": "code",
      "metadata": {
        "colab": {
          "base_uri": "https://localhost:8080/"
        },
        "id": "45sF0SgffwqX",
        "outputId": "61060151-f2cb-4045-b952-ee0e1893d20b"
      },
      "source": [
        "# Mean Squared Error \r\n",
        "\r\n",
        "from sklearn.metrics import mean_squared_error\r\n",
        "MSE_dtr = mean_squared_error(y_val, dtr_predict)\r\n",
        "\r\n",
        "print(MSE_dtr)"
      ],
      "execution_count": 74,
      "outputs": [
        {
          "output_type": "stream",
          "text": [
            "535.3529787234044\n"
          ],
          "name": "stdout"
        }
      ]
    },
    {
      "cell_type": "code",
      "metadata": {
        "id": "5rq02U80gFsd"
      },
      "source": [
        "# using the tree model to predict death rate for the test data\r\n",
        "\r\n",
        "predictions3 = dtr_model.predict(test_data)"
      ],
      "execution_count": 75,
      "outputs": []
    },
    {
      "cell_type": "code",
      "metadata": {
        "colab": {
          "base_uri": "https://localhost:8080/"
        },
        "id": "GMF1x1qAgW6g",
        "outputId": "bde57e8e-b9fe-4ad8-b810-179ea2b7f14f"
      },
      "source": [
        "print(predictions3)"
      ],
      "execution_count": 76,
      "outputs": [
        {
          "output_type": "stream",
          "text": [
            "[131.2 191.2 181.5 165.2 172.1 179.9 193.9 193.2 154.8 212.3  94.4 191.7\n",
            " 174.2 155.5 205.3 147.  193.7 163.5 186.7 178.2 177.5 216.7 179.8 179.9\n",
            " 139.  151.9 195.9 266.2 163.6 172.8 140.8 189.7 151.8 176.6 169.2 147.\n",
            " 122.5 220.9 138.2 258.7 224.3 180.  170.6 161.9 124.3 152.5 131.8 204.4\n",
            " 199.1 188.3 164.7 162.6 191.8 170.6 179.7 193.5 172.4 202.8 175.8 155.6\n",
            " 189.2 185.5 173.6 194.3 206.  186.3 151.7 167.8 187.9 187.2 199.1 167.6\n",
            " 170.9 152.1 160.  177.7 198.4 193.9 167.9 208.1 202.9 159.9 198.2 169.7\n",
            " 182.4 185.8 156.5 178.1 220.2 195.7 178.  185.6 136.9 163.5 258.7 177.5\n",
            " 184.1  97.3 147.2 183.5 148.9 184.1 185.  205.4 198.2 185.1 168.4 170.1\n",
            " 236.4 225.4 175.  200.4 164.  181.7 175.3 185.6 203.6 155.6 236.  172.2\n",
            " 188.9 181.2 154.4 184.3 182.4 177.6 176.1 202.2 184.1 193.2 189.8 181.\n",
            " 186.  238.4 163.6 139.  176.1 163.  198.4 185.  205.9 127.1 198.5 179.1\n",
            " 193.9 153.2 211.2 148.9 220.2 201.4 183.7 230.  234.9 178.3 127.1 148.9\n",
            " 233.1 158.6 198.5 102.6 143.8 164.9 160.9 170.1 125.3 185.6 205.4 157.8\n",
            " 248.1 206.8 158.1 188.6 147.2 180.9 157.  198.2 176.9 148.  160.6 176.4\n",
            " 189.7 173.6 138.4 218.3 199.4 194.2 161.2 215.7 140.5 177.  196.4 186.9\n",
            " 196.  172.2 147.8 123.9 178.1 196.9 153.3 199.1 175.4 198.2 180.  193.1\n",
            " 177.  192.  171.  189.7 175.1 154.6 188.9 186.1 167.3 193.2 179.4 156.6\n",
            " 140.5 198.2 187.3 117.6 163.1 184.1 230.  160.7 213.6 169.3 209.1 184.2\n",
            " 173.  155.1 212.1 166.7 155.2 177.7 187.9 148.3 137.4 208.4 186.7 182.3\n",
            " 222.9 292.5 153.3 174.  199.5 160.4 179.9 182.6 174.8 266.2 220.4 184.2\n",
            " 154.3  80.8 151.2 164.4 160.8 158.6 173.9 198.4 164.9 185.6 180.8 173.\n",
            " 165.1 197.9 165.2 180.  203.9 180.9 177.  146.2 141.  198.2 176.4 221.7\n",
            " 195.1 137.9 200.6 179.1 208.5 170.1 126.4 166.5 183.  168.6 198.2 163.5\n",
            " 208.5 200.4 172.2 185.  170.  183.7 170.1 154.3 168.9 211.3 185.6 171.6\n",
            " 127.1 138.2 230.3 208.3 146.9 165.8 127.1 232.1 164.3 205.2 206.8 209.2\n",
            " 184.5 193.9 148.3 200.4 215.6 204.3 165.3 173.  205.9 178.1 173.  186.7\n",
            " 139.  180.4 140.5 173.  173.  141.8 167.8 151.7 236.  169.  176.4 152.6\n",
            " 162.  179.  144.4 193.1 187.3 169.4 236.  182.8 183.7 132.3 155.2 188.1\n",
            " 168.6 220.2 170.  172.9 176.4 179.7 177.  230.6 177.6 180.1 146.8 200.6\n",
            " 172.9 189.7 188.1 143.4 192.  147.  193.1 205.  164.5 142.9 186.9 190.5\n",
            " 210.5 162.7 191.7 184.2 166.7 182.6 201.  248.1 172.8 201.7 185.2 199.9\n",
            " 165.4 203.2 186.3 155.6 175.3 168.3 169.3 131.9 166.9 201.4 180.2 166.\n",
            " 190.  153.3 171.6 183.5 175.3 203.9 136.  181.8 215.5 142.2 192.7 182.9\n",
            " 181.6 178.6 187.2 143.5 208.4 193.4 150.3 182.9 162.2 172.2 149.4 177.\n",
            " 184.  175.5 224.3 218.1 196.6 159.2 196.4 196.6 174.4 187.3 177.9 123.4\n",
            " 200.5 197.9 172.8 186.9 163.7 162.5 151.7 226.4 199.1 162.7 155.2 183.2\n",
            " 246.4 196.6 244.9 175.5 201.8 136.4 160.6 198.5 201.  168.7 165.7 132.3\n",
            " 171.8 199.4 201.5 205.  180.5 184.5 170.1 174.2 201.5 146.4 181.7 179.8\n",
            " 180.  179.3 172.1 150.9 230.  153.9 175.9 159.4 212.3 151.8 157.5 157.\n",
            " 211.2 211.7 156.6 173.2 201.4 162.7 167.3 236.  230.6 236.  160.3 148.\n",
            " 154.5 171.5 164.3 221.5 179.1 234.6 208.3 178.6 205.9 175.3 176.6 191.8\n",
            " 201.6 182.4 181.7 166.2 168.6 152.5 177.  165.3 212.1 193.6 144.8 147.\n",
            " 179.9 158.1 201.4 182.3 142.4 166.2 191.1 159.2 203.3 183.8 188.2 144.8\n",
            " 177.1 232.1 163.5 166.9 200.4 171.8 137.6 208.5 179.6 232.3 258.6 146.8\n",
            " 191.8 176.7 183.6 147.7 145.4 188.1 194.3 218.3 186.7 193.1 178.7 176.6\n",
            " 178.  119.3 182.  163.4 176.1 215.9 208.  201.2 194.  167.8 181.7 180.1\n",
            " 159.7 186.7 178.1 178.  189.1 178.3 164.4 205.4 177.6 205.  166.4 195.4\n",
            " 178.  175.  179.3 142.4 208.  205.  220.4 153.3 154.1 160.  230.  184.5\n",
            " 162.6 165.4 151.9 176.6 192.  200.4 166.4 184.3 149.4 170.9 191.7 192.\n",
            " 186.  179.  166.7 211.9 147.9 198.7 165.2 185.5 185.4 213.4 162.9 164.3\n",
            " 140.5 191.9 185.1 185.9 180.8 172.5 214.4 179.6 194.  181.2 194.  130.3\n",
            " 203.9 189.4 187.7 174.2 181.6 186.2 159.3 136.5 175.3 162.7 201.5 239.3\n",
            " 230.  206.8 181.6 155.6 198.9 222.1 196.6 201.5 189.8 175.5 204.5 160.7\n",
            " 240.8 199.5 169.2 200.6 200.7 123.9 155.9 179.  177.7 201.8 168.8 211.\n",
            " 220.2 209.2 168.1 147.1 187.9 192.8 166.4 185.4 197.2 188.4 168.9 179.3\n",
            " 215.9 155.2 140.5 117.6 196.4 143.5 202.5 173.6 157.6 214.3 153.4 169.7\n",
            " 175.2 186.7 188.3 205.9 191.7 148.7 177.8 185.9 137.  168.4 206.8 182.2\n",
            " 177.5 176.4 130.3 200.4 199.5 180.1 189.5 188.4 204.9 177.5 155.3 181.7\n",
            " 169.8 211.  174.  190.  194.3 214.4 182.4 174.2 167.6 183.7 187.3 190.8\n",
            " 174.2 172.2 236.  180.2 160.7 152.6 171.6 275.9 181.  177.6 215.1 198.4\n",
            " 202.2 187.7 180.9 143.5 189.8 173.1 148.2 183.7 200.1 180.9 144.4 232.3\n",
            "  80.8 170.7 142.4 184.5 148.3 195.3 173.1 191.5 183.1 185.3 227.9 189.7\n",
            " 167.8 230.6 197.2 170.6 184.5 195.3]\n"
          ],
          "name": "stdout"
        }
      ]
    },
    {
      "cell_type": "markdown",
      "metadata": {
        "id": "oRXFLbjogon7"
      },
      "source": [
        "**HyperTuning On the Forest Model**"
      ]
    },
    {
      "cell_type": "code",
      "metadata": {
        "id": "VKm4RIbogcQw"
      },
      "source": [
        "from sklearn.model_selection import GridSearchCV\r\n",
        "# Create the parameter grid based on the results of random search \r\n",
        "param_grid = {\r\n",
        "    'bootstrap': [True, False],\r\n",
        "    'max_depth': [5, 10, 15],\r\n",
        "    'n_estimators': [500, 1000]}"
      ],
      "execution_count": 77,
      "outputs": []
    },
    {
      "cell_type": "code",
      "metadata": {
        "id": "M8iNSsEYhFj6"
      },
      "source": [
        "rdf= RandomForestRegressor(random_state= 42)\r\n",
        "\r\n",
        "# Grid search cv\r\n",
        "grid_search = GridSearchCV(estimator = rdf, param_grid = param_grid, \r\n",
        "                          cv = 2, n_jobs = -1, verbose = 2)"
      ],
      "execution_count": 78,
      "outputs": []
    },
    {
      "cell_type": "code",
      "metadata": {
        "colab": {
          "base_uri": "https://localhost:8080/"
        },
        "id": "7NbK1H4fhM8y",
        "outputId": "c140bbc4-fd67-4a72-9e8c-91d64d6414ec"
      },
      "source": [
        "grid_search.fit(X_train, y_train)"
      ],
      "execution_count": 79,
      "outputs": [
        {
          "output_type": "stream",
          "text": [
            "Fitting 2 folds for each of 12 candidates, totalling 24 fits\n"
          ],
          "name": "stdout"
        },
        {
          "output_type": "stream",
          "text": [
            "[Parallel(n_jobs=-1)]: Using backend LokyBackend with 2 concurrent workers.\n",
            "[Parallel(n_jobs=-1)]: Done  24 out of  24 | elapsed:  4.9min finished\n"
          ],
          "name": "stderr"
        },
        {
          "output_type": "execute_result",
          "data": {
            "text/plain": [
              "GridSearchCV(cv=2, error_score=nan,\n",
              "             estimator=RandomForestRegressor(bootstrap=True, ccp_alpha=0.0,\n",
              "                                             criterion='mse', max_depth=None,\n",
              "                                             max_features='auto',\n",
              "                                             max_leaf_nodes=None,\n",
              "                                             max_samples=None,\n",
              "                                             min_impurity_decrease=0.0,\n",
              "                                             min_impurity_split=None,\n",
              "                                             min_samples_leaf=1,\n",
              "                                             min_samples_split=2,\n",
              "                                             min_weight_fraction_leaf=0.0,\n",
              "                                             n_estimators=100, n_jobs=None,\n",
              "                                             oob_score=False, random_state=42,\n",
              "                                             verbose=0, warm_start=False),\n",
              "             iid='deprecated', n_jobs=-1,\n",
              "             param_grid={'bootstrap': [True, False], 'max_depth': [5, 10, 15],\n",
              "                         'n_estimators': [500, 1000]},\n",
              "             pre_dispatch='2*n_jobs', refit=True, return_train_score=False,\n",
              "             scoring=None, verbose=2)"
            ]
          },
          "metadata": {
            "tags": []
          },
          "execution_count": 79
        }
      ]
    },
    {
      "cell_type": "code",
      "metadata": {
        "colab": {
          "base_uri": "https://localhost:8080/"
        },
        "id": "BqfaJEzzhRu1",
        "outputId": "21a29681-511c-408b-aba8-27f798d14559"
      },
      "source": [
        "grid_search.best_params_"
      ],
      "execution_count": 80,
      "outputs": [
        {
          "output_type": "execute_result",
          "data": {
            "text/plain": [
              "{'bootstrap': True, 'max_depth': 15, 'n_estimators': 1000}"
            ]
          },
          "metadata": {
            "tags": []
          },
          "execution_count": 80
        }
      ]
    },
    {
      "cell_type": "code",
      "metadata": {
        "colab": {
          "base_uri": "https://localhost:8080/"
        },
        "id": "ETEdvo1BhXr9",
        "outputId": "27184dce-3d76-4c74-96e6-6267b78c2bda"
      },
      "source": [
        "# mean_squared error\r\n",
        "\r\n",
        "MSE_rdf_hpt = mean_squared_error(y_val, grid_search.predict(X_val))\r\n",
        "\r\n",
        "print(MSE_rdf_hpt)"
      ],
      "execution_count": 82,
      "outputs": [
        {
          "output_type": "stream",
          "text": [
            "258.3068605925751\n"
          ],
          "name": "stdout"
        }
      ]
    },
    {
      "cell_type": "code",
      "metadata": {
        "id": "SfNYQJ5MhrbO"
      },
      "source": [
        "predictions4= grid_search.predict(test_data)"
      ],
      "execution_count": 83,
      "outputs": []
    },
    {
      "cell_type": "code",
      "metadata": {
        "colab": {
          "base_uri": "https://localhost:8080/"
        },
        "id": "J-rYDG_Xh7iw",
        "outputId": "a9581a2a-0558-4a70-d650-139ac902182a"
      },
      "source": [
        "print(predictions4)"
      ],
      "execution_count": 84,
      "outputs": [
        {
          "output_type": "stream",
          "text": [
            "[141.8653867  197.12481247 163.58991498 160.59231085 161.54879886\n",
            " 177.45153629 187.52088416 171.03838745 155.11081325 180.61085607\n",
            " 157.2940503  190.65214092 163.44073228 167.27543606 201.25427572\n",
            " 171.57651133 190.25126236 170.539082   174.18464612 175.7012816\n",
            " 174.21959084 232.01314663 172.41897712 176.51114815 136.5911\n",
            " 159.9279935  184.72475092 233.43908931 161.38387193 176.14671519\n",
            " 159.37290964 173.51185299 162.6818385  170.07944896 156.99067035\n",
            " 166.72504616 165.07041161 208.18803968 156.90462673 183.43943356\n",
            " 196.56370685 175.58549214 184.23379761 173.51977804 167.67731614\n",
            " 160.49114147 173.09268892 190.84381052 189.54097804 172.70093259\n",
            " 151.86538442 170.77876363 182.3208664  169.62572541 163.49511035\n",
            " 186.04693424 194.24426138 197.78738658 184.81395063 164.73765662\n",
            " 179.49845604 185.22366474 179.97526854 178.88615607 185.28844523\n",
            " 171.84649245 181.5258055  186.03889548 191.00241672 162.41976251\n",
            " 192.82477955 180.36520069 176.6137165  152.96067046 186.03551066\n",
            " 174.46602226 180.46922719 178.3453447  161.73837029 191.63198154\n",
            " 199.1078542  158.4910621  195.61172041 177.86494283 190.79526545\n",
            " 177.31967573 160.05183138 191.8350169  199.08762323 197.18483807\n",
            " 201.20620263 172.7533057  147.92169235 168.68839334 180.91296439\n",
            " 166.58503962 191.18593069 156.16056365 167.32285553 192.32530976\n",
            " 141.49784769 168.95909181 173.71372427 183.64159251 194.69940519\n",
            " 175.50165654 170.04816216 159.9349198  199.32176422 210.94972875\n",
            " 182.94239819 166.84276024 158.54171356 158.39070793 201.27301942\n",
            " 172.22626125 184.01698969 179.68050558 226.57766607 157.47477698\n",
            " 200.23349361 172.43676243 159.14653947 204.11737806 193.92488197\n",
            " 187.69882621 165.85252746 217.98922625 173.4326062  189.36227628\n",
            " 182.57623799 186.00041309 186.48419832 227.95513643 165.3186295\n",
            " 167.3626159  172.37331654 159.4797041  193.40528496 180.58965864\n",
            " 193.28565739 189.38667844 203.30562979 174.70218116 189.49387294\n",
            " 151.7017658  192.41250959 139.5230825  204.79057232 177.83622543\n",
            " 188.59529351 203.90243535 192.86102316 179.95529001 155.56770837\n",
            " 138.92232004 185.65910527 168.87387717 203.5523381  120.27925283\n",
            " 156.65258613 181.69991167 161.40333998 185.33024687 156.06947434\n",
            " 170.28918528 204.58359591 179.27393099 209.42356299 202.32722013\n",
            " 178.90096834 192.47288147 158.28957293 187.64326526 159.97687242\n",
            " 205.81377618 187.20788392 172.25710898 198.02736153 167.80062625\n",
            " 178.54276036 181.87446877 160.87771818 210.1073797  183.93665454\n",
            " 178.29939019 162.22139964 193.46248043 208.73133892 177.491285\n",
            " 185.67314372 181.10704606 196.89875183 162.02355752 151.0706724\n",
            " 168.0887671  188.76452785 183.77838965 158.37131727 194.65093774\n",
            " 164.02842834 186.13207754 176.1414584  178.21107841 167.71462562\n",
            " 175.73062456 178.99148424 174.74407897 178.72130433 154.61675812\n",
            " 192.77021339 180.08571832 173.7402731  185.90863845 175.07592177\n",
            " 162.08609794 213.91908708 191.31445407 198.8325973  141.01182771\n",
            " 174.70041447 167.04259588 205.91797883 174.05373968 190.32777329\n",
            " 189.38367373 193.73907168 186.13495897 160.30538989 168.538657\n",
            " 187.32160812 181.35163509 158.04742324 176.96085508 195.62541577\n",
            " 159.75962257 162.68653071 193.49806989 174.0243917  181.46968603\n",
            " 197.57467231 212.37091335 155.27688208 204.49778952 206.19329782\n",
            " 159.81521662 166.89479411 184.16886893 192.6616968  249.8504\n",
            " 189.39891154 189.61340205 130.08375    125.41061037 163.01250939\n",
            " 189.98210913 174.91163724 169.41735515 171.88790811 178.23615965\n",
            " 164.86331121 171.91419251 187.97098643 163.74534436 173.38643448\n",
            " 198.74928492 174.54604683 192.76082896 191.67909132 186.8517876\n",
            " 191.66548976 182.05233279 169.82871754 194.28916731 177.75586833\n",
            " 201.29377347 183.67072642 133.23419387 160.44977536 177.38574512\n",
            " 216.84961659 162.46493081 229.69845375 161.54076806 194.76917718\n",
            " 187.75101203 191.59291785 181.42979848 190.43122779 176.84691156\n",
            " 164.25936227 174.15297948 169.39336892 198.85007482 159.93352078\n",
            " 167.30792758 180.54315693 196.34372596 169.63872504 176.04267144\n",
            " 150.91738769 154.77208834 191.01208781 189.59130072 165.55139399\n",
            " 172.12036418 156.17996319 205.45312447 163.38744747 170.27359412\n",
            " 189.10162234 193.29557139 172.47981467 186.15999995 164.22581687\n",
            " 164.72459259 193.15667125 178.87352738 186.8567251  161.67386563\n",
            " 187.50674593 167.61227747 169.65847881 182.11718751 162.33181675\n",
            " 173.7515358  213.71923892 174.19532842 175.75760112 189.06630328\n",
            " 193.58489979 191.48215201 210.31193285 177.04091613 179.6872927\n",
            " 163.04838178 165.23935114 188.09422673 154.55076886 189.90117264\n",
            " 178.49470922 167.82335018 214.23196635 186.84016777 197.94024804\n",
            " 160.26308346 161.4245571  192.79793746 181.1192694  203.43786843\n",
            " 172.32123104 175.99434883 187.37662546 169.84534955 163.47125818\n",
            " 210.95940835 167.21628948 176.54286508 175.09579107 173.81310367\n",
            " 186.80145624 174.83905143 182.64296267 147.22685769 176.75985213\n",
            " 165.23898773 177.46310878 220.08603257 161.54870323 158.06252294\n",
            " 181.63767062 183.42530717 195.37875599 161.62306205 188.59564075\n",
            " 181.38566586 164.7596148  186.47270622 176.55495054 196.50014705\n",
            " 199.58285912 186.98262294 192.66338974 172.68310251 172.40716878\n",
            " 176.31157697 173.05749754 178.8820784  204.48928948 188.01999513\n",
            " 175.41420416 151.17491493 161.00443628 175.81549136 192.05760621\n",
            " 172.81430262 181.24298221 158.35570319 171.92893844 186.47156202\n",
            " 183.53381468 202.40726845 140.22761745 186.88625455 194.61308488\n",
            " 157.94801293 199.67966604 178.09097262 179.33065238 161.42549261\n",
            " 168.21724151 157.71583773 201.06803081 201.89710889 155.9047462\n",
            " 187.80703157 167.95949143 179.05749315 184.09325943 164.39850561\n",
            " 194.8341641  158.6543764  202.52554123 203.14459271 193.5165076\n",
            " 179.67637931 196.40279066 182.18414929 178.91412216 186.79605222\n",
            " 169.00609381 175.95420718 187.8146044  194.46037989 171.54638188\n",
            " 157.54054221 172.18022334 171.63190059 194.45037843 177.50708292\n",
            " 189.42196925 183.70576389 158.21754881 188.54339054 226.89239241\n",
            " 206.65748618 218.82211142 173.63967226 184.34589518 153.26904724\n",
            " 173.72061507 198.79020419 181.8126407  184.32376005 179.53377794\n",
            " 152.43713486 180.90063958 191.27881589 204.56055324 169.60183311\n",
            " 183.93990564 201.09835883 157.5035635  179.62677288 203.39021071\n",
            " 155.57599329 197.41876259 165.7745164  171.41745861 183.09447302\n",
            " 160.29078327 185.21703482 198.44685833 151.21457589 172.60837142\n",
            " 150.85234343 212.13859013 168.51515887 155.88845579 198.88312455\n",
            " 206.95362355 185.62185802 163.45028488 172.46455684 173.08507744\n",
            " 174.40824926 179.13296575 203.55006711 210.82924008 207.69043222\n",
            " 169.35631746 154.10231117 220.99725989 168.34279802 170.45801008\n",
            " 237.99254305 184.43935192 217.84471701 161.55709278 176.16898794\n",
            " 191.66584933 192.50365952 192.49231186 174.69256247 195.05955657\n",
            " 202.6974765  160.68664312 165.34961113 162.44772163 147.88229717\n",
            " 202.77805356 185.30964728 181.16289477 198.74271427 184.41734431\n",
            " 166.94934996 188.36644248 166.34448703 181.47853349 182.10455578\n",
            " 161.23303615 169.50116773 177.51587246 161.62342495 199.81420077\n",
            " 196.25336146 174.76649195 180.88497641 162.3184977  216.68145316\n",
            " 173.52297363 171.67562048 184.57065764 161.32712154 186.5796149\n",
            " 183.68713441 186.89952072 193.08971117 232.09967314 176.31055693\n",
            " 191.97058994 165.15119821 179.34877391 156.0451563  176.56858029\n",
            " 173.12682936 164.85914343 198.7624374  175.69438881 184.41901878\n",
            " 172.58912064 167.76419313 195.72616588 144.03035634 193.07347079\n",
            " 160.26066528 178.11410005 153.75751423 206.6621677  195.39495449\n",
            " 185.2397129  179.1963115  157.07322491 175.42221887 171.24735856\n",
            " 181.51445651 171.37683635 202.76102222 207.66447879 179.65440928\n",
            " 173.40536506 187.72417588 182.20580521 203.08155886 189.34623268\n",
            " 161.38538209 194.9291188  188.81156222 183.26099398 161.66945391\n",
            " 206.58851944 188.74740654 201.43071082 152.25578162 165.60412824\n",
            " 191.05654628 220.50179284 199.68453011 167.38764147 195.88294265\n",
            " 172.54397495 168.24118786 193.27332316 176.63100195 192.95794096\n",
            " 168.14861748 189.47745408 170.65705086 199.76279721 172.98250792\n",
            " 181.88288165 184.48975555 162.09867646 208.39071286 170.41157532\n",
            " 177.15174815 179.39467956 187.51038087 179.79587044 192.43560084\n",
            " 160.92720386 180.59911444 205.46746512 186.42389978 174.93477025\n",
            " 192.74811252 182.42275578 163.24713115 172.31254617 190.55576687\n",
            " 177.5680193  164.99985787 184.30765481 180.41402042 196.58655293\n",
            " 180.91115132 188.82024648 173.41339617 177.90813397 181.90240521\n",
            " 180.44969136 158.10329519 218.06494665 166.34675431 191.13760697\n",
            " 248.39332971 204.1629206  197.50820339 169.54065171 163.9098914\n",
            " 194.86967614 208.16844245 219.93505631 198.40620829 185.34049463\n",
            " 177.41460292 198.40645577 170.12039226 236.48868139 199.59967307\n",
            " 183.62372661 179.25316642 169.60786606 161.02682167 172.91774396\n",
            " 180.65731755 186.87404245 176.93196574 178.96931782 226.59642523\n",
            " 196.23480003 195.65367413 178.54361272 160.96250135 186.45459345\n",
            " 188.81806401 191.58597782 205.03132687 190.18164119 190.97374259\n",
            " 176.85274277 181.22409187 182.07873875 167.27650756 202.85610241\n",
            " 144.71758846 185.93273755 159.13365564 199.83175791 175.87938026\n",
            " 173.35834802 202.9229567  159.77422256 181.32734982 186.75612081\n",
            " 180.21116144 171.62944956 187.99571308 185.04359    155.8178308\n",
            " 183.30572824 161.05736972 154.59086534 192.01408648 202.21009113\n",
            " 160.44889012 160.41757729 171.14526467 157.18968333 173.78783791\n",
            " 206.79881598 166.85136733 202.05267049 176.49489087 187.54842556\n",
            " 184.25290719 152.77610337 180.38206489 176.76712493 226.7831802\n",
            " 190.39018791 192.63982666 175.37629572 176.51167856 193.351534\n",
            " 173.10072084 174.27399287 203.37993645 188.31182073 203.97474632\n",
            " 161.55494152 162.3911307  218.2971191  178.10075154 176.60644101\n",
            " 162.03739495 177.96429768 250.21501949 175.64816948 178.61433712\n",
            " 198.85363485 160.96180391 206.55399937 171.05454536 174.81660328\n",
            " 158.78317275 188.55908055 162.20521605 143.76709674 191.05426373\n",
            " 198.11672006 184.91182063 149.33519749 207.74209081 137.77530584\n",
            " 173.32860469 165.20774191 191.59772488 156.92049851 188.59904089\n",
            " 169.41520633 193.34978203 172.15063757 198.73181176 222.90624154\n",
            " 175.02528871 185.22036801 209.38519738 191.28933759 186.2326109\n",
            " 200.95191911 169.45275627]\n"
          ],
          "name": "stdout"
        }
      ]
    },
    {
      "cell_type": "markdown",
      "metadata": {
        "id": "CaqfcHzih_gi"
      },
      "source": [
        "**HyperTunning on the Tree Model**"
      ]
    },
    {
      "cell_type": "code",
      "metadata": {
        "id": "24Oy_x1sh-k0"
      },
      "source": [
        "# Create the parameter grid based on the results of random search \r\n",
        "param_grid = {\r\n",
        "    'criterion': ['mse','mae', 'friedman_mse'],\r\n",
        "    'max_depth': [5, 10, 15]}"
      ],
      "execution_count": 105,
      "outputs": []
    },
    {
      "cell_type": "code",
      "metadata": {
        "id": "Nq-m_-AniNNv"
      },
      "source": [
        "dtr= DecisionTreeRegressor(random_state= 42,)\r\n",
        "\r\n",
        "# Grid search cv\r\n",
        "grid_search = GridSearchCV(estimator = dtr, param_grid = param_grid, \r\n",
        "                          cv = 2, n_jobs = -1, verbose = 2)"
      ],
      "execution_count": 106,
      "outputs": []
    },
    {
      "cell_type": "code",
      "metadata": {
        "colab": {
          "base_uri": "https://localhost:8080/"
        },
        "id": "XSgsNCKNiX_j",
        "outputId": "3c9eb9d2-08b6-4b5d-f80e-59f0e5c579dc"
      },
      "source": [
        "grid_search.fit(X_train, y_train)"
      ],
      "execution_count": 107,
      "outputs": [
        {
          "output_type": "stream",
          "text": [
            "Fitting 2 folds for each of 9 candidates, totalling 18 fits\n"
          ],
          "name": "stdout"
        },
        {
          "output_type": "stream",
          "text": [
            "[Parallel(n_jobs=-1)]: Using backend LokyBackend with 2 concurrent workers.\n",
            "[Parallel(n_jobs=-1)]: Done  15 out of  18 | elapsed:    1.5s remaining:    0.3s\n",
            "[Parallel(n_jobs=-1)]: Done  18 out of  18 | elapsed:    1.9s finished\n"
          ],
          "name": "stderr"
        },
        {
          "output_type": "execute_result",
          "data": {
            "text/plain": [
              "GridSearchCV(cv=2, error_score=nan,\n",
              "             estimator=DecisionTreeRegressor(ccp_alpha=0.0, criterion='mse',\n",
              "                                             max_depth=None, max_features=None,\n",
              "                                             max_leaf_nodes=None,\n",
              "                                             min_impurity_decrease=0.0,\n",
              "                                             min_impurity_split=None,\n",
              "                                             min_samples_leaf=1,\n",
              "                                             min_samples_split=2,\n",
              "                                             min_weight_fraction_leaf=0.0,\n",
              "                                             presort='deprecated',\n",
              "                                             random_state=42, splitter='best'),\n",
              "             iid='deprecated', n_jobs=-1,\n",
              "             param_grid={'criterion': ['mse', 'mae', 'friedman_mse'],\n",
              "                         'max_depth': [5, 10, 15]},\n",
              "             pre_dispatch='2*n_jobs', refit=True, return_train_score=False,\n",
              "             scoring=None, verbose=2)"
            ]
          },
          "metadata": {
            "tags": []
          },
          "execution_count": 107
        }
      ]
    },
    {
      "cell_type": "code",
      "metadata": {
        "colab": {
          "base_uri": "https://localhost:8080/"
        },
        "id": "ghR1EG05idSP",
        "outputId": "e51b79d0-7ba4-49cb-afe1-7fbf36a282de"
      },
      "source": [
        "grid_search.best_params_"
      ],
      "execution_count": 108,
      "outputs": [
        {
          "output_type": "execute_result",
          "data": {
            "text/plain": [
              "{'criterion': 'friedman_mse', 'max_depth': 5}"
            ]
          },
          "metadata": {
            "tags": []
          },
          "execution_count": 108
        }
      ]
    },
    {
      "cell_type": "code",
      "metadata": {
        "colab": {
          "base_uri": "https://localhost:8080/"
        },
        "id": "wgEv6Jv4n7H9",
        "outputId": "178fc0b9-3cf7-4d01-df13-829dcdbf30ea"
      },
      "source": [
        " # mean_squared error\r\n",
        "\r\n",
        "MSE_dtr_hpt = mean_squared_error(y_val, grid_search.predict(X_val))\r\n",
        "\r\n",
        "print(MSE_dtr_hpt)"
      ],
      "execution_count": 109,
      "outputs": [
        {
          "output_type": "stream",
          "text": [
            "501.0159931311025\n"
          ],
          "name": "stdout"
        }
      ]
    },
    {
      "cell_type": "code",
      "metadata": {
        "id": "dYCAC3OFzBze"
      },
      "source": [
        "predictions5= grid_search.predict(test_data)"
      ],
      "execution_count": 111,
      "outputs": []
    },
    {
      "cell_type": "code",
      "metadata": {
        "colab": {
          "base_uri": "https://localhost:8080/"
        },
        "id": "ybbmG7QKzIfL",
        "outputId": "8bbfcb21-e8d3-4ed9-f10d-7ef7aeb2a337"
      },
      "source": [
        "print(predictions5)"
      ],
      "execution_count": 112,
      "outputs": [
        {
          "output_type": "stream",
          "text": [
            "[163.99084507 196.77612903 162.11554404 178.60297483 178.60297483\n",
            " 177.86363636 190.19117647 178.60297483 151.8375     196.77612903\n",
            "  88.67777778 196.77612903 162.11554404 163.99084507 196.77612903\n",
            " 162.11554404 178.60297483 173.86153846 178.60297483 163.94646465\n",
            " 178.60297483 232.34666667 163.99084507 163.94646465 138.98125\n",
            " 162.11554404 196.77612903 232.34666667 162.11554404 178.60297483\n",
            " 163.94646465 178.60297483 163.94646465 173.86153846 163.99084507\n",
            " 162.11554404 141.40833333 190.19117647 143.20384615 192.01134021\n",
            " 196.77612903 177.86363636 190.19117647 177.86363636 166.33055556\n",
            " 143.20384615 173.86153846 190.19117647 196.77612903 177.86363636\n",
            " 151.8375     178.60297483 163.99084507 178.60297483 178.60297483\n",
            " 192.01134021 173.86153846 196.77612903 190.19117647 162.11554404\n",
            " 166.33055556 178.60297483 178.60297483 162.11554404 196.77612903\n",
            " 178.60297483 196.77612903 173.86153846 196.77612903 162.11554404\n",
            " 196.77612903 177.86363636 178.60297483 151.8375     196.77612903\n",
            " 177.86363636 205.86666667 196.77612903 162.11554404 190.19117647\n",
            " 190.19117647 162.11554404 196.77612903 178.60297483 192.01134021\n",
            " 178.60297483 177.86363636 196.77612903 196.77612903 192.01134021\n",
            " 203.04606742 178.60297483 143.20384615 163.99084507 192.01134021\n",
            " 162.11554404 196.77612903 163.99084507 162.11554404 196.77612903\n",
            " 124.39090909 178.60297483 163.99084507 177.86363636 192.01134021\n",
            " 178.60297483 173.86153846 162.11554404 190.19117647 196.77612903\n",
            " 178.60297483 178.60297483 163.94646465 162.11554404 203.04606742\n",
            " 178.60297483 173.86153846 178.60297483 203.04606742 162.11554404\n",
            " 196.77612903 178.60297483 151.8375     203.04606742 192.01134021\n",
            " 196.77612903 163.94646465 203.04606742 167.44137931 196.77612903\n",
            " 192.01134021 178.60297483 196.77612903 232.34666667 163.99084507\n",
            " 178.60297483 178.60297483 162.11554404 205.86666667 163.99084507\n",
            " 196.77612903 141.40833333 196.77612903 178.60297483 190.19117647\n",
            " 143.20384615 196.77612903 124.39090909 196.77612903 177.86363636\n",
            " 196.77612903 203.04606742 246.7        190.19117647 143.20384615\n",
            " 124.39090909 196.77612903 178.60297483 203.04606742 124.39090909\n",
            " 163.99084507 190.19117647 163.94646465 196.77612903 162.11554404\n",
            " 178.60297483 196.77612903 177.86363636 196.77612903 196.77612903\n",
            " 178.60297483 192.01134021 162.11554404 196.77612903 162.11554404\n",
            " 203.04606742 196.77612903 166.33055556 190.19117647 178.60297483\n",
            " 167.44137931 178.60297483 178.60297483 203.04606742 178.60297483\n",
            " 178.60297483 178.60297483 178.60297483 203.04606742 190.19117647\n",
            " 177.86363636 162.11554404 196.77612903 162.11554404 151.8375\n",
            " 177.86363636 196.77612903 196.77612903 163.94646465 196.77612903\n",
            " 163.94646465 192.01134021 178.60297483 178.60297483 162.11554404\n",
            " 163.99084507 163.99084507 178.60297483 178.60297483 163.99084507\n",
            " 196.77612903 192.01134021 163.99084507 178.60297483 178.60297483\n",
            " 163.99084507 203.04606742 192.01134021 196.77612903 143.20384615\n",
            " 177.86363636 178.60297483 203.04606742 178.60297483 196.77612903\n",
            " 192.01134021 190.19117647 178.60297483 177.86363636 177.86363636\n",
            " 196.77612903 196.77612903 162.11554404 177.86363636 196.77612903\n",
            " 163.99084507 162.11554404 177.86363636 163.94646465 192.01134021\n",
            " 196.77612903 157.         163.94646465 196.77612903 203.04606742\n",
            " 162.11554404 177.86363636 178.60297483 196.77612903 232.34666667\n",
            " 196.77612903 178.60297483 138.98125     88.67777778 163.94646465\n",
            " 196.77612903 178.60297483 178.60297483 178.60297483 205.86666667\n",
            " 162.11554404 178.60297483 196.77612903 177.86363636 177.86363636\n",
            " 196.77612903 178.60297483 196.77612903 196.77612903 177.86363636\n",
            " 178.60297483 173.86153846 178.60297483 192.01134021 177.86363636\n",
            " 192.01134021 196.77612903 124.39090909 178.60297483 178.60297483\n",
            " 232.34666667 162.11554404 232.34666667 178.60297483 196.77612903\n",
            " 173.86153846 192.01134021 177.86363636 192.01134021 178.60297483\n",
            " 162.11554404 163.99084507 178.60297483 196.77612903 162.11554404\n",
            " 162.11554404 163.99084507 190.19117647 178.60297483 173.86153846\n",
            " 143.20384615 143.20384615 196.77612903 196.77612903 163.99084507\n",
            " 162.11554404 143.20384615 196.77612903 178.60297483 162.11554404\n",
            " 196.77612903 190.19117647 177.86363636 190.19117647 163.99084507\n",
            " 178.60297483 196.77612903 178.60297483 178.60297483 177.86363636\n",
            " 196.77612903 178.60297483 177.86363636 178.60297483 178.60297483\n",
            " 163.94646465 203.04606742 177.86363636 177.86363636 196.77612903\n",
            " 190.19117647 196.77612903 203.04606742 177.86363636 192.01134021\n",
            " 162.11554404 162.11554404 190.19117647 143.20384615 178.60297483\n",
            " 166.33055556 162.11554404 203.04606742 196.77612903 196.77612903\n",
            " 162.11554404 163.99084507 190.19117647 178.60297483 196.77612903\n",
            " 178.60297483 178.60297483 192.01134021 178.60297483 162.11554404\n",
            " 196.77612903 162.11554404 178.60297483 166.33055556 178.60297483\n",
            " 178.60297483 178.60297483 190.19117647 143.20384615 173.86153846\n",
            " 162.11554404 178.60297483 232.34666667 163.99084507 163.94646465\n",
            " 178.60297483 178.60297483 217.43846154 162.11554404 178.60297483\n",
            " 178.60297483 162.11554404 178.60297483 163.99084507 196.77612903\n",
            " 196.77612903 178.60297483 196.77612903 163.99084507 178.60297483\n",
            " 166.33055556 178.60297483 178.60297483 203.04606742 196.77612903\n",
            " 177.86363636 138.98125    162.11554404 178.60297483 196.77612903\n",
            " 163.99084507 192.01134021 163.94646465 178.60297483 196.77612903\n",
            " 178.60297483 196.77612903 124.39090909 177.86363636 192.01134021\n",
            " 163.94646465 196.77612903 173.86153846 196.77612903 163.99084507\n",
            " 162.11554404 163.94646465 196.77612903 196.77612903 162.11554404\n",
            " 196.77612903 178.60297483 177.86363636 196.77612903 162.11554404\n",
            " 196.77612903 178.60297483 196.77612903 192.01134021 196.77612903\n",
            " 167.44137931 196.77612903 178.60297483 173.86153846 196.77612903\n",
            " 178.60297483 141.40833333 192.01134021 196.77612903 178.60297483\n",
            " 162.11554404 177.86363636 178.60297483 196.77612903 190.19117647\n",
            " 196.77612903 190.19117647 162.11554404 196.77612903 232.34666667\n",
            " 196.77612903 196.77612903 178.60297483 178.60297483 162.11554404\n",
            " 190.19117647 203.04606742 163.99084507 196.77612903 178.60297483\n",
            " 162.11554404 163.94646465 178.60297483 196.77612903 162.11554404\n",
            " 178.60297483 196.77612903 162.11554404 178.60297483 196.77612903\n",
            " 162.11554404 192.01134021 173.86153846 177.86363636 178.60297483\n",
            " 178.60297483 173.86153846 203.04606742 143.20384615 177.86363636\n",
            " 163.99084507 192.01134021 163.94646465 163.99084507 292.5\n",
            " 196.77612903 196.77612903 163.99084507 178.60297483 178.60297483\n",
            " 190.19117647 173.86153846 203.04606742 196.77612903 203.04606742\n",
            " 162.11554404 166.33055556 232.34666667 163.99084507 178.60297483\n",
            " 232.34666667 178.60297483 224.85       162.11554404 196.77612903\n",
            " 196.77612903 203.04606742 196.77612903 178.60297483 190.19117647\n",
            " 192.01134021 162.11554404 162.11554404 163.94646465 143.20384615\n",
            " 196.77612903 178.60297483 190.19117647 190.19117647 162.11554404\n",
            " 162.11554404 192.01134021 162.11554404 177.86363636 192.01134021\n",
            " 162.11554404 162.11554404 162.11554404 162.11554404 196.77612903\n",
            " 196.77612903 178.60297483 162.11554404 163.94646465 196.77612903\n",
            " 177.86363636 162.11554404 178.60297483 163.94646465 190.19117647\n",
            " 192.01134021 196.77612903 178.60297483 232.34666667 166.33055556\n",
            " 196.77612903 163.94646465 162.11554404 162.11554404 162.11554404\n",
            " 178.60297483 162.11554404 203.04606742 178.60297483 178.60297483\n",
            " 178.60297483 173.86153846 203.04606742 151.8375     192.01134021\n",
            " 178.60297483 178.60297483 162.11554404 196.77612903 190.19117647\n",
            " 192.01134021 173.86153846 162.11554404 178.60297483 162.11554404\n",
            " 178.60297483 178.60297483 192.01134021 196.77612903 173.86153846\n",
            " 167.44137931 177.86363636 196.77612903 232.34666667 196.77612903\n",
            " 141.40833333 192.01134021 178.60297483 178.60297483 162.11554404\n",
            " 196.77612903 178.60297483 196.77612903 151.8375     178.60297483\n",
            " 196.77612903 203.04606742 196.77612903 178.60297483 196.77612903\n",
            " 162.11554404 178.60297483 196.77612903 178.60297483 196.77612903\n",
            " 178.60297483 196.77612903 178.60297483 196.77612903 163.99084507\n",
            " 196.77612903 178.60297483 166.33055556 217.43846154 178.60297483\n",
            " 178.60297483 162.11554404 178.60297483 196.77612903 196.77612903\n",
            " 163.94646465 178.60297483 203.04606742 196.77612903 178.60297483\n",
            " 196.77612903 196.77612903 178.60297483 162.11554404 196.77612903\n",
            " 192.01134021 177.86363636 192.01134021 166.33055556 196.77612903\n",
            " 178.60297483 177.86363636 178.60297483 178.60297483 178.60297483\n",
            " 166.33055556 163.99084507 203.04606742 163.94646465 196.77612903\n",
            " 232.34666667 203.04606742 196.77612903 162.11554404 162.11554404\n",
            " 192.01134021 196.77612903 196.77612903 196.77612903 192.01134021\n",
            " 178.60297483 196.77612903 178.60297483 232.34666667 203.04606742\n",
            " 178.60297483 178.60297483 162.11554404 177.86363636 162.11554404\n",
            " 178.60297483 196.77612903 178.60297483 178.60297483 232.34666667\n",
            " 196.77612903 190.19117647 177.86363636 141.40833333 196.77612903\n",
            " 178.60297483 196.77612903 203.04606742 196.77612903 178.60297483\n",
            " 163.99084507 178.60297483 162.11554404 163.99084507 203.04606742\n",
            " 143.20384615 192.01134021 163.94646465 196.77612903 177.86363636\n",
            " 163.99084507 192.01134021 163.94646465 178.60297483 178.60297483\n",
            " 178.60297483 177.86363636 196.77612903 178.60297483 162.11554404\n",
            " 177.86363636 143.20384615 163.99084507 173.86153846 196.77612903\n",
            " 163.94646465 162.11554404 178.60297483 166.33055556 178.60297483\n",
            " 203.04606742 178.60297483 196.77612903 162.11554404 178.60297483\n",
            " 178.60297483 162.11554404 178.60297483 178.60297483 232.34666667\n",
            " 196.77612903 217.43846154 162.11554404 190.19117647 192.01134021\n",
            " 162.11554404 173.86153846 203.04606742 166.33055556 196.77612903\n",
            " 162.11554404 162.11554404 203.04606742 173.86153846 190.19117647\n",
            " 162.11554404 178.60297483 232.34666667 178.60297483 177.86363636\n",
            " 196.77612903 141.40833333 203.04606742 177.86363636 178.60297483\n",
            " 163.94646465 178.60297483 178.60297483 162.11554404 196.77612903\n",
            " 196.77612903 178.60297483 143.20384615 196.77612903  88.67777778\n",
            " 173.86153846 162.11554404 196.77612903 163.99084507 196.77612903\n",
            " 178.60297483 192.01134021 177.86363636 196.77612903 232.34666667\n",
            " 178.60297483 173.86153846 196.77612903 196.77612903 190.19117647\n",
            " 196.77612903 173.86153846]\n"
          ],
          "name": "stdout"
        }
      ]
    },
    {
      "cell_type": "markdown",
      "metadata": {
        "id": "f2trL1zBzYJM"
      },
      "source": [
        "**Feature Selection with Boruta**"
      ]
    },
    {
      "cell_type": "code",
      "metadata": {
        "colab": {
          "base_uri": "https://localhost:8080/"
        },
        "id": "Szs9amHn0dYC",
        "outputId": "507c3403-09d9-450c-95d9-b176ddaa73b8"
      },
      "source": [
        "!pip install Boruta"
      ],
      "execution_count": 114,
      "outputs": [
        {
          "output_type": "stream",
          "text": [
            "Collecting Boruta\n",
            "\u001b[?25l  Downloading https://files.pythonhosted.org/packages/b2/11/583f4eac99d802c79af9217e1eff56027742a69e6c866b295cce6a5a8fc2/Boruta-0.3-py3-none-any.whl (56kB)\n",
            "\r\u001b[K     |█████▉                          | 10kB 14.6MB/s eta 0:00:01\r\u001b[K     |███████████▋                    | 20kB 10.1MB/s eta 0:00:01\r\u001b[K     |█████████████████▍              | 30kB 6.8MB/s eta 0:00:01\r\u001b[K     |███████████████████████▏        | 40kB 3.1MB/s eta 0:00:01\r\u001b[K     |█████████████████████████████   | 51kB 3.8MB/s eta 0:00:01\r\u001b[K     |████████████████████████████████| 61kB 2.8MB/s \n",
            "\u001b[?25hRequirement already satisfied: scikit-learn>=0.17.1 in /usr/local/lib/python3.6/dist-packages (from Boruta) (0.22.2.post1)\n",
            "Requirement already satisfied: scipy>=0.17.0 in /usr/local/lib/python3.6/dist-packages (from Boruta) (1.4.1)\n",
            "Requirement already satisfied: numpy>=1.10.4 in /usr/local/lib/python3.6/dist-packages (from Boruta) (1.18.5)\n",
            "Requirement already satisfied: joblib>=0.11 in /usr/local/lib/python3.6/dist-packages (from scikit-learn>=0.17.1->Boruta) (0.17.0)\n",
            "Installing collected packages: Boruta\n",
            "Successfully installed Boruta-0.3\n"
          ],
          "name": "stdout"
        }
      ]
    },
    {
      "cell_type": "code",
      "metadata": {
        "id": "S8QLQYaDzRDJ"
      },
      "source": [
        "from boruta import BorutaPy"
      ],
      "execution_count": 115,
      "outputs": []
    },
    {
      "cell_type": "code",
      "metadata": {
        "colab": {
          "base_uri": "https://localhost:8080/"
        },
        "id": "ZDdGq6tz0YXE",
        "outputId": "e18ea226-1492-425e-a6b5-ae3dec88f8e0"
      },
      "source": [
        "rdf = RandomForestRegressor(random_state= 42, n_estimators= 1000, max_depth= 15, criterion= 'mse')\r\n",
        "\r\n",
        "boruta_selector = BorutaPy(rdf, n_estimators='auto', verbose=2, random_state= 42)   # initialize the boruta selector\r\n",
        "\r\n",
        "boruta_selector.fit(np.array(X_train), np.array(y_train))       # fitting the boruta selector to get all relavent features. \r\n",
        "# NOTE: BorutaPy accepts numpy arrays only."
      ],
      "execution_count": 118,
      "outputs": [
        {
          "output_type": "stream",
          "text": [
            "Iteration: \t1 / 100\n",
            "Confirmed: \t0\n",
            "Tentative: \t33\n",
            "Rejected: \t0\n",
            "Iteration: \t2 / 100\n",
            "Confirmed: \t0\n",
            "Tentative: \t33\n",
            "Rejected: \t0\n",
            "Iteration: \t3 / 100\n",
            "Confirmed: \t0\n",
            "Tentative: \t33\n",
            "Rejected: \t0\n",
            "Iteration: \t4 / 100\n",
            "Confirmed: \t0\n",
            "Tentative: \t33\n",
            "Rejected: \t0\n",
            "Iteration: \t5 / 100\n",
            "Confirmed: \t0\n",
            "Tentative: \t33\n",
            "Rejected: \t0\n",
            "Iteration: \t6 / 100\n",
            "Confirmed: \t0\n",
            "Tentative: \t33\n",
            "Rejected: \t0\n",
            "Iteration: \t7 / 100\n",
            "Confirmed: \t0\n",
            "Tentative: \t33\n",
            "Rejected: \t0\n",
            "Iteration: \t8 / 100\n",
            "Confirmed: \t27\n",
            "Tentative: \t3\n",
            "Rejected: \t3\n",
            "Iteration: \t9 / 100\n",
            "Confirmed: \t27\n",
            "Tentative: \t3\n",
            "Rejected: \t3\n",
            "Iteration: \t10 / 100\n",
            "Confirmed: \t27\n",
            "Tentative: \t3\n",
            "Rejected: \t3\n",
            "Iteration: \t11 / 100\n",
            "Confirmed: \t27\n",
            "Tentative: \t3\n",
            "Rejected: \t3\n",
            "Iteration: \t12 / 100\n",
            "Confirmed: \t27\n",
            "Tentative: \t3\n",
            "Rejected: \t3\n",
            "Iteration: \t13 / 100\n",
            "Confirmed: \t27\n",
            "Tentative: \t3\n",
            "Rejected: \t3\n",
            "Iteration: \t14 / 100\n",
            "Confirmed: \t27\n",
            "Tentative: \t3\n",
            "Rejected: \t3\n",
            "Iteration: \t15 / 100\n",
            "Confirmed: \t27\n",
            "Tentative: \t3\n",
            "Rejected: \t3\n",
            "Iteration: \t16 / 100\n",
            "Confirmed: \t27\n",
            "Tentative: \t3\n",
            "Rejected: \t3\n",
            "Iteration: \t17 / 100\n",
            "Confirmed: \t27\n",
            "Tentative: \t3\n",
            "Rejected: \t3\n",
            "Iteration: \t18 / 100\n",
            "Confirmed: \t27\n",
            "Tentative: \t3\n",
            "Rejected: \t3\n",
            "Iteration: \t19 / 100\n",
            "Confirmed: \t27\n",
            "Tentative: \t3\n",
            "Rejected: \t3\n",
            "Iteration: \t20 / 100\n",
            "Confirmed: \t27\n",
            "Tentative: \t3\n",
            "Rejected: \t3\n",
            "Iteration: \t21 / 100\n",
            "Confirmed: \t27\n",
            "Tentative: \t3\n",
            "Rejected: \t3\n",
            "Iteration: \t22 / 100\n",
            "Confirmed: \t27\n",
            "Tentative: \t3\n",
            "Rejected: \t3\n",
            "Iteration: \t23 / 100\n",
            "Confirmed: \t27\n",
            "Tentative: \t3\n",
            "Rejected: \t3\n",
            "Iteration: \t24 / 100\n",
            "Confirmed: \t27\n",
            "Tentative: \t3\n",
            "Rejected: \t3\n",
            "Iteration: \t25 / 100\n",
            "Confirmed: \t27\n",
            "Tentative: \t3\n",
            "Rejected: \t3\n",
            "Iteration: \t26 / 100\n",
            "Confirmed: \t27\n",
            "Tentative: \t3\n",
            "Rejected: \t3\n",
            "Iteration: \t27 / 100\n",
            "Confirmed: \t27\n",
            "Tentative: \t3\n",
            "Rejected: \t3\n",
            "Iteration: \t28 / 100\n",
            "Confirmed: \t27\n",
            "Tentative: \t3\n",
            "Rejected: \t3\n",
            "Iteration: \t29 / 100\n",
            "Confirmed: \t27\n",
            "Tentative: \t3\n",
            "Rejected: \t3\n",
            "Iteration: \t30 / 100\n",
            "Confirmed: \t27\n",
            "Tentative: \t3\n",
            "Rejected: \t3\n",
            "Iteration: \t31 / 100\n",
            "Confirmed: \t27\n",
            "Tentative: \t3\n",
            "Rejected: \t3\n",
            "Iteration: \t32 / 100\n",
            "Confirmed: \t27\n",
            "Tentative: \t3\n",
            "Rejected: \t3\n",
            "Iteration: \t33 / 100\n",
            "Confirmed: \t27\n",
            "Tentative: \t3\n",
            "Rejected: \t3\n",
            "Iteration: \t34 / 100\n",
            "Confirmed: \t27\n",
            "Tentative: \t2\n",
            "Rejected: \t4\n",
            "Iteration: \t35 / 100\n",
            "Confirmed: \t27\n",
            "Tentative: \t2\n",
            "Rejected: \t4\n",
            "Iteration: \t36 / 100\n",
            "Confirmed: \t27\n",
            "Tentative: \t2\n",
            "Rejected: \t4\n",
            "Iteration: \t37 / 100\n",
            "Confirmed: \t27\n",
            "Tentative: \t2\n",
            "Rejected: \t4\n",
            "Iteration: \t38 / 100\n",
            "Confirmed: \t27\n",
            "Tentative: \t2\n",
            "Rejected: \t4\n",
            "Iteration: \t39 / 100\n",
            "Confirmed: \t27\n",
            "Tentative: \t2\n",
            "Rejected: \t4\n",
            "Iteration: \t40 / 100\n",
            "Confirmed: \t27\n",
            "Tentative: \t2\n",
            "Rejected: \t4\n",
            "Iteration: \t41 / 100\n",
            "Confirmed: \t27\n",
            "Tentative: \t2\n",
            "Rejected: \t4\n",
            "Iteration: \t42 / 100\n",
            "Confirmed: \t27\n",
            "Tentative: \t2\n",
            "Rejected: \t4\n",
            "Iteration: \t43 / 100\n",
            "Confirmed: \t27\n",
            "Tentative: \t1\n",
            "Rejected: \t5\n",
            "Iteration: \t44 / 100\n",
            "Confirmed: \t27\n",
            "Tentative: \t1\n",
            "Rejected: \t5\n",
            "Iteration: \t45 / 100\n",
            "Confirmed: \t27\n",
            "Tentative: \t1\n",
            "Rejected: \t5\n",
            "Iteration: \t46 / 100\n",
            "Confirmed: \t27\n",
            "Tentative: \t1\n",
            "Rejected: \t5\n",
            "Iteration: \t47 / 100\n",
            "Confirmed: \t27\n",
            "Tentative: \t1\n",
            "Rejected: \t5\n",
            "Iteration: \t48 / 100\n",
            "Confirmed: \t27\n",
            "Tentative: \t1\n",
            "Rejected: \t5\n",
            "Iteration: \t49 / 100\n",
            "Confirmed: \t27\n",
            "Tentative: \t1\n",
            "Rejected: \t5\n",
            "Iteration: \t50 / 100\n",
            "Confirmed: \t27\n",
            "Tentative: \t1\n",
            "Rejected: \t5\n",
            "Iteration: \t51 / 100\n",
            "Confirmed: \t27\n",
            "Tentative: \t1\n",
            "Rejected: \t5\n",
            "Iteration: \t52 / 100\n",
            "Confirmed: \t27\n",
            "Tentative: \t1\n",
            "Rejected: \t5\n",
            "Iteration: \t53 / 100\n",
            "Confirmed: \t27\n",
            "Tentative: \t1\n",
            "Rejected: \t5\n",
            "Iteration: \t54 / 100\n",
            "Confirmed: \t27\n",
            "Tentative: \t1\n",
            "Rejected: \t5\n",
            "Iteration: \t55 / 100\n",
            "Confirmed: \t27\n",
            "Tentative: \t1\n",
            "Rejected: \t5\n",
            "Iteration: \t56 / 100\n",
            "Confirmed: \t27\n",
            "Tentative: \t1\n",
            "Rejected: \t5\n",
            "Iteration: \t57 / 100\n",
            "Confirmed: \t27\n",
            "Tentative: \t1\n",
            "Rejected: \t5\n",
            "Iteration: \t58 / 100\n",
            "Confirmed: \t27\n",
            "Tentative: \t1\n",
            "Rejected: \t5\n",
            "Iteration: \t59 / 100\n",
            "Confirmed: \t27\n",
            "Tentative: \t1\n",
            "Rejected: \t5\n",
            "Iteration: \t60 / 100\n",
            "Confirmed: \t27\n",
            "Tentative: \t1\n",
            "Rejected: \t5\n",
            "Iteration: \t61 / 100\n",
            "Confirmed: \t27\n",
            "Tentative: \t1\n",
            "Rejected: \t5\n",
            "Iteration: \t62 / 100\n",
            "Confirmed: \t27\n",
            "Tentative: \t1\n",
            "Rejected: \t5\n",
            "Iteration: \t63 / 100\n",
            "Confirmed: \t27\n",
            "Tentative: \t1\n",
            "Rejected: \t5\n",
            "Iteration: \t64 / 100\n",
            "Confirmed: \t27\n",
            "Tentative: \t1\n",
            "Rejected: \t5\n",
            "Iteration: \t65 / 100\n",
            "Confirmed: \t27\n",
            "Tentative: \t1\n",
            "Rejected: \t5\n",
            "Iteration: \t66 / 100\n",
            "Confirmed: \t27\n",
            "Tentative: \t1\n",
            "Rejected: \t5\n",
            "Iteration: \t67 / 100\n",
            "Confirmed: \t27\n",
            "Tentative: \t1\n",
            "Rejected: \t5\n",
            "Iteration: \t68 / 100\n",
            "Confirmed: \t27\n",
            "Tentative: \t1\n",
            "Rejected: \t5\n",
            "Iteration: \t69 / 100\n",
            "Confirmed: \t27\n",
            "Tentative: \t1\n",
            "Rejected: \t5\n",
            "Iteration: \t70 / 100\n",
            "Confirmed: \t27\n",
            "Tentative: \t1\n",
            "Rejected: \t5\n",
            "Iteration: \t71 / 100\n",
            "Confirmed: \t27\n",
            "Tentative: \t1\n",
            "Rejected: \t5\n",
            "Iteration: \t72 / 100\n",
            "Confirmed: \t27\n",
            "Tentative: \t1\n",
            "Rejected: \t5\n",
            "Iteration: \t73 / 100\n",
            "Confirmed: \t27\n",
            "Tentative: \t1\n",
            "Rejected: \t5\n",
            "Iteration: \t74 / 100\n",
            "Confirmed: \t27\n",
            "Tentative: \t1\n",
            "Rejected: \t5\n",
            "Iteration: \t75 / 100\n",
            "Confirmed: \t27\n",
            "Tentative: \t1\n",
            "Rejected: \t5\n",
            "Iteration: \t76 / 100\n",
            "Confirmed: \t27\n",
            "Tentative: \t1\n",
            "Rejected: \t5\n",
            "Iteration: \t77 / 100\n",
            "Confirmed: \t27\n",
            "Tentative: \t1\n",
            "Rejected: \t5\n",
            "Iteration: \t78 / 100\n",
            "Confirmed: \t27\n",
            "Tentative: \t1\n",
            "Rejected: \t5\n",
            "Iteration: \t79 / 100\n",
            "Confirmed: \t27\n",
            "Tentative: \t1\n",
            "Rejected: \t5\n",
            "Iteration: \t80 / 100\n",
            "Confirmed: \t27\n",
            "Tentative: \t1\n",
            "Rejected: \t5\n",
            "Iteration: \t81 / 100\n",
            "Confirmed: \t27\n",
            "Tentative: \t1\n",
            "Rejected: \t5\n",
            "Iteration: \t82 / 100\n",
            "Confirmed: \t27\n",
            "Tentative: \t1\n",
            "Rejected: \t5\n",
            "Iteration: \t83 / 100\n",
            "Confirmed: \t27\n",
            "Tentative: \t1\n",
            "Rejected: \t5\n",
            "Iteration: \t84 / 100\n",
            "Confirmed: \t27\n",
            "Tentative: \t1\n",
            "Rejected: \t5\n",
            "Iteration: \t85 / 100\n",
            "Confirmed: \t27\n",
            "Tentative: \t1\n",
            "Rejected: \t5\n",
            "Iteration: \t86 / 100\n",
            "Confirmed: \t27\n",
            "Tentative: \t1\n",
            "Rejected: \t5\n",
            "Iteration: \t87 / 100\n",
            "Confirmed: \t27\n",
            "Tentative: \t1\n",
            "Rejected: \t5\n",
            "Iteration: \t88 / 100\n",
            "Confirmed: \t27\n",
            "Tentative: \t1\n",
            "Rejected: \t5\n",
            "Iteration: \t89 / 100\n",
            "Confirmed: \t27\n",
            "Tentative: \t1\n",
            "Rejected: \t5\n",
            "Iteration: \t90 / 100\n",
            "Confirmed: \t28\n",
            "Tentative: \t0\n",
            "Rejected: \t5\n",
            "\n",
            "\n",
            "BorutaPy finished running.\n",
            "\n",
            "Iteration: \t91 / 100\n",
            "Confirmed: \t28\n",
            "Tentative: \t0\n",
            "Rejected: \t5\n"
          ],
          "name": "stdout"
        },
        {
          "output_type": "execute_result",
          "data": {
            "text/plain": [
              "BorutaPy(alpha=0.05,\n",
              "         estimator=RandomForestRegressor(bootstrap=True, ccp_alpha=0.0,\n",
              "                                         criterion='mse', max_depth=15,\n",
              "                                         max_features='auto',\n",
              "                                         max_leaf_nodes=None, max_samples=None,\n",
              "                                         min_impurity_decrease=0.0,\n",
              "                                         min_impurity_split=None,\n",
              "                                         min_samples_leaf=1,\n",
              "                                         min_samples_split=2,\n",
              "                                         min_weight_fraction_leaf=0.0,\n",
              "                                         n_estimators=49, n_jobs=None,\n",
              "                                         oob_score=False,\n",
              "                                         random_state=RandomState(MT19937) at 0x7F42CCAD6048,\n",
              "                                         verbose=0, warm_start=False),\n",
              "         max_iter=100, n_estimators='auto', perc=100,\n",
              "         random_state=RandomState(MT19937) at 0x7F42CCAD6048, two_step=True,\n",
              "         verbose=2)"
            ]
          },
          "metadata": {
            "tags": []
          },
          "execution_count": 118
        }
      ]
    },
    {
      "cell_type": "code",
      "metadata": {
        "colab": {
          "base_uri": "https://localhost:8080/"
        },
        "id": "ElXzbYRd0zwd",
        "outputId": "3b2ebfcd-0baf-4a28-b7db-8501549613fd"
      },
      "source": [
        "print(\"Selected Features: \", boruta_selector.support_)    # check selected features\r\n",
        " \r\n",
        "\r\n",
        "print(\"Ranking: \",boruta_selector.ranking_)               # check ranking of features\r\n",
        "\r\n",
        "print(\"No. of significant features: \", boruta_selector.n_features_)"
      ],
      "execution_count": 119,
      "outputs": [
        {
          "output_type": "stream",
          "text": [
            "Selected Features:  [ True  True  True  True  True  True False False False  True  True  True\n",
            "  True  True  True  True False  True  True  True  True  True  True False\n",
            "  True  True  True  True  True  True  True  True  True]\n",
            "Ranking:  [1 1 1 1 1 1 4 5 3 1 1 1 1 1 1 1 5 1 1 1 1 1 1 2 1 1 1 1 1 1 1 1 1]\n",
            "No. of significant features:  28\n"
          ],
          "name": "stdout"
        }
      ]
    },
    {
      "cell_type": "code",
      "metadata": {
        "colab": {
          "base_uri": "https://localhost:8080/",
          "height": 1000
        },
        "id": "ZFnvuLrW6tAz",
        "outputId": "933f3c48-1934-4d86-9955-29b39015ed92"
      },
      "source": [
        "selected_features = pd.DataFrame({\r\n",
        "                                      'Ranking':boruta_selector.ranking_})\r\n",
        "selected_features.sort_values(by='Ranking')"
      ],
      "execution_count": 120,
      "outputs": [
        {
          "output_type": "execute_result",
          "data": {
            "text/html": [
              "<div>\n",
              "<style scoped>\n",
              "    .dataframe tbody tr th:only-of-type {\n",
              "        vertical-align: middle;\n",
              "    }\n",
              "\n",
              "    .dataframe tbody tr th {\n",
              "        vertical-align: top;\n",
              "    }\n",
              "\n",
              "    .dataframe thead th {\n",
              "        text-align: right;\n",
              "    }\n",
              "</style>\n",
              "<table border=\"1\" class=\"dataframe\">\n",
              "  <thead>\n",
              "    <tr style=\"text-align: right;\">\n",
              "      <th></th>\n",
              "      <th>Ranking</th>\n",
              "    </tr>\n",
              "  </thead>\n",
              "  <tbody>\n",
              "    <tr>\n",
              "      <th>0</th>\n",
              "      <td>1</td>\n",
              "    </tr>\n",
              "    <tr>\n",
              "      <th>30</th>\n",
              "      <td>1</td>\n",
              "    </tr>\n",
              "    <tr>\n",
              "      <th>29</th>\n",
              "      <td>1</td>\n",
              "    </tr>\n",
              "    <tr>\n",
              "      <th>28</th>\n",
              "      <td>1</td>\n",
              "    </tr>\n",
              "    <tr>\n",
              "      <th>27</th>\n",
              "      <td>1</td>\n",
              "    </tr>\n",
              "    <tr>\n",
              "      <th>26</th>\n",
              "      <td>1</td>\n",
              "    </tr>\n",
              "    <tr>\n",
              "      <th>25</th>\n",
              "      <td>1</td>\n",
              "    </tr>\n",
              "    <tr>\n",
              "      <th>24</th>\n",
              "      <td>1</td>\n",
              "    </tr>\n",
              "    <tr>\n",
              "      <th>22</th>\n",
              "      <td>1</td>\n",
              "    </tr>\n",
              "    <tr>\n",
              "      <th>21</th>\n",
              "      <td>1</td>\n",
              "    </tr>\n",
              "    <tr>\n",
              "      <th>20</th>\n",
              "      <td>1</td>\n",
              "    </tr>\n",
              "    <tr>\n",
              "      <th>19</th>\n",
              "      <td>1</td>\n",
              "    </tr>\n",
              "    <tr>\n",
              "      <th>18</th>\n",
              "      <td>1</td>\n",
              "    </tr>\n",
              "    <tr>\n",
              "      <th>17</th>\n",
              "      <td>1</td>\n",
              "    </tr>\n",
              "    <tr>\n",
              "      <th>31</th>\n",
              "      <td>1</td>\n",
              "    </tr>\n",
              "    <tr>\n",
              "      <th>32</th>\n",
              "      <td>1</td>\n",
              "    </tr>\n",
              "    <tr>\n",
              "      <th>14</th>\n",
              "      <td>1</td>\n",
              "    </tr>\n",
              "    <tr>\n",
              "      <th>13</th>\n",
              "      <td>1</td>\n",
              "    </tr>\n",
              "    <tr>\n",
              "      <th>12</th>\n",
              "      <td>1</td>\n",
              "    </tr>\n",
              "    <tr>\n",
              "      <th>11</th>\n",
              "      <td>1</td>\n",
              "    </tr>\n",
              "    <tr>\n",
              "      <th>10</th>\n",
              "      <td>1</td>\n",
              "    </tr>\n",
              "    <tr>\n",
              "      <th>9</th>\n",
              "      <td>1</td>\n",
              "    </tr>\n",
              "    <tr>\n",
              "      <th>15</th>\n",
              "      <td>1</td>\n",
              "    </tr>\n",
              "    <tr>\n",
              "      <th>5</th>\n",
              "      <td>1</td>\n",
              "    </tr>\n",
              "    <tr>\n",
              "      <th>4</th>\n",
              "      <td>1</td>\n",
              "    </tr>\n",
              "    <tr>\n",
              "      <th>3</th>\n",
              "      <td>1</td>\n",
              "    </tr>\n",
              "    <tr>\n",
              "      <th>2</th>\n",
              "      <td>1</td>\n",
              "    </tr>\n",
              "    <tr>\n",
              "      <th>1</th>\n",
              "      <td>1</td>\n",
              "    </tr>\n",
              "    <tr>\n",
              "      <th>23</th>\n",
              "      <td>2</td>\n",
              "    </tr>\n",
              "    <tr>\n",
              "      <th>8</th>\n",
              "      <td>3</td>\n",
              "    </tr>\n",
              "    <tr>\n",
              "      <th>6</th>\n",
              "      <td>4</td>\n",
              "    </tr>\n",
              "    <tr>\n",
              "      <th>7</th>\n",
              "      <td>5</td>\n",
              "    </tr>\n",
              "    <tr>\n",
              "      <th>16</th>\n",
              "      <td>5</td>\n",
              "    </tr>\n",
              "  </tbody>\n",
              "</table>\n",
              "</div>"
            ],
            "text/plain": [
              "    Ranking\n",
              "0         1\n",
              "30        1\n",
              "29        1\n",
              "28        1\n",
              "27        1\n",
              "26        1\n",
              "25        1\n",
              "24        1\n",
              "22        1\n",
              "21        1\n",
              "20        1\n",
              "19        1\n",
              "18        1\n",
              "17        1\n",
              "31        1\n",
              "32        1\n",
              "14        1\n",
              "13        1\n",
              "12        1\n",
              "11        1\n",
              "10        1\n",
              "9         1\n",
              "15        1\n",
              "5         1\n",
              "4         1\n",
              "3         1\n",
              "2         1\n",
              "1         1\n",
              "23        2\n",
              "8         3\n",
              "6         4\n",
              "7         5\n",
              "16        5"
            ]
          },
          "metadata": {
            "tags": []
          },
          "execution_count": 120
        }
      ]
    },
    {
      "cell_type": "code",
      "metadata": {
        "id": "2HBmPTFN60Kz"
      },
      "source": [
        "## creating a new subse of data with selected features\r\n",
        "\r\n",
        "\r\n",
        "X_important_train = boruta_selector.transform(np.array(X_train))\r\n",
        "X_important_val = boruta_selector.transform(np.array(X_val))\r\n",
        "\r\n",
        "testimp_data= boruta_selector.transform(np.array(test_data))"
      ],
      "execution_count": 121,
      "outputs": []
    },
    {
      "cell_type": "markdown",
      "metadata": {
        "id": "TGuLMyUK74Tv"
      },
      "source": [
        "Linear Model with Important features"
      ]
    },
    {
      "cell_type": "code",
      "metadata": {
        "colab": {
          "base_uri": "https://localhost:8080/"
        },
        "id": "MCSjJAYQ7__f",
        "outputId": "b44dc715-63b5-4d6a-b1ed-65290e916488"
      },
      "source": [
        "# linear regression model\r\n",
        "\r\n",
        "lrm_new= LinearRegression()\r\n",
        "\r\n",
        "lrm_new.fit(X_important_train, y_train)"
      ],
      "execution_count": 124,
      "outputs": [
        {
          "output_type": "execute_result",
          "data": {
            "text/plain": [
              "LinearRegression(copy_X=True, fit_intercept=True, n_jobs=None, normalize=False)"
            ]
          },
          "metadata": {
            "tags": []
          },
          "execution_count": 124
        }
      ]
    },
    {
      "cell_type": "code",
      "metadata": {
        "id": "1IQrCH7G8PBR"
      },
      "source": [
        "lrm_new_predict= lrm_new.predict(X_important_val)"
      ],
      "execution_count": 125,
      "outputs": []
    },
    {
      "cell_type": "code",
      "metadata": {
        "colab": {
          "base_uri": "https://localhost:8080/"
        },
        "id": "L-TJ0k6j8bwo",
        "outputId": "e577d719-561b-4068-e4b7-1e797463fb0a"
      },
      "source": [
        "# Mean Squared Error \r\n",
        "\r\n",
        "from sklearn.metrics import mean_squared_error\r\n",
        "MSE_lrm_new = mean_squared_error(y_val, lrm_new_predict)\r\n",
        "\r\n",
        "print(MSE_lrm_new)"
      ],
      "execution_count": 126,
      "outputs": [
        {
          "output_type": "stream",
          "text": [
            "368.98933133577776\n"
          ],
          "name": "stdout"
        }
      ]
    },
    {
      "cell_type": "code",
      "metadata": {
        "id": "G8SyEmK68r6Q"
      },
      "source": [
        "predictions6 = lrm_new.predict(testimp_data)"
      ],
      "execution_count": 127,
      "outputs": []
    },
    {
      "cell_type": "code",
      "metadata": {
        "colab": {
          "base_uri": "https://localhost:8080/"
        },
        "id": "a7lb4OZk82Cp",
        "outputId": "75486f6a-3c99-4764-ee5d-733fa75fd00c"
      },
      "source": [
        "print(predictions6)"
      ],
      "execution_count": 128,
      "outputs": [
        {
          "output_type": "stream",
          "text": [
            "[165.25297521 194.23601091 157.56057999 156.10902675 158.99599135\n",
            " 178.49618726 185.31094393 165.90322303 151.24977453 183.13129873\n",
            " 150.62597033 184.48312612 157.16544385 164.88080629 197.96987974\n",
            " 181.34117888 193.56826695 148.18159907 172.10476662 175.28450999\n",
            " 179.75383714 203.53485371 174.82687955 173.36751214 131.31172864\n",
            " 147.25443452 184.02867611 236.38922969 172.28724159 183.54690701\n",
            " 156.0583974  172.30581888 161.88675095 168.52905817 148.67850074\n",
            " 172.26655193 146.17876499 193.02580237 153.3044559  184.10895671\n",
            " 198.39207786 174.92905762 176.63997884 168.3807334  192.20684656\n",
            " 156.24470633 164.98243119 180.59189623 195.01619779 163.93699095\n",
            " 151.85214889 175.7969886  183.2016648  164.31243442 163.73780583\n",
            " 179.43063489 184.42109381 189.68269835 172.83642638 162.84331931\n",
            " 174.40540473 191.63198491 184.87312067 181.05948445 170.20055527\n",
            " 171.26690974 168.19938663 189.23315296 181.35340931 145.13389224\n",
            " 200.6829043  185.53075815 177.05770712 149.99993495 173.09204301\n",
            " 165.28767198 176.74878395 180.30066433 157.56175574 188.35044339\n",
            " 199.45214151 161.51938565 194.41366489 180.45492586 188.25630163\n",
            " 183.93234712 155.11622896 200.20595475 202.87665915 203.3264918\n",
            " 198.68497685 165.71282842 153.45180584 160.69728129 182.39389011\n",
            " 159.32696913 183.77737619 138.72944614 171.59423684 194.58654011\n",
            " 142.39687801 161.22814739 169.21297992 177.30744201 196.95238143\n",
            " 180.95336963 168.10773095 168.85985679 184.12088039 211.49396479\n",
            " 149.95825794 156.26184096 166.80775543 149.89380649 197.60546951\n",
            " 163.76541783 185.58322678 184.29247424 223.85143136 156.95470133\n",
            " 202.31003825 165.96243511 155.42763519 152.8534276  191.9568928\n",
            " 186.04555598 161.92793405 210.57806496 173.98776314 187.36352751\n",
            " 180.7300167  190.32017753 179.51899133 217.5888034  170.0718086\n",
            " 178.94445093 181.79645545 150.95622643 210.79409066 178.5235868\n",
            " 199.10998131 185.32191297 209.5398373  183.04092637 178.29635174\n",
            " 118.10557936 199.43647852 133.59641894 199.66426491 175.45497599\n",
            " 178.88610129 204.95060115 185.73934469 177.34548208 156.25543603\n",
            " 138.67412324 176.51194608 160.12143161 201.84966094 119.70077436\n",
            " 158.32577062 213.84612642 160.82851721 178.75125081 145.3230116\n",
            " 176.48841479 202.28111419 165.10491915 214.31808735 201.60396437\n",
            " 197.34965743 192.71426208 164.51364124 195.01724739 169.27783727\n",
            " 205.27906558 188.89824039 175.20952277 215.70687518 171.46158112\n",
            " 187.34682598 179.75763727 161.27059438 199.0178516  193.09331478\n",
            " 172.47667221 150.44426089 194.69635818 204.39898497 176.9303427\n",
            " 178.76043889 186.51915827 198.98864073 166.22770612 140.6754812\n",
            " 169.46866758 182.30051104 183.17979953 150.86867662 185.9308957\n",
            " 158.64209591 184.4600733  179.35720703 180.57278767 179.0925021\n",
            " 177.41832148 168.24542256 179.17643852 180.90931388 156.55202768\n",
            " 184.25746228 175.11122521 175.72713887 191.0706966  170.85458517\n",
            " 161.18914106 236.6024535  196.52756031 192.42776204 128.00863921\n",
            " 178.82221179 164.56195158 205.4702255  171.79784918 190.18097675\n",
            " 190.20072588 192.75161845 184.62713316 165.49893956 162.16719218\n",
            " 189.79613853 176.75465399 157.77816431 174.1703102  195.92331976\n",
            " 167.80788329 168.32690439 194.70972097 169.8417891  175.75391865\n",
            " 201.90359862 151.02103456 152.36135419 201.54326044 209.75232875\n",
            " 153.24446471 159.82183925 179.13866297 184.99374947 229.82328864\n",
            " 182.52352635 195.03901513  91.16660922 130.69740217 167.15517047\n",
            " 190.2699239  173.97192987 167.75811924 172.68693812 174.82622873\n",
            " 158.74185984 170.82679374 186.74784955 165.40818933 169.54018378\n",
            " 204.53532035 182.67611897 196.02835938 192.08498584 182.67182268\n",
            " 191.05286667 176.71658284 155.53293748 202.15205344 172.39984441\n",
            " 182.27926619 182.70388803 129.55272496 152.3806904  186.30065695\n",
            " 216.60232444 170.60550046 213.81826256 160.29193439 197.98371013\n",
            " 183.29556185 185.56113229 184.30476683 185.5175063  173.99783708\n",
            " 174.18718983 175.01664291 167.0181625  206.22366089 154.08709289\n",
            " 159.99342285 176.57111539 179.85989809 167.5539244  170.07074798\n",
            " 145.07121011 153.26450207 195.22683566 189.00824154 167.17139576\n",
            " 173.35753528 162.41339918 207.93999254 169.70259786 174.49157985\n",
            " 188.09554518 156.9462145  176.91017    173.99543645 168.80409777\n",
            " 147.28916736 190.90669805 184.666218   180.95870279 159.52358674\n",
            " 184.77273996 168.52303403 153.35716106 194.94783999 166.69908173\n",
            " 179.29276439 211.31810557 158.79999888 175.49723329 181.29040118\n",
            " 198.68022509 196.92348506 206.24696761 176.72993249 187.69309025\n",
            " 172.72623309 173.30197658 191.9101453  130.75290538 194.91275681\n",
            " 170.48830038 170.43672935 210.33843697 191.26231662 206.29769406\n",
            " 177.60868781 154.90026028 182.74379732 184.50734418 198.3334803\n",
            " 169.60570882 186.3632098  182.90723919 170.91827989 151.29491124\n",
            " 221.32186255 167.01950066 175.03169133 174.06088825 166.58581996\n",
            " 188.50217381 163.51980605 176.83994164 129.29184157 172.9829013\n",
            " 171.22481768 176.09021813 212.47967983 167.11849339 142.99062653\n",
            " 171.60907358 182.451829   209.75927892 147.43643367 194.07133745\n",
            " 173.00188852 165.43288215 187.54346765 180.09477547 206.51818573\n",
            " 202.85876342 188.16013239 188.16998319 181.05042308 179.59009203\n",
            " 178.58530818 171.35282842 185.43762891 212.12102039 180.52281638\n",
            " 161.99068456 147.88498996 151.99323308 170.28659762 191.38150067\n",
            " 175.37031126 171.8877549  157.47753761 169.79429158 187.87360299\n",
            " 180.23561821 194.51997639 138.1039035  183.15355957 197.37476087\n",
            " 166.34296676 222.78630491 170.27800354 179.58856498 149.26748933\n",
            " 162.46196027 151.41791453 203.00579953 200.51531456 160.58470543\n",
            " 188.56032587 165.34767802 176.23958165 183.06606594 170.93958108\n",
            " 186.29443983 158.20005795 188.27100149 204.52610233 194.53217331\n",
            " 185.89976707 203.6243001  186.54379669 179.15367915 185.38337809\n",
            " 178.07556208 149.38706796 187.94316568 194.83692169 170.22671016\n",
            " 155.7833695  172.03431158 156.56832659 180.32558574 202.38909727\n",
            " 193.92004032 164.99331966 153.64177868 187.95283529 211.20546328\n",
            " 209.17410642 216.13257039 178.97981009 177.98579035 158.18415301\n",
            " 188.19428252 193.07302822 181.00876598 184.78545118 188.85414556\n",
            " 156.72385619 184.33975802 196.86272834 209.32926463 167.01470987\n",
            " 190.90477324 201.27803583 149.80014846 180.83445354 192.56114499\n",
            " 152.66030698 195.33300124 161.32270997 177.42342905 192.50981897\n",
            " 179.30001462 175.28161549 192.88353352 125.35647771 170.81053394\n",
            " 167.68529542 206.17688327 174.18079755 166.6285488  250.92445533\n",
            " 215.40202833 182.73333143 152.32911095 177.73707142 159.70641155\n",
            " 160.10775025 179.5087173  204.07015921 209.55646357 205.17324019\n",
            " 174.17388108 151.05290442 196.30718829 163.34979839 175.4332115\n",
            " 226.83125451 196.9483084  218.10073966 149.29639547 172.42847827\n",
            " 196.1268146  193.2802747  204.96331574 177.62610856 187.66011691\n",
            " 211.70736643 158.26721754 152.11254901 158.53313622 143.57303604\n",
            " 209.18710931 190.28901254 175.89612136 180.26291645 183.08083899\n",
            " 174.19503371 194.57631554 174.12704957 173.46121722 180.35495242\n",
            " 154.08384734 170.72538539 169.37499359 164.41800649 207.16315046\n",
            " 193.32486727 190.55297936 188.40765889 158.67340583 212.23230193\n",
            " 167.0475852  181.21354594 177.72845898 157.39502672 169.10499316\n",
            " 184.25252303 189.16744005 203.82767021 228.05732547 172.97459626\n",
            " 189.43300517 156.39346077 174.18719235 169.74547998 187.11211258\n",
            " 170.39929593 162.39748858 200.17631466 177.65067647 191.39503778\n",
            " 171.05975526 173.86350475 203.09302931 142.82659886 197.20729967\n",
            " 157.38405386 178.55678703 158.02358132 211.80729676 176.98801581\n",
            " 183.47266981 172.88486147 146.45514936 170.28690046 172.48007599\n",
            " 185.78033627 176.56581587 202.29049013 209.88769018 165.19626908\n",
            " 177.00061374 182.22613294 184.79381785 200.77353351 187.3773307\n",
            " 158.49028583 186.88334736 180.25128343 192.27045602 151.39713309\n",
            " 211.48180385 194.68986243 214.94904791 145.73395063 168.48811175\n",
            " 190.27326439 211.9952197  197.58904177 163.96193453 190.52884081\n",
            " 176.67595706 158.64473741 190.42269384 172.02979374 195.88628363\n",
            " 156.66044039 187.85114489 164.23911692 201.06590251 164.45911054\n",
            " 176.58729304 185.81208048 155.25848011 213.74203649 173.14211444\n",
            " 187.06225987 181.34805772 189.45277557 186.70198866 196.06221963\n",
            " 151.62248134 179.47880708 217.7219466  180.3572422  194.30541569\n",
            " 188.5087226  174.57153846 165.26754262 170.61921324 189.72658436\n",
            " 173.40091492 159.70187984 183.2461835  175.18906459 204.62559897\n",
            " 182.41743668 186.76246849 174.7133097  176.07523289 181.85564699\n",
            " 172.96459339 159.5908124  215.95820746 172.8057161  183.05336589\n",
            " 234.62172994 202.05197983 195.35830707 167.05207357 166.49976736\n",
            " 205.14400519 211.90154733 223.07139387 192.76213311 177.3766975\n",
            " 177.71347419 201.55808399 173.49344362 219.75660791 203.89340821\n",
            " 192.00788304 184.43629883 168.10095628 141.41719468 179.4042461\n",
            " 183.37493578 179.93231083 182.46992873 181.49895367 214.28762686\n",
            " 192.55121734 179.04653585 165.47098725 122.57453648 184.35846669\n",
            " 189.95193826 186.04591421 207.55924702 191.74394286 188.98130671\n",
            " 181.78554079 189.37438326 180.5909896  168.35925607 191.60029758\n",
            " 143.39467459 183.60995941 158.76820537 199.71345587 174.08651232\n",
            " 173.75689532 187.93712572 159.11189542 183.73922273 192.12099447\n",
            " 180.30756757 167.38906019 188.66642001 179.68376425 150.22783173\n",
            " 183.27826507 147.54204281 141.30184354 185.31470339 203.86239753\n",
            " 149.20790524 160.26526591 164.06623918 177.19928958 171.4438055\n",
            " 207.33968979 163.82113685 203.80839401 179.88368357 191.91784471\n",
            " 194.56489174 151.55108344 188.11545773 173.47781249 225.69119381\n",
            " 195.52999286 194.82929058 168.36955875 184.57128818 190.92032357\n",
            " 162.12076752 171.29406124 195.67681006 182.62328759 201.76144237\n",
            " 169.98697671 166.24232885 203.19584571 174.01561687 165.03320147\n",
            " 167.40583776 173.78365808 245.27495042 167.80543961 171.96413154\n",
            " 204.67446962 166.85212433 197.32079531 169.71422041 175.94149388\n",
            " 149.67284428 186.47481727 156.85701551 148.84691485 183.93026708\n",
            " 188.18029145 181.0008509  143.79273389 206.18372998 148.12279417\n",
            " 153.43634247 162.42376514 184.34275899 145.49725011 181.05080886\n",
            " 170.39507207 193.72571976 183.11370589 199.19001854 214.34460905\n",
            " 173.81521877 175.54143587 219.32543537 193.86409685 179.57828901\n",
            " 209.62430263 141.52269387]\n"
          ],
          "name": "stdout"
        }
      ]
    },
    {
      "cell_type": "markdown",
      "metadata": {
        "id": "8MAADvjs7vM5"
      },
      "source": [
        "Random Forest with important features"
      ]
    },
    {
      "cell_type": "code",
      "metadata": {
        "colab": {
          "base_uri": "https://localhost:8080/"
        },
        "id": "xpopNuLC7V5H",
        "outputId": "eaf96375-3303-40aa-954a-7535ce52f934"
      },
      "source": [
        "# Create a new random forest classifier for the most important features\r\n",
        "rf_important = RandomForestRegressor(random_state= 42, n_estimators= 1000, n_jobs = -1)\r\n",
        "\r\n",
        "# Train the new classifier on the new dataset containing the most important features\r\n",
        "rf_important.fit(X_important_train, y_train)"
      ],
      "execution_count": 123,
      "outputs": [
        {
          "output_type": "execute_result",
          "data": {
            "text/plain": [
              "RandomForestRegressor(bootstrap=True, ccp_alpha=0.0, criterion='mse',\n",
              "                      max_depth=None, max_features='auto', max_leaf_nodes=None,\n",
              "                      max_samples=None, min_impurity_decrease=0.0,\n",
              "                      min_impurity_split=None, min_samples_leaf=1,\n",
              "                      min_samples_split=2, min_weight_fraction_leaf=0.0,\n",
              "                      n_estimators=1000, n_jobs=-1, oob_score=False,\n",
              "                      random_state=42, verbose=0, warm_start=False)"
            ]
          },
          "metadata": {
            "tags": []
          },
          "execution_count": 123
        }
      ]
    },
    {
      "cell_type": "code",
      "metadata": {
        "id": "SEvHr7HV7g4Q"
      },
      "source": [
        "rf_predict = rf_important.predict(X_important_val)"
      ],
      "execution_count": 129,
      "outputs": []
    },
    {
      "cell_type": "code",
      "metadata": {
        "colab": {
          "base_uri": "https://localhost:8080/"
        },
        "id": "t0KHDuM59LVW",
        "outputId": "50bed951-4589-4df3-9992-e843596fb237"
      },
      "source": [
        "# mean squared error\r\n",
        "\r\n",
        "MSE_rf_new = mean_squared_error(y_val, rf_predict)\r\n",
        "\r\n",
        "print(MSE_rf_new)"
      ],
      "execution_count": 130,
      "outputs": [
        {
          "output_type": "stream",
          "text": [
            "252.8848370797876\n"
          ],
          "name": "stdout"
        }
      ]
    },
    {
      "cell_type": "code",
      "metadata": {
        "id": "qVKBlyAp9aA2"
      },
      "source": [
        "predictions7 = rf_important.predict(testimp_data)"
      ],
      "execution_count": 131,
      "outputs": []
    },
    {
      "cell_type": "code",
      "metadata": {
        "colab": {
          "base_uri": "https://localhost:8080/"
        },
        "id": "ofBWKRjC9kEc",
        "outputId": "e130582b-fd5c-4893-cacf-baf3e263e0ad"
      },
      "source": [
        "print(predictions7)"
      ],
      "execution_count": 132,
      "outputs": [
        {
          "output_type": "stream",
          "text": [
            "[140.1758 196.2904 163.8074 160.6495 160.7642 176.9007 187.092  170.3538\n",
            " 154.3056 180.7959 157.6894 189.7951 163.0175 167.1089 202.6655 172.2488\n",
            " 190.6023 170.6032 172.752  176.1176 173.8091 231.0291 172.033  177.0019\n",
            " 136.2948 159.6647 184.026  234.9583 161.2549 176.513  159.8157 172.6955\n",
            " 162.6593 170.3022 156.4205 167.4851 165.43   208.6143 155.8942 181.5276\n",
            " 197.0842 175.5162 183.1758 172.5055 167.6281 161.2862 172.8179 189.9532\n",
            " 188.9458 172.9148 151.6918 170.8412 182.144  169.8306 163.391  185.7244\n",
            " 194.2474 196.4454 183.4239 165.0322 178.5737 185.1326 179.3135 178.9472\n",
            " 185.3858 170.9959 181.5932 184.9565 190.7618 162.7727 193.0396 179.5879\n",
            " 177.5169 153.0891 186.3359 174.2027 180.3832 178.3058 161.5753 191.6175\n",
            " 198.0742 158.6966 195.4476 177.5906 190.7222 176.2568 159.6552 191.4425\n",
            " 198.7895 197.2711 200.8422 171.8575 148.4515 168.8144 179.4554 166.1796\n",
            " 191.1902 154.6652 167.7399 192.6595 141.8109 168.244  173.3306 183.3374\n",
            " 194.793  175.1655 170.7221 159.8135 198.5281 210.8919 182.6724 165.8583\n",
            " 158.7787 159.4721 201.0091 171.3773 184.0828 179.1239 226.6795 157.2873\n",
            " 200.5981 172.8246 159.0746 203.4789 195.3197 186.9724 165.3072 219.031\n",
            " 172.7564 189.1499 183.8417 185.998  184.7221 228.7345 165.0954 166.3564\n",
            " 171.6039 159.124  193.4155 180.8522 192.9938 187.8372 202.5668 174.1327\n",
            " 187.8307 151.4065 192.9689 139.2479 205.3728 178.1004 188.8245 203.785\n",
            " 191.7582 178.0321 154.5609 138.5084 185.8175 168.2268 202.8489 120.1698\n",
            " 156.449  181.1895 160.8777 184.6295 155.9437 170.3059 205.1067 179.8007\n",
            " 209.6302 201.461  178.6254 192.4876 157.47   186.7026 159.7451 205.5646\n",
            " 188.0792 172.4349 198.2374 168.0359 180.0365 181.4024 160.904  209.367\n",
            " 183.9034 178.179  162.1006 193.3262 209.1249 177.2222 185.8385 181.5634\n",
            " 196.4312 162.6816 150.7258 168.2109 187.7696 182.4396 158.3876 194.9612\n",
            " 163.5001 185.5545 176.132  178.114  168.4456 175.9253 179.56   174.209\n",
            " 178.0299 154.1131 193.282  179.9403 173.9012 185.074  173.9224 161.676\n",
            " 211.9845 192.217  198.8148 139.8834 174.7982 166.5253 206.3873 173.8859\n",
            " 189.7625 188.9249 193.4859 187.5523 160.4517 168.8157 186.883  181.5334\n",
            " 157.6171 176.6296 194.7792 159.2145 162.7303 194.0322 174.1687 181.2263\n",
            " 197.4117 211.672  155.3137 203.0877 206.9824 159.2496 167.4901 185.4794\n",
            " 193.1782 248.1837 188.5167 189.9493 129.6649 125.5666 162.5292 189.4191\n",
            " 175.0159 169.0579 171.8283 177.738  164.5434 171.3099 187.2375 162.5199\n",
            " 172.5787 198.4581 174.9914 192.8737 192.1671 186.4472 191.3818 182.3014\n",
            " 169.4581 194.3757 177.9142 201.5063 183.438  132.9034 160.6456 177.473\n",
            " 216.5879 162.1962 229.2163 161.3729 194.1252 187.7077 190.7265 182.4389\n",
            " 190.545  176.9676 164.2072 174.5423 168.9027 199.3404 159.2141 167.4366\n",
            " 181.3305 196.8431 169.3815 174.9657 149.9719 153.9515 190.5431 188.8338\n",
            " 165.5513 172.5073 155.9611 206.1216 163.4358 170.4325 187.9944 192.591\n",
            " 172.2552 185.9488 163.923  164.7434 192.6591 179.6347 186.1946 161.3762\n",
            " 186.8911 167.465  169.5903 181.1501 162.228  174.4351 211.4851 175.0074\n",
            " 176.0694 188.4017 193.7923 190.8511 210.9714 177.4411 179.8602 162.5857\n",
            " 164.6747 187.3736 154.6681 189.5225 179.4651 168.0008 212.0175 186.4475\n",
            " 197.4954 160.8113 161.7047 192.509  180.9364 203.3053 171.8236 175.0853\n",
            " 187.2053 169.8902 163.4971 211.6522 167.3616 176.4494 175.9038 173.4246\n",
            " 186.4694 174.3967 182.9474 146.357  176.0216 164.9396 176.9044 219.2648\n",
            " 161.6702 158.288  181.2128 183.9853 195.392  161.3845 190.4441 181.643\n",
            " 164.6173 186.3907 177.3095 196.8203 199.5287 187.8405 191.4375 172.9392\n",
            " 171.3905 176.418  171.9223 178.6169 205.1506 188.5245 175.2526 151.65\n",
            " 159.9511 175.1799 192.442  172.9709 182.2192 157.9054 172.4889 186.8384\n",
            " 183.0158 202.0929 139.4328 186.8942 195.038  157.9464 198.014  177.3253\n",
            " 177.5198 161.1149 169.2782 157.2084 201.011  201.9747 155.4842 186.5188\n",
            " 167.8279 178.5602 183.8234 164.2795 195.1996 158.2685 201.9715 203.5641\n",
            " 193.5329 178.3797 196.8285 182.5442 179.1196 185.9525 169.3345 176.7567\n",
            " 189.8936 194.1118 171.126  156.9128 171.4975 171.3523 193.1971 176.8205\n",
            " 189.5672 183.6626 158.2418 188.4373 226.8889 206.9762 219.6916 173.4607\n",
            " 184.1296 153.1304 173.168  198.9268 181.9523 183.3609 179.509  151.9334\n",
            " 181.0318 190.9241 204.7165 169.8247 184.1521 200.7551 157.139  179.7757\n",
            " 204.3522 154.1299 196.6758 166.0432 171.0326 182.9905 160.6232 184.4795\n",
            " 197.7931 150.834  172.5946 150.3302 213.3265 168.2782 156.0505 200.9224\n",
            " 207.248  185.203  163.9126 172.8872 172.8775 174.3821 178.9058 203.2256\n",
            " 210.3842 207.0806 169.4147 153.5359 222.1647 168.7787 169.4772 237.4347\n",
            " 184.1091 220.4584 161.2822 176.4425 191.2407 192.5697 191.9585 175.0915\n",
            " 195.0664 202.2481 160.6326 165.2613 162.0149 147.363  203.1147 185.4528\n",
            " 181.3188 199.7148 184.3403 166.4283 189.0409 165.5102 181.2689 181.5871\n",
            " 160.7215 170.2641 177.8933 161.6333 198.2437 196.4255 175.1711 180.182\n",
            " 162.5677 217.9963 173.5238 170.956  183.8388 160.996  185.8396 182.6631\n",
            " 187.1116 192.2772 231.241  175.6678 192.2319 165.977  179.2271 156.0065\n",
            " 176.496  172.603  164.4357 197.903  174.6752 185.2421 171.7593 167.4041\n",
            " 195.8251 143.9175 194.4391 160.2221 177.8594 153.6427 206.6149 193.9215\n",
            " 185.1308 179.431  157.0837 174.7559 170.9955 181.7147 171.4534 203.5416\n",
            " 208.1678 179.5438 172.6364 186.9031 181.1185 202.6771 188.7333 162.0478\n",
            " 194.8166 188.6973 183.1588 161.0174 207.423  189.0197 202.1571 152.1719\n",
            " 165.382  190.6105 220.2829 200.2671 167.496  195.887  172.597  167.932\n",
            " 193.3992 176.3041 192.7035 167.4134 189.4217 170.5678 200.1185 173.0053\n",
            " 181.8324 183.844  162.4353 208.049  170.8937 176.8974 179.58   187.2801\n",
            " 180.1413 191.5533 159.671  180.2449 205.9639 186.0044 174.5198 193.1951\n",
            " 180.6858 163.5268 171.6589 190.7699 177.1231 164.4376 184.3622 180.0995\n",
            " 196.6994 180.4261 189.2986 172.6424 178.895  181.6899 179.989  158.1296\n",
            " 217.2614 166.5742 190.5911 244.252  203.3287 197.2879 170.4311 163.5164\n",
            " 195.1222 208.4275 219.9488 198.5187 184.1928 177.1635 198.5955 169.4465\n",
            " 239.6074 197.6581 183.3674 177.5509 168.9517 160.5551 172.7482 179.4146\n",
            " 186.3776 176.2351 178.9921 227.531  196.192  194.5276 179.0882 162.0549\n",
            " 185.6365 189.1761 191.6085 203.5282 190.6481 191.733  176.8097 180.3888\n",
            " 182.6253 167.4181 201.7314 144.1175 185.8123 159.0581 199.337  175.9034\n",
            " 173.0002 203.0206 159.5627 181.3001 186.9123 179.4887 171.5032 187.0756\n",
            " 185.5985 155.2984 183.0164 160.4364 153.6618 191.9882 201.8832 159.8391\n",
            " 160.1407 171.1719 157.1913 173.0671 206.0449 165.9175 202.4487 177.015\n",
            " 187.1458 184.5363 152.2563 181.4811 176.5507 227.6803 190.9804 191.7383\n",
            " 175.3133 176.492  193.0615 172.8635 176.2255 202.6465 188.0913 203.9547\n",
            " 161.2261 162.3329 218.0446 177.7816 176.2313 162.0298 178.2296 250.4543\n",
            " 174.6297 179.0301 198.819  161.278  206.198  172.0142 174.7365 158.6754\n",
            " 188.5288 161.4699 142.3752 190.2465 198.2336 185.1673 149.7065 207.7188\n",
            " 137.3834 172.4115 165.2007 190.6626 156.0089 188.7039 169.4319 193.7197\n",
            " 171.5397 198.3619 223.4222 174.9234 184.467  209.2888 191.0604 186.0971\n",
            " 200.3209 168.6522]\n"
          ],
          "name": "stdout"
        }
      ]
    },
    {
      "cell_type": "markdown",
      "metadata": {
        "id": "4DY976Py9qHo"
      },
      "source": [
        "Decision Tree Model with Important features"
      ]
    },
    {
      "cell_type": "code",
      "metadata": {
        "colab": {
          "base_uri": "https://localhost:8080/"
        },
        "id": "IeOo4SyS9m96",
        "outputId": "4708a36d-3153-4edd-e2c9-c4349c280e2d"
      },
      "source": [
        "# Decision Tree Model\r\n",
        "\r\n",
        "dtr_new = DecisionTreeRegressor(random_state= 42, criterion= 'friedman_mse', max_depth= 5)\r\n",
        "\r\n",
        "dtr_new.fit(X_important_train, y_train)"
      ],
      "execution_count": 134,
      "outputs": [
        {
          "output_type": "execute_result",
          "data": {
            "text/plain": [
              "DecisionTreeRegressor(ccp_alpha=0.0, criterion='friedman_mse', max_depth=5,\n",
              "                      max_features=None, max_leaf_nodes=None,\n",
              "                      min_impurity_decrease=0.0, min_impurity_split=None,\n",
              "                      min_samples_leaf=1, min_samples_split=2,\n",
              "                      min_weight_fraction_leaf=0.0, presort='deprecated',\n",
              "                      random_state=42, splitter='best')"
            ]
          },
          "metadata": {
            "tags": []
          },
          "execution_count": 134
        }
      ]
    },
    {
      "cell_type": "code",
      "metadata": {
        "id": "zf6li0c5-RxU"
      },
      "source": [
        "dtr_new_predict= dtr_new.predict(X_important_val)"
      ],
      "execution_count": 135,
      "outputs": []
    },
    {
      "cell_type": "code",
      "metadata": {
        "colab": {
          "base_uri": "https://localhost:8080/"
        },
        "id": "-pC-W1tT-me-",
        "outputId": "0fff87e1-57fc-4754-8583-a5459af4acdc"
      },
      "source": [
        "# mean squared error\r\n",
        "\r\n",
        "MSE_dtr_new = mean_squared_error(y_val, dtr_new_predict)\r\n",
        "\r\n",
        "print(MSE_dtr_new)"
      ],
      "execution_count": 136,
      "outputs": [
        {
          "output_type": "stream",
          "text": [
            "544.6475870572712\n"
          ],
          "name": "stdout"
        }
      ]
    },
    {
      "cell_type": "code",
      "metadata": {
        "id": "1Cz24ZbJ-yQJ"
      },
      "source": [
        "predictions8 = dtr_new.predict(testimp_data)"
      ],
      "execution_count": 137,
      "outputs": []
    },
    {
      "cell_type": "code",
      "metadata": {
        "colab": {
          "base_uri": "https://localhost:8080/"
        },
        "id": "hR7EmNIr-7m-",
        "outputId": "85e0554e-51c3-4c87-afaf-f716cea60591"
      },
      "source": [
        "print(predictions8)"
      ],
      "execution_count": 138,
      "outputs": [
        {
          "output_type": "stream",
          "text": [
            "[163.99084507 196.77612903 162.11554404 178.60297483 178.60297483\n",
            " 177.86363636 190.19117647 178.60297483 151.8375     196.77612903\n",
            "  88.67777778 196.77612903 162.11554404 163.99084507 196.77612903\n",
            " 162.11554404 178.60297483 173.86153846 178.60297483 163.94646465\n",
            " 178.60297483 232.34666667 163.99084507 163.94646465 138.98125\n",
            " 162.11554404 196.77612903 232.34666667 162.11554404 178.60297483\n",
            " 163.94646465 178.60297483 163.94646465 173.86153846 163.99084507\n",
            " 162.11554404 141.40833333 190.19117647 143.20384615 192.01134021\n",
            " 196.77612903 177.86363636 190.19117647 177.86363636 166.33055556\n",
            " 143.20384615 173.86153846 190.19117647 196.77612903 177.86363636\n",
            " 151.8375     178.60297483 163.99084507 178.60297483 178.60297483\n",
            " 192.01134021 173.86153846 196.77612903 190.19117647 162.11554404\n",
            " 166.33055556 178.60297483 178.60297483 162.11554404 196.77612903\n",
            " 178.60297483 196.77612903 173.86153846 196.77612903 162.11554404\n",
            " 196.77612903 177.86363636 178.60297483 151.8375     196.77612903\n",
            " 177.86363636 205.86666667 196.77612903 162.11554404 190.19117647\n",
            " 190.19117647 162.11554404 196.77612903 178.60297483 192.01134021\n",
            " 178.60297483 177.86363636 196.77612903 196.77612903 192.01134021\n",
            " 203.04606742 178.60297483 143.20384615 163.99084507 192.01134021\n",
            " 162.11554404 196.77612903 163.99084507 162.11554404 196.77612903\n",
            " 124.39090909 178.60297483 163.99084507 177.86363636 192.01134021\n",
            " 178.60297483 173.86153846 162.11554404 190.19117647 196.77612903\n",
            " 178.60297483 178.60297483 163.94646465 162.11554404 203.04606742\n",
            " 178.60297483 173.86153846 178.60297483 203.04606742 162.11554404\n",
            " 196.77612903 178.60297483 151.8375     203.04606742 192.01134021\n",
            " 196.77612903 163.94646465 203.04606742 167.44137931 196.77612903\n",
            " 192.01134021 178.60297483 196.77612903 232.34666667 163.99084507\n",
            " 178.60297483 178.60297483 162.11554404 205.86666667 163.99084507\n",
            " 196.77612903 141.40833333 196.77612903 178.60297483 190.19117647\n",
            " 143.20384615 196.77612903 124.39090909 196.77612903 177.86363636\n",
            " 196.77612903 203.04606742 246.7        190.19117647 143.20384615\n",
            " 124.39090909 196.77612903 178.60297483 203.04606742 124.39090909\n",
            " 163.99084507 190.19117647 163.94646465 196.77612903 162.11554404\n",
            " 178.60297483 196.77612903 177.86363636 196.77612903 196.77612903\n",
            " 178.60297483 192.01134021 162.11554404 196.77612903 162.11554404\n",
            " 203.04606742 196.77612903 166.33055556 190.19117647 178.60297483\n",
            " 167.44137931 178.60297483 178.60297483 203.04606742 178.60297483\n",
            " 178.60297483 178.60297483 178.60297483 203.04606742 190.19117647\n",
            " 177.86363636 162.11554404 196.77612903 162.11554404 151.8375\n",
            " 177.86363636 196.77612903 196.77612903 163.94646465 196.77612903\n",
            " 163.94646465 192.01134021 178.60297483 178.60297483 162.11554404\n",
            " 163.99084507 163.99084507 178.60297483 178.60297483 163.99084507\n",
            " 196.77612903 192.01134021 163.99084507 178.60297483 178.60297483\n",
            " 163.99084507 203.04606742 192.01134021 196.77612903 143.20384615\n",
            " 177.86363636 178.60297483 203.04606742 178.60297483 196.77612903\n",
            " 192.01134021 190.19117647 178.60297483 177.86363636 177.86363636\n",
            " 196.77612903 196.77612903 162.11554404 177.86363636 196.77612903\n",
            " 163.99084507 162.11554404 177.86363636 163.94646465 192.01134021\n",
            " 196.77612903 157.         163.94646465 196.77612903 203.04606742\n",
            " 162.11554404 177.86363636 178.60297483 196.77612903 232.34666667\n",
            " 196.77612903 178.60297483 138.98125     88.67777778 163.94646465\n",
            " 196.77612903 178.60297483 178.60297483 178.60297483 205.86666667\n",
            " 162.11554404 178.60297483 196.77612903 177.86363636 177.86363636\n",
            " 196.77612903 178.60297483 196.77612903 196.77612903 177.86363636\n",
            " 178.60297483 173.86153846 178.60297483 192.01134021 177.86363636\n",
            " 192.01134021 196.77612903 124.39090909 178.60297483 178.60297483\n",
            " 232.34666667 162.11554404 232.34666667 178.60297483 196.77612903\n",
            " 173.86153846 192.01134021 177.86363636 192.01134021 178.60297483\n",
            " 162.11554404 163.99084507 178.60297483 196.77612903 162.11554404\n",
            " 162.11554404 163.99084507 190.19117647 178.60297483 173.86153846\n",
            " 143.20384615 143.20384615 196.77612903 196.77612903 163.99084507\n",
            " 162.11554404 143.20384615 196.77612903 178.60297483 162.11554404\n",
            " 196.77612903 190.19117647 177.86363636 190.19117647 163.99084507\n",
            " 178.60297483 196.77612903 178.60297483 178.60297483 177.86363636\n",
            " 196.77612903 178.60297483 177.86363636 178.60297483 178.60297483\n",
            " 163.94646465 203.04606742 177.86363636 177.86363636 196.77612903\n",
            " 190.19117647 196.77612903 203.04606742 177.86363636 192.01134021\n",
            " 162.11554404 162.11554404 190.19117647 143.20384615 178.60297483\n",
            " 166.33055556 162.11554404 203.04606742 196.77612903 196.77612903\n",
            " 162.11554404 163.99084507 190.19117647 178.60297483 196.77612903\n",
            " 178.60297483 178.60297483 192.01134021 178.60297483 162.11554404\n",
            " 196.77612903 162.11554404 178.60297483 166.33055556 178.60297483\n",
            " 178.60297483 178.60297483 190.19117647 143.20384615 173.86153846\n",
            " 162.11554404 178.60297483 232.34666667 163.99084507 163.94646465\n",
            " 178.60297483 178.60297483 217.43846154 162.11554404 178.60297483\n",
            " 178.60297483 162.11554404 178.60297483 163.99084507 196.77612903\n",
            " 196.77612903 178.60297483 196.77612903 163.99084507 178.60297483\n",
            " 166.33055556 178.60297483 178.60297483 203.04606742 196.77612903\n",
            " 177.86363636 138.98125    162.11554404 178.60297483 196.77612903\n",
            " 163.99084507 192.01134021 163.94646465 178.60297483 196.77612903\n",
            " 178.60297483 196.77612903 124.39090909 177.86363636 192.01134021\n",
            " 163.94646465 196.77612903 173.86153846 196.77612903 163.99084507\n",
            " 162.11554404 163.94646465 196.77612903 196.77612903 162.11554404\n",
            " 196.77612903 178.60297483 177.86363636 196.77612903 162.11554404\n",
            " 196.77612903 178.60297483 196.77612903 192.01134021 196.77612903\n",
            " 167.44137931 196.77612903 178.60297483 173.86153846 196.77612903\n",
            " 178.60297483 141.40833333 192.01134021 196.77612903 178.60297483\n",
            " 162.11554404 177.86363636 178.60297483 196.77612903 190.19117647\n",
            " 196.77612903 190.19117647 162.11554404 196.77612903 232.34666667\n",
            " 196.77612903 196.77612903 178.60297483 178.60297483 162.11554404\n",
            " 190.19117647 203.04606742 163.99084507 196.77612903 178.60297483\n",
            " 162.11554404 163.94646465 178.60297483 196.77612903 162.11554404\n",
            " 178.60297483 196.77612903 162.11554404 178.60297483 196.77612903\n",
            " 162.11554404 192.01134021 173.86153846 177.86363636 178.60297483\n",
            " 178.60297483 173.86153846 203.04606742 143.20384615 177.86363636\n",
            " 163.99084507 192.01134021 163.94646465 163.99084507 157.\n",
            " 196.77612903 196.77612903 163.99084507 178.60297483 178.60297483\n",
            " 190.19117647 173.86153846 203.04606742 196.77612903 203.04606742\n",
            " 162.11554404 166.33055556 232.34666667 163.99084507 178.60297483\n",
            " 232.34666667 178.60297483 264.16666667 162.11554404 196.77612903\n",
            " 196.77612903 203.04606742 196.77612903 178.60297483 190.19117647\n",
            " 192.01134021 162.11554404 162.11554404 163.94646465 143.20384615\n",
            " 196.77612903 178.60297483 190.19117647 190.19117647 162.11554404\n",
            " 162.11554404 192.01134021 162.11554404 177.86363636 192.01134021\n",
            " 162.11554404 162.11554404 162.11554404 162.11554404 196.77612903\n",
            " 196.77612903 178.60297483 162.11554404 163.94646465 196.77612903\n",
            " 177.86363636 162.11554404 178.60297483 163.94646465 190.19117647\n",
            " 192.01134021 196.77612903 178.60297483 232.34666667 166.33055556\n",
            " 196.77612903 163.94646465 162.11554404 162.11554404 162.11554404\n",
            " 178.60297483 162.11554404 203.04606742 178.60297483 178.60297483\n",
            " 178.60297483 173.86153846 203.04606742 151.8375     192.01134021\n",
            " 178.60297483 178.60297483 162.11554404 196.77612903 190.19117647\n",
            " 192.01134021 173.86153846 162.11554404 178.60297483 162.11554404\n",
            " 178.60297483 178.60297483 192.01134021 196.77612903 173.86153846\n",
            " 167.44137931 177.86363636 196.77612903 232.34666667 196.77612903\n",
            " 141.40833333 192.01134021 178.60297483 178.60297483 162.11554404\n",
            " 196.77612903 178.60297483 196.77612903 151.8375     178.60297483\n",
            " 196.77612903 203.04606742 196.77612903 178.60297483 196.77612903\n",
            " 162.11554404 178.60297483 196.77612903 178.60297483 196.77612903\n",
            " 178.60297483 196.77612903 178.60297483 196.77612903 163.99084507\n",
            " 196.77612903 178.60297483 166.33055556 217.43846154 178.60297483\n",
            " 178.60297483 162.11554404 178.60297483 196.77612903 196.77612903\n",
            " 163.94646465 178.60297483 203.04606742 196.77612903 178.60297483\n",
            " 196.77612903 196.77612903 178.60297483 162.11554404 196.77612903\n",
            " 192.01134021 177.86363636 192.01134021 166.33055556 196.77612903\n",
            " 178.60297483 177.86363636 178.60297483 178.60297483 178.60297483\n",
            " 166.33055556 163.99084507 203.04606742 163.94646465 196.77612903\n",
            " 232.34666667 203.04606742 196.77612903 162.11554404 162.11554404\n",
            " 192.01134021 196.77612903 196.77612903 196.77612903 192.01134021\n",
            " 178.60297483 196.77612903 178.60297483 232.34666667 203.04606742\n",
            " 178.60297483 178.60297483 162.11554404 177.86363636 162.11554404\n",
            " 178.60297483 196.77612903 178.60297483 178.60297483 232.34666667\n",
            " 196.77612903 190.19117647 177.86363636 141.40833333 196.77612903\n",
            " 178.60297483 196.77612903 203.04606742 196.77612903 178.60297483\n",
            " 163.99084507 178.60297483 162.11554404 163.99084507 203.04606742\n",
            " 143.20384615 192.01134021 163.94646465 196.77612903 177.86363636\n",
            " 163.99084507 192.01134021 163.94646465 178.60297483 178.60297483\n",
            " 178.60297483 177.86363636 196.77612903 178.60297483 162.11554404\n",
            " 177.86363636 143.20384615 163.99084507 173.86153846 196.77612903\n",
            " 163.94646465 162.11554404 178.60297483 166.33055556 178.60297483\n",
            " 203.04606742 178.60297483 196.77612903 162.11554404 178.60297483\n",
            " 178.60297483 162.11554404 178.60297483 178.60297483 232.34666667\n",
            " 196.77612903 217.43846154 162.11554404 190.19117647 192.01134021\n",
            " 162.11554404 173.86153846 203.04606742 166.33055556 196.77612903\n",
            " 162.11554404 162.11554404 203.04606742 173.86153846 190.19117647\n",
            " 162.11554404 178.60297483 232.34666667 178.60297483 177.86363636\n",
            " 196.77612903 141.40833333 203.04606742 177.86363636 178.60297483\n",
            " 163.94646465 178.60297483 178.60297483 162.11554404 196.77612903\n",
            " 196.77612903 178.60297483 143.20384615 196.77612903  88.67777778\n",
            " 173.86153846 162.11554404 196.77612903 163.99084507 196.77612903\n",
            " 178.60297483 192.01134021 177.86363636 196.77612903 232.34666667\n",
            " 178.60297483 173.86153846 196.77612903 196.77612903 190.19117647\n",
            " 196.77612903 173.86153846]\n"
          ],
          "name": "stdout"
        }
      ]
    },
    {
      "cell_type": "markdown",
      "metadata": {
        "id": "pMF3XBnqAGt8"
      },
      "source": [
        "HyperParameter Tuning for forest model with important features"
      ]
    },
    {
      "cell_type": "code",
      "metadata": {
        "id": "FWJKFKR1---w"
      },
      "source": [
        "# Create the parameter grid based on the results of random search \r\n",
        "param_grid = {\r\n",
        "    'bootstrap': [True, False],\r\n",
        "    'max_depth': [5, 10, 15],\r\n",
        "    'n_estimators': [500, 1000]}"
      ],
      "execution_count": 139,
      "outputs": []
    },
    {
      "cell_type": "code",
      "metadata": {
        "id": "nbca_xy6AX8n"
      },
      "source": [
        "rfg= RandomForestRegressor(random_state= 42)\r\n",
        "\r\n",
        "# Grid search cv\r\n",
        "grid_search = GridSearchCV(estimator = rfg, param_grid = param_grid, \r\n",
        "                          cv = 2, n_jobs = -1, verbose = 2)"
      ],
      "execution_count": 140,
      "outputs": []
    },
    {
      "cell_type": "code",
      "metadata": {
        "colab": {
          "base_uri": "https://localhost:8080/"
        },
        "id": "s1pbGrx6AiGu",
        "outputId": "6acc8f69-517b-4df0-8908-ef89c08d713f"
      },
      "source": [
        "grid_search.fit(X_important_train, y_train)"
      ],
      "execution_count": 141,
      "outputs": [
        {
          "output_type": "stream",
          "text": [
            "Fitting 2 folds for each of 12 candidates, totalling 24 fits\n"
          ],
          "name": "stdout"
        },
        {
          "output_type": "stream",
          "text": [
            "[Parallel(n_jobs=-1)]: Using backend LokyBackend with 2 concurrent workers.\n",
            "[Parallel(n_jobs=-1)]: Done  24 out of  24 | elapsed:  4.4min finished\n"
          ],
          "name": "stderr"
        },
        {
          "output_type": "execute_result",
          "data": {
            "text/plain": [
              "GridSearchCV(cv=2, error_score=nan,\n",
              "             estimator=RandomForestRegressor(bootstrap=True, ccp_alpha=0.0,\n",
              "                                             criterion='mse', max_depth=None,\n",
              "                                             max_features='auto',\n",
              "                                             max_leaf_nodes=None,\n",
              "                                             max_samples=None,\n",
              "                                             min_impurity_decrease=0.0,\n",
              "                                             min_impurity_split=None,\n",
              "                                             min_samples_leaf=1,\n",
              "                                             min_samples_split=2,\n",
              "                                             min_weight_fraction_leaf=0.0,\n",
              "                                             n_estimators=100, n_jobs=None,\n",
              "                                             oob_score=False, random_state=42,\n",
              "                                             verbose=0, warm_start=False),\n",
              "             iid='deprecated', n_jobs=-1,\n",
              "             param_grid={'bootstrap': [True, False], 'max_depth': [5, 10, 15],\n",
              "                         'n_estimators': [500, 1000]},\n",
              "             pre_dispatch='2*n_jobs', refit=True, return_train_score=False,\n",
              "             scoring=None, verbose=2)"
            ]
          },
          "metadata": {
            "tags": []
          },
          "execution_count": 141
        }
      ]
    },
    {
      "cell_type": "code",
      "metadata": {
        "colab": {
          "base_uri": "https://localhost:8080/"
        },
        "id": "hfon3orjAnkH",
        "outputId": "debfb0e7-eac4-4259-ef90-2b5b19f5f652"
      },
      "source": [
        "grid_search.best_params_"
      ],
      "execution_count": 142,
      "outputs": [
        {
          "output_type": "execute_result",
          "data": {
            "text/plain": [
              "{'bootstrap': True, 'max_depth': 15, 'n_estimators': 500}"
            ]
          },
          "metadata": {
            "tags": []
          },
          "execution_count": 142
        }
      ]
    },
    {
      "cell_type": "code",
      "metadata": {
        "colab": {
          "base_uri": "https://localhost:8080/"
        },
        "id": "KrEmXkgfAz1H",
        "outputId": "bdb33702-462f-4dda-977b-31ad3a1c125d"
      },
      "source": [
        "# mean_squared error\r\n",
        "\r\n",
        "MSE_rfg_hpt = mean_squared_error(y_val, grid_search.predict(X_important_val))\r\n",
        "\r\n",
        "print(MSE_rfg_hpt)"
      ],
      "execution_count": 143,
      "outputs": [
        {
          "output_type": "stream",
          "text": [
            "255.67384697614088\n"
          ],
          "name": "stdout"
        }
      ]
    },
    {
      "cell_type": "code",
      "metadata": {
        "id": "-EWm3_6yA8nQ"
      },
      "source": [
        "predictions9 = grid_search.predict(testimp_data)"
      ],
      "execution_count": 144,
      "outputs": []
    },
    {
      "cell_type": "code",
      "metadata": {
        "colab": {
          "base_uri": "https://localhost:8080/"
        },
        "id": "BMmSpjbBBLYY",
        "outputId": "7fe72361-005e-4734-c253-57c28fcc1759"
      },
      "source": [
        "print(predictions9)"
      ],
      "execution_count": 145,
      "outputs": [
        {
          "output_type": "stream",
          "text": [
            "[140.62428432 196.04194686 163.95991076 160.4653342  160.28410602\n",
            " 176.60903346 186.49693589 170.20157057 155.63299463 180.87450695\n",
            " 159.71600295 189.92401903 162.68948465 166.72422483 201.51786149\n",
            " 172.42430165 190.26993507 169.46374051 172.71269602 176.21388139\n",
            " 173.49327604 231.97535564 172.6886246  177.3631055  136.9302\n",
            " 159.91458596 184.74360297 236.49914361 161.07460325 176.66651806\n",
            " 159.59320326 172.38936084 162.98627546 170.35769395 157.85347262\n",
            " 167.8167218  164.76776082 209.46828557 156.5307783  181.86127356\n",
            " 197.22484512 175.33420133 183.00958926 172.63286861 166.91759487\n",
            " 161.71831504 172.13750363 191.38317444 188.90413262 172.84581944\n",
            " 151.88318155 171.13801155 181.62580882 169.70943896 163.50717513\n",
            " 185.76644218 193.99972381 196.60109875 184.36096502 164.80923242\n",
            " 178.41245953 184.73408272 179.78918761 180.21624857 185.02392978\n",
            " 171.15940389 182.13420005 184.27707714 191.53764001 163.59816418\n",
            " 192.34859755 179.18977645 177.52383143 153.6954782  186.81392722\n",
            " 172.82264763 180.43893357 177.82735982 161.04646741 192.0020202\n",
            " 198.53470639 158.06414861 196.33019342 178.45052488 189.86775823\n",
            " 175.86361646 158.82967884 191.08226624 197.62316711 197.6493821\n",
            " 199.54561869 171.8118964  148.35139669 168.49601471 179.25345474\n",
            " 166.31604092 191.54927449 154.94905391 167.63799634 191.90090351\n",
            " 141.85430531 168.50435151 173.41586755 182.53481101 195.17981291\n",
            " 174.70769034 170.46482401 160.64917518 198.39251583 210.27548315\n",
            " 182.80815484 165.94493779 158.82971428 158.9028947  200.39898467\n",
            " 171.08153014 184.64939379 179.53428476 225.43301583 156.59397967\n",
            " 199.18961711 173.10515551 158.84657746 202.7318604  194.01107213\n",
            " 186.82335844 165.69273045 218.77357274 172.60716775 189.72550518\n",
            " 184.00346615 186.34543506 185.58714035 229.25377606 164.79976656\n",
            " 166.06977541 171.29669233 158.71895382 193.26377999 180.57201559\n",
            " 192.90153182 186.04848453 202.33451351 173.64282093 187.37032954\n",
            " 152.37717897 192.45489259 139.73854258 206.24624806 176.62546935\n",
            " 188.30019762 204.46880056 191.51174974 178.54858339 155.41451514\n",
            " 140.0752253  185.71324601 168.83384935 203.04339458 120.57606918\n",
            " 156.18333679 180.26713333 160.6745013  184.50839375 156.29762915\n",
            " 169.85667412 204.00758025 179.62057996 209.68101763 201.43665142\n",
            " 178.26918094 192.12284532 156.53691999 186.80793255 160.78273793\n",
            " 205.31849571 188.24957458 173.55270311 196.99039606 167.45197257\n",
            " 179.47829052 182.19222875 160.80022038 209.34063235 182.80417459\n",
            " 178.20027257 163.02057323 193.22156379 208.91720626 177.17706607\n",
            " 186.31945481 181.68407666 197.365798   163.33316263 150.1702292\n",
            " 168.21902931 188.43022121 182.86743026 157.94954679 194.90090012\n",
            " 163.82938895 185.71128229 176.35084801 177.64446848 168.17151697\n",
            " 175.72841871 179.37912234 174.42088982 177.95322326 153.92128562\n",
            " 192.68684574 179.7462626  174.1252666  185.22283564 173.86690179\n",
            " 161.00819148 210.97567675 191.34010311 198.51136252 139.16029074\n",
            " 174.67077144 166.51522055 205.72592991 174.90099098 189.48617716\n",
            " 188.48881916 194.11538287 187.83490053 161.29067896 169.50139831\n",
            " 185.59851071 182.15589272 157.2703303  175.35223247 195.343409\n",
            " 158.84191285 161.72806566 192.74508576 174.60549447 180.63392776\n",
            " 197.08212755 211.27310253 155.06786957 202.29982523 208.43777667\n",
            " 159.83748494 167.63774124 184.36861892 192.97841673 248.9448\n",
            " 188.65159789 189.64477207 129.9362     126.49282629 163.18643066\n",
            " 188.47227687 174.0773952  169.47638526 171.92171225 178.49197502\n",
            " 165.04600867 171.526395   186.68393096 162.58500337 173.78867569\n",
            " 197.67269257 175.38777514 192.14718849 192.73582387 185.86639761\n",
            " 191.45465717 182.14252011 170.29005636 194.73128331 177.68012527\n",
            " 202.67029386 184.00883634 132.0512707  160.08073113 177.47092138\n",
            " 216.50864784 163.75752194 229.10108    161.71238916 194.209763\n",
            " 186.16597297 191.08859216 182.04295772 190.12100894 176.82465376\n",
            " 162.64751428 175.19920074 169.34500662 198.70200269 159.49492572\n",
            " 167.37699301 181.44051435 196.64846888 169.12670735 175.45813843\n",
            " 149.79167121 153.82598914 189.06786844 188.41897096 166.55062948\n",
            " 172.34578952 156.30159564 206.79383884 164.18720472 170.04896386\n",
            " 188.53527017 192.99922069 170.57544908 186.05276532 164.7584608\n",
            " 164.31241442 192.33868782 180.44010431 186.29397804 161.57059646\n",
            " 187.92839972 167.23187716 167.71990401 181.88897277 162.46890163\n",
            " 174.72501269 211.22767197 175.50636188 175.03152772 188.45634606\n",
            " 195.08025539 190.51422662 209.71891921 178.02053734 180.79842954\n",
            " 163.43158681 165.03572744 186.86053392 155.97221144 189.03948621\n",
            " 179.84289183 167.11387391 211.38923343 186.17282764 197.42643542\n",
            " 160.72124231 161.56200954 191.92566466 181.49799653 203.51796903\n",
            " 171.88307095 175.45422531 185.83953446 169.26763042 162.72000947\n",
            " 211.96645293 166.94109471 176.24296412 175.86219697 173.36781331\n",
            " 186.3905475  173.98528622 184.5448537  147.16469565 175.97805484\n",
            " 164.33371675 176.81477077 219.51984521 161.21748995 158.76699955\n",
            " 182.05100354 183.47124094 195.90739668 161.50328605 190.25717563\n",
            " 181.44730326 164.95940009 185.94224316 177.56869998 196.80573717\n",
            " 199.77904821 187.32252466 191.7702282  172.75786989 170.49667442\n",
            " 177.05813714 172.16661584 177.53598842 203.73959459 188.12299813\n",
            " 174.66832633 151.94487959 160.29011089 175.68959783 191.14902259\n",
            " 172.80441407 181.36022111 158.05764738 172.12869258 186.66396414\n",
            " 183.04246293 202.22791869 140.0923505  186.49367871 195.93004005\n",
            " 157.15642416 198.64660249 177.3043725  178.20956477 160.45669658\n",
            " 169.05361558 157.44483404 201.07160995 202.58082014 154.94935712\n",
            " 187.26031477 167.75553372 178.19877743 185.50503759 164.65232291\n",
            " 195.51134876 158.21144031 202.01301396 204.55857868 194.94581458\n",
            " 178.40516829 197.39254849 182.15470541 179.02595083 187.16802375\n",
            " 169.35396714 178.84242496 188.81278453 193.18079541 171.41278706\n",
            " 156.12728589 171.86133562 171.49299077 193.95365246 176.3646048\n",
            " 188.89876026 183.12859322 158.55840722 189.23045789 227.02579169\n",
            " 207.94660226 219.10936443 173.22022683 184.22166251 154.03113798\n",
            " 172.94102048 199.05856964 181.83807654 184.20488842 178.8982423\n",
            " 152.66721228 180.843646   190.98894896 205.09026573 167.40291861\n",
            " 183.70080991 200.39986656 158.43270725 179.91986416 203.95664379\n",
            " 154.01112637 196.45262874 165.28604118 170.33079428 182.22649712\n",
            " 159.84129732 184.42262931 198.54237217 150.45280467 171.94269701\n",
            " 150.87021723 214.30627866 168.58102027 155.03393942 199.58\n",
            " 207.24578876 187.12777727 163.27662343 172.97199238 173.21508313\n",
            " 173.97476495 179.06040453 204.16921521 211.14182177 206.19076992\n",
            " 169.97098303 152.49756705 222.89939502 168.55275209 169.33548653\n",
            " 236.91312429 183.54873777 221.53691598 161.73604584 176.04432299\n",
            " 191.27033449 193.21412812 192.78629606 174.72929588 195.30793316\n",
            " 203.25337365 160.46722672 164.6683135  161.72265876 146.71132046\n",
            " 203.02546583 185.497812   182.48079969 201.48666655 184.41780266\n",
            " 166.22091716 189.15822444 165.92674824 180.64434368 180.78397677\n",
            " 161.61118168 169.80955833 178.34302445 161.51158874 198.89746758\n",
            " 196.29265359 174.47835408 179.67878832 162.14858218 218.56367604\n",
            " 174.00413605 171.46929393 183.80048055 161.1450075  186.73698683\n",
            " 182.35432666 186.66194661 193.24615644 231.62417813 174.86756518\n",
            " 192.31970168 167.0122337  180.45912076 157.06275438 176.55718417\n",
            " 172.48234707 164.74206425 198.67104468 174.63900184 184.63654586\n",
            " 172.53627343 167.65483096 195.71623573 143.69089409 194.11185168\n",
            " 160.98302412 176.86738459 153.27861563 206.3038767  193.48182374\n",
            " 185.2210645  178.83085368 157.11775351 175.72615303 170.70109712\n",
            " 181.50974315 170.16039051 201.87269552 207.82350444 179.1104516\n",
            " 173.16346137 186.31556393 181.06616307 202.87955455 189.01285908\n",
            " 161.03473126 193.18642013 189.81989253 183.1976736  162.11543834\n",
            " 206.61458916 188.18345391 202.57594375 152.23009223 165.74817935\n",
            " 191.00452764 219.83908457 199.96244384 166.04068    195.77830303\n",
            " 172.99428949 167.4393834  193.0485064  175.31693672 192.82125353\n",
            " 167.59485972 189.74044196 170.16456739 201.02295188 172.8912451\n",
            " 182.32143383 183.37283197 161.65549607 207.4501388  170.86781183\n",
            " 176.69837375 179.0727241  186.47425533 179.00442054 192.79240338\n",
            " 160.32537326 179.93749465 205.25164659 186.18130499 174.34620636\n",
            " 193.08901105 180.67120184 162.66294262 171.24776168 191.56377506\n",
            " 176.76664225 164.33712755 184.78394993 181.28310932 196.56412886\n",
            " 179.59310471 188.62100177 172.79885011 178.97776568 181.3678823\n",
            " 180.22867857 157.20124933 217.56573887 166.75148292 190.36109718\n",
            " 244.22997143 203.57235794 197.36154304 169.10182447 162.76328528\n",
            " 194.72053354 208.9605603  220.18890613 197.95316149 183.79721685\n",
            " 176.66840623 197.601302   169.93792285 237.7983141  197.98542527\n",
            " 183.03788776 178.33115841 169.31091744 160.62768597 173.07371883\n",
            " 179.81417182 185.64964466 176.67552703 179.00151287 226.9957144\n",
            " 196.43854693 195.74753321 179.79511819 161.63286143 184.23528781\n",
            " 188.67801081 192.27379936 202.83501497 191.23889577 191.63433634\n",
            " 176.57994216 180.30997827 182.56357322 167.8593132  201.62852347\n",
            " 144.56908957 185.17515736 158.85983219 198.63134423 176.0145629\n",
            " 173.31863907 203.47888984 159.20239341 180.84013623 187.52706497\n",
            " 179.30405928 171.32500846 186.83552484 185.88243809 155.70879708\n",
            " 182.8314056  161.27772441 154.19066304 191.83272238 202.01263048\n",
            " 160.55977844 160.75488638 171.08130478 156.5358886  173.22914009\n",
            " 206.21198708 167.44665614 202.51355835 176.95907368 187.48881231\n",
            " 183.65112565 153.16063762 180.1991939  176.73627531 227.55267044\n",
            " 190.03170124 193.10495292 175.08733022 177.78660881 193.6187391\n",
            " 172.60396083 176.31420184 202.75951525 188.83118098 204.18949809\n",
            " 161.6018594  163.47309131 219.37166805 178.21246253 176.55851408\n",
            " 161.5990588  177.99576036 249.68806    174.63386218 178.54974651\n",
            " 199.5105834  161.34320442 206.35475704 171.16316985 174.97096415\n",
            " 159.4387118  188.05003308 161.5911505  143.3847225  191.34768689\n",
            " 199.11739986 185.09455848 149.87937039 208.48830156 138.39452484\n",
            " 173.29476323 165.48708848 190.19236376 155.47217519 189.24091119\n",
            " 169.26387125 194.11459679 168.75840971 198.509916   223.56280953\n",
            " 174.81524024 185.59307341 209.4059744  189.74450186 186.42614724\n",
            " 200.0886991  169.37653397]\n"
          ],
          "name": "stdout"
        }
      ]
    },
    {
      "cell_type": "markdown",
      "metadata": {
        "id": "kiYMbdDSBO3j"
      },
      "source": [
        "Hyper Parameter Tuning for Tree Model with important features"
      ]
    },
    {
      "cell_type": "code",
      "metadata": {
        "id": "VMnFluuqBOJk"
      },
      "source": [
        "# Create the parameter grid based on the results of random search \r\n",
        "param_grid = {\r\n",
        "    'criterion': ['mse','mae', 'friedman_mse'],\r\n",
        "    'max_depth': [5, 10, 15]}"
      ],
      "execution_count": 146,
      "outputs": []
    },
    {
      "cell_type": "code",
      "metadata": {
        "id": "MMCWOyR_Bkf_"
      },
      "source": [
        "dtr= DecisionTreeRegressor(random_state= 42,)\r\n",
        "\r\n",
        "# Grid search cv\r\n",
        "grid_search = GridSearchCV(estimator = dtr, param_grid = param_grid, \r\n",
        "                          cv = 2, n_jobs = -1, verbose = 2)"
      ],
      "execution_count": 147,
      "outputs": []
    },
    {
      "cell_type": "code",
      "metadata": {
        "colab": {
          "base_uri": "https://localhost:8080/"
        },
        "id": "2mBc-hJxBujZ",
        "outputId": "02fdc225-c425-4449-9c10-d46368cd987f"
      },
      "source": [
        "grid_search.fit(X_important_train, y_train)"
      ],
      "execution_count": 150,
      "outputs": [
        {
          "output_type": "stream",
          "text": [
            "Fitting 2 folds for each of 9 candidates, totalling 18 fits\n"
          ],
          "name": "stdout"
        },
        {
          "output_type": "stream",
          "text": [
            "[Parallel(n_jobs=-1)]: Using backend LokyBackend with 2 concurrent workers.\n",
            "[Parallel(n_jobs=-1)]: Done  15 out of  18 | elapsed:    1.3s remaining:    0.3s\n",
            "[Parallel(n_jobs=-1)]: Done  18 out of  18 | elapsed:    1.6s finished\n"
          ],
          "name": "stderr"
        },
        {
          "output_type": "execute_result",
          "data": {
            "text/plain": [
              "GridSearchCV(cv=2, error_score=nan,\n",
              "             estimator=DecisionTreeRegressor(ccp_alpha=0.0, criterion='mse',\n",
              "                                             max_depth=None, max_features=None,\n",
              "                                             max_leaf_nodes=None,\n",
              "                                             min_impurity_decrease=0.0,\n",
              "                                             min_impurity_split=None,\n",
              "                                             min_samples_leaf=1,\n",
              "                                             min_samples_split=2,\n",
              "                                             min_weight_fraction_leaf=0.0,\n",
              "                                             presort='deprecated',\n",
              "                                             random_state=42, splitter='best'),\n",
              "             iid='deprecated', n_jobs=-1,\n",
              "             param_grid={'criterion': ['mse', 'mae', 'friedman_mse'],\n",
              "                         'max_depth': [5, 10, 15]},\n",
              "             pre_dispatch='2*n_jobs', refit=True, return_train_score=False,\n",
              "             scoring=None, verbose=2)"
            ]
          },
          "metadata": {
            "tags": []
          },
          "execution_count": 150
        }
      ]
    },
    {
      "cell_type": "code",
      "metadata": {
        "colab": {
          "base_uri": "https://localhost:8080/"
        },
        "id": "1Z8a2y9eCXjp",
        "outputId": "039e4857-28b5-4e2c-a85d-5cadb85fa233"
      },
      "source": [
        "grid_search.best_params_"
      ],
      "execution_count": 151,
      "outputs": [
        {
          "output_type": "execute_result",
          "data": {
            "text/plain": [
              "{'criterion': 'friedman_mse', 'max_depth': 5}"
            ]
          },
          "metadata": {
            "tags": []
          },
          "execution_count": 151
        }
      ]
    },
    {
      "cell_type": "code",
      "metadata": {
        "colab": {
          "base_uri": "https://localhost:8080/"
        },
        "id": "EWNbus9lB4XJ",
        "outputId": "298a4464-ca30-4c5c-f1c0-c77c102fead4"
      },
      "source": [
        "# mean_squared error\r\n",
        "\r\n",
        "MSE_dtr_hpt2 = mean_squared_error(y_val, grid_search.predict(X_important_val))\r\n",
        "\r\n",
        "print(MSE_dtr_hpt2)"
      ],
      "execution_count": 152,
      "outputs": [
        {
          "output_type": "stream",
          "text": [
            "544.6475870572712\n"
          ],
          "name": "stdout"
        }
      ]
    },
    {
      "cell_type": "code",
      "metadata": {
        "id": "jw4ktpVpCfEb"
      },
      "source": [
        "predictions10 = grid_search.predict(testimp_data)"
      ],
      "execution_count": 153,
      "outputs": []
    },
    {
      "cell_type": "code",
      "metadata": {
        "colab": {
          "base_uri": "https://localhost:8080/"
        },
        "id": "j8fxTo_aCvRI",
        "outputId": "bae9c67d-88a3-41d1-8474-b3e45522042e"
      },
      "source": [
        "print(predictions10)"
      ],
      "execution_count": 154,
      "outputs": [
        {
          "output_type": "stream",
          "text": [
            "[163.99084507 196.77612903 162.11554404 178.60297483 178.60297483\n",
            " 177.86363636 190.19117647 178.60297483 151.8375     196.77612903\n",
            "  88.67777778 196.77612903 162.11554404 163.99084507 196.77612903\n",
            " 162.11554404 178.60297483 173.86153846 178.60297483 163.94646465\n",
            " 178.60297483 232.34666667 163.99084507 163.94646465 138.98125\n",
            " 162.11554404 196.77612903 232.34666667 162.11554404 178.60297483\n",
            " 163.94646465 178.60297483 163.94646465 173.86153846 163.99084507\n",
            " 162.11554404 141.40833333 190.19117647 143.20384615 192.01134021\n",
            " 196.77612903 177.86363636 190.19117647 177.86363636 166.33055556\n",
            " 143.20384615 173.86153846 190.19117647 196.77612903 177.86363636\n",
            " 151.8375     178.60297483 163.99084507 178.60297483 178.60297483\n",
            " 192.01134021 173.86153846 196.77612903 190.19117647 162.11554404\n",
            " 166.33055556 178.60297483 178.60297483 162.11554404 196.77612903\n",
            " 178.60297483 196.77612903 173.86153846 196.77612903 162.11554404\n",
            " 196.77612903 177.86363636 178.60297483 151.8375     196.77612903\n",
            " 177.86363636 205.86666667 196.77612903 162.11554404 190.19117647\n",
            " 190.19117647 162.11554404 196.77612903 178.60297483 192.01134021\n",
            " 178.60297483 177.86363636 196.77612903 196.77612903 192.01134021\n",
            " 203.04606742 178.60297483 143.20384615 163.99084507 192.01134021\n",
            " 162.11554404 196.77612903 163.99084507 162.11554404 196.77612903\n",
            " 124.39090909 178.60297483 163.99084507 177.86363636 192.01134021\n",
            " 178.60297483 173.86153846 162.11554404 190.19117647 196.77612903\n",
            " 178.60297483 178.60297483 163.94646465 162.11554404 203.04606742\n",
            " 178.60297483 173.86153846 178.60297483 203.04606742 162.11554404\n",
            " 196.77612903 178.60297483 151.8375     203.04606742 192.01134021\n",
            " 196.77612903 163.94646465 203.04606742 167.44137931 196.77612903\n",
            " 192.01134021 178.60297483 196.77612903 232.34666667 163.99084507\n",
            " 178.60297483 178.60297483 162.11554404 205.86666667 163.99084507\n",
            " 196.77612903 141.40833333 196.77612903 178.60297483 190.19117647\n",
            " 143.20384615 196.77612903 124.39090909 196.77612903 177.86363636\n",
            " 196.77612903 203.04606742 246.7        190.19117647 143.20384615\n",
            " 124.39090909 196.77612903 178.60297483 203.04606742 124.39090909\n",
            " 163.99084507 190.19117647 163.94646465 196.77612903 162.11554404\n",
            " 178.60297483 196.77612903 177.86363636 196.77612903 196.77612903\n",
            " 178.60297483 192.01134021 162.11554404 196.77612903 162.11554404\n",
            " 203.04606742 196.77612903 166.33055556 190.19117647 178.60297483\n",
            " 167.44137931 178.60297483 178.60297483 203.04606742 178.60297483\n",
            " 178.60297483 178.60297483 178.60297483 203.04606742 190.19117647\n",
            " 177.86363636 162.11554404 196.77612903 162.11554404 151.8375\n",
            " 177.86363636 196.77612903 196.77612903 163.94646465 196.77612903\n",
            " 163.94646465 192.01134021 178.60297483 178.60297483 162.11554404\n",
            " 163.99084507 163.99084507 178.60297483 178.60297483 163.99084507\n",
            " 196.77612903 192.01134021 163.99084507 178.60297483 178.60297483\n",
            " 163.99084507 203.04606742 192.01134021 196.77612903 143.20384615\n",
            " 177.86363636 178.60297483 203.04606742 178.60297483 196.77612903\n",
            " 192.01134021 190.19117647 178.60297483 177.86363636 177.86363636\n",
            " 196.77612903 196.77612903 162.11554404 177.86363636 196.77612903\n",
            " 163.99084507 162.11554404 177.86363636 163.94646465 192.01134021\n",
            " 196.77612903 157.         163.94646465 196.77612903 203.04606742\n",
            " 162.11554404 177.86363636 178.60297483 196.77612903 232.34666667\n",
            " 196.77612903 178.60297483 138.98125     88.67777778 163.94646465\n",
            " 196.77612903 178.60297483 178.60297483 178.60297483 205.86666667\n",
            " 162.11554404 178.60297483 196.77612903 177.86363636 177.86363636\n",
            " 196.77612903 178.60297483 196.77612903 196.77612903 177.86363636\n",
            " 178.60297483 173.86153846 178.60297483 192.01134021 177.86363636\n",
            " 192.01134021 196.77612903 124.39090909 178.60297483 178.60297483\n",
            " 232.34666667 162.11554404 232.34666667 178.60297483 196.77612903\n",
            " 173.86153846 192.01134021 177.86363636 192.01134021 178.60297483\n",
            " 162.11554404 163.99084507 178.60297483 196.77612903 162.11554404\n",
            " 162.11554404 163.99084507 190.19117647 178.60297483 173.86153846\n",
            " 143.20384615 143.20384615 196.77612903 196.77612903 163.99084507\n",
            " 162.11554404 143.20384615 196.77612903 178.60297483 162.11554404\n",
            " 196.77612903 190.19117647 177.86363636 190.19117647 163.99084507\n",
            " 178.60297483 196.77612903 178.60297483 178.60297483 177.86363636\n",
            " 196.77612903 178.60297483 177.86363636 178.60297483 178.60297483\n",
            " 163.94646465 203.04606742 177.86363636 177.86363636 196.77612903\n",
            " 190.19117647 196.77612903 203.04606742 177.86363636 192.01134021\n",
            " 162.11554404 162.11554404 190.19117647 143.20384615 178.60297483\n",
            " 166.33055556 162.11554404 203.04606742 196.77612903 196.77612903\n",
            " 162.11554404 163.99084507 190.19117647 178.60297483 196.77612903\n",
            " 178.60297483 178.60297483 192.01134021 178.60297483 162.11554404\n",
            " 196.77612903 162.11554404 178.60297483 166.33055556 178.60297483\n",
            " 178.60297483 178.60297483 190.19117647 143.20384615 173.86153846\n",
            " 162.11554404 178.60297483 232.34666667 163.99084507 163.94646465\n",
            " 178.60297483 178.60297483 217.43846154 162.11554404 178.60297483\n",
            " 178.60297483 162.11554404 178.60297483 163.99084507 196.77612903\n",
            " 196.77612903 178.60297483 196.77612903 163.99084507 178.60297483\n",
            " 166.33055556 178.60297483 178.60297483 203.04606742 196.77612903\n",
            " 177.86363636 138.98125    162.11554404 178.60297483 196.77612903\n",
            " 163.99084507 192.01134021 163.94646465 178.60297483 196.77612903\n",
            " 178.60297483 196.77612903 124.39090909 177.86363636 192.01134021\n",
            " 163.94646465 196.77612903 173.86153846 196.77612903 163.99084507\n",
            " 162.11554404 163.94646465 196.77612903 196.77612903 162.11554404\n",
            " 196.77612903 178.60297483 177.86363636 196.77612903 162.11554404\n",
            " 196.77612903 178.60297483 196.77612903 192.01134021 196.77612903\n",
            " 167.44137931 196.77612903 178.60297483 173.86153846 196.77612903\n",
            " 178.60297483 141.40833333 192.01134021 196.77612903 178.60297483\n",
            " 162.11554404 177.86363636 178.60297483 196.77612903 190.19117647\n",
            " 196.77612903 190.19117647 162.11554404 196.77612903 232.34666667\n",
            " 196.77612903 196.77612903 178.60297483 178.60297483 162.11554404\n",
            " 190.19117647 203.04606742 163.99084507 196.77612903 178.60297483\n",
            " 162.11554404 163.94646465 178.60297483 196.77612903 162.11554404\n",
            " 178.60297483 196.77612903 162.11554404 178.60297483 196.77612903\n",
            " 162.11554404 192.01134021 173.86153846 177.86363636 178.60297483\n",
            " 178.60297483 173.86153846 203.04606742 143.20384615 177.86363636\n",
            " 163.99084507 192.01134021 163.94646465 163.99084507 157.\n",
            " 196.77612903 196.77612903 163.99084507 178.60297483 178.60297483\n",
            " 190.19117647 173.86153846 203.04606742 196.77612903 203.04606742\n",
            " 162.11554404 166.33055556 232.34666667 163.99084507 178.60297483\n",
            " 232.34666667 178.60297483 264.16666667 162.11554404 196.77612903\n",
            " 196.77612903 203.04606742 196.77612903 178.60297483 190.19117647\n",
            " 192.01134021 162.11554404 162.11554404 163.94646465 143.20384615\n",
            " 196.77612903 178.60297483 190.19117647 190.19117647 162.11554404\n",
            " 162.11554404 192.01134021 162.11554404 177.86363636 192.01134021\n",
            " 162.11554404 162.11554404 162.11554404 162.11554404 196.77612903\n",
            " 196.77612903 178.60297483 162.11554404 163.94646465 196.77612903\n",
            " 177.86363636 162.11554404 178.60297483 163.94646465 190.19117647\n",
            " 192.01134021 196.77612903 178.60297483 232.34666667 166.33055556\n",
            " 196.77612903 163.94646465 162.11554404 162.11554404 162.11554404\n",
            " 178.60297483 162.11554404 203.04606742 178.60297483 178.60297483\n",
            " 178.60297483 173.86153846 203.04606742 151.8375     192.01134021\n",
            " 178.60297483 178.60297483 162.11554404 196.77612903 190.19117647\n",
            " 192.01134021 173.86153846 162.11554404 178.60297483 162.11554404\n",
            " 178.60297483 178.60297483 192.01134021 196.77612903 173.86153846\n",
            " 167.44137931 177.86363636 196.77612903 232.34666667 196.77612903\n",
            " 141.40833333 192.01134021 178.60297483 178.60297483 162.11554404\n",
            " 196.77612903 178.60297483 196.77612903 151.8375     178.60297483\n",
            " 196.77612903 203.04606742 196.77612903 178.60297483 196.77612903\n",
            " 162.11554404 178.60297483 196.77612903 178.60297483 196.77612903\n",
            " 178.60297483 196.77612903 178.60297483 196.77612903 163.99084507\n",
            " 196.77612903 178.60297483 166.33055556 217.43846154 178.60297483\n",
            " 178.60297483 162.11554404 178.60297483 196.77612903 196.77612903\n",
            " 163.94646465 178.60297483 203.04606742 196.77612903 178.60297483\n",
            " 196.77612903 196.77612903 178.60297483 162.11554404 196.77612903\n",
            " 192.01134021 177.86363636 192.01134021 166.33055556 196.77612903\n",
            " 178.60297483 177.86363636 178.60297483 178.60297483 178.60297483\n",
            " 166.33055556 163.99084507 203.04606742 163.94646465 196.77612903\n",
            " 232.34666667 203.04606742 196.77612903 162.11554404 162.11554404\n",
            " 192.01134021 196.77612903 196.77612903 196.77612903 192.01134021\n",
            " 178.60297483 196.77612903 178.60297483 232.34666667 203.04606742\n",
            " 178.60297483 178.60297483 162.11554404 177.86363636 162.11554404\n",
            " 178.60297483 196.77612903 178.60297483 178.60297483 232.34666667\n",
            " 196.77612903 190.19117647 177.86363636 141.40833333 196.77612903\n",
            " 178.60297483 196.77612903 203.04606742 196.77612903 178.60297483\n",
            " 163.99084507 178.60297483 162.11554404 163.99084507 203.04606742\n",
            " 143.20384615 192.01134021 163.94646465 196.77612903 177.86363636\n",
            " 163.99084507 192.01134021 163.94646465 178.60297483 178.60297483\n",
            " 178.60297483 177.86363636 196.77612903 178.60297483 162.11554404\n",
            " 177.86363636 143.20384615 163.99084507 173.86153846 196.77612903\n",
            " 163.94646465 162.11554404 178.60297483 166.33055556 178.60297483\n",
            " 203.04606742 178.60297483 196.77612903 162.11554404 178.60297483\n",
            " 178.60297483 162.11554404 178.60297483 178.60297483 232.34666667\n",
            " 196.77612903 217.43846154 162.11554404 190.19117647 192.01134021\n",
            " 162.11554404 173.86153846 203.04606742 166.33055556 196.77612903\n",
            " 162.11554404 162.11554404 203.04606742 173.86153846 190.19117647\n",
            " 162.11554404 178.60297483 232.34666667 178.60297483 177.86363636\n",
            " 196.77612903 141.40833333 203.04606742 177.86363636 178.60297483\n",
            " 163.94646465 178.60297483 178.60297483 162.11554404 196.77612903\n",
            " 196.77612903 178.60297483 143.20384615 196.77612903  88.67777778\n",
            " 173.86153846 162.11554404 196.77612903 163.99084507 196.77612903\n",
            " 178.60297483 192.01134021 177.86363636 196.77612903 232.34666667\n",
            " 178.60297483 173.86153846 196.77612903 196.77612903 190.19117647\n",
            " 196.77612903 173.86153846]\n"
          ],
          "name": "stdout"
        }
      ]
    },
    {
      "cell_type": "code",
      "metadata": {
        "colab": {
          "base_uri": "https://localhost:8080/",
          "height": 17
        },
        "id": "LekqnlkfC5O8",
        "outputId": "e0a0b488-c7a5-4cdd-e962-f4adcfbad116"
      },
      "source": [
        "# To create Dataframe of predicted value with particular respective index\r\n",
        "res = pd.DataFrame(predictions10) #preditcions are nothing but the final predictions of your model on input features of your new unseen test data\r\n",
        "\r\n",
        "res.columns = [\"prediction\"]\r\n",
        "\r\n",
        "# To download the csv file locally\r\n",
        "from google.colab import files\r\n",
        "res.to_csv('Deathrate_predictions10.csv', index = False)         \r\n",
        "files.download('Deathrate_predictions10.csv')"
      ],
      "execution_count": 165,
      "outputs": [
        {
          "output_type": "display_data",
          "data": {
            "application/javascript": [
              "\n",
              "    async function download(id, filename, size) {\n",
              "      if (!google.colab.kernel.accessAllowed) {\n",
              "        return;\n",
              "      }\n",
              "      const div = document.createElement('div');\n",
              "      const label = document.createElement('label');\n",
              "      label.textContent = `Downloading \"${filename}\": `;\n",
              "      div.appendChild(label);\n",
              "      const progress = document.createElement('progress');\n",
              "      progress.max = size;\n",
              "      div.appendChild(progress);\n",
              "      document.body.appendChild(div);\n",
              "\n",
              "      const buffers = [];\n",
              "      let downloaded = 0;\n",
              "\n",
              "      const channel = await google.colab.kernel.comms.open(id);\n",
              "      // Send a message to notify the kernel that we're ready.\n",
              "      channel.send({})\n",
              "\n",
              "      for await (const message of channel.messages) {\n",
              "        // Send a message to notify the kernel that we're ready.\n",
              "        channel.send({})\n",
              "        if (message.buffers) {\n",
              "          for (const buffer of message.buffers) {\n",
              "            buffers.push(buffer);\n",
              "            downloaded += buffer.byteLength;\n",
              "            progress.value = downloaded;\n",
              "          }\n",
              "        }\n",
              "      }\n",
              "      const blob = new Blob(buffers, {type: 'application/binary'});\n",
              "      const a = document.createElement('a');\n",
              "      a.href = window.URL.createObjectURL(blob);\n",
              "      a.download = filename;\n",
              "      div.appendChild(a);\n",
              "      a.click();\n",
              "      div.remove();\n",
              "    }\n",
              "  "
            ],
            "text/plain": [
              "<IPython.core.display.Javascript object>"
            ]
          },
          "metadata": {
            "tags": []
          }
        },
        {
          "output_type": "display_data",
          "data": {
            "application/javascript": [
              "download(\"download_97913758-0777-43ed-a3cc-fea3ba6b19f9\", \"Deathrate_predictions10.csv\", 14401)"
            ],
            "text/plain": [
              "<IPython.core.display.Javascript object>"
            ]
          },
          "metadata": {
            "tags": []
          }
        }
      ]
    },
    {
      "cell_type": "markdown",
      "metadata": {
        "id": "hLMJ5S0GC0ZY"
      },
      "source": [
        "# **THE END!**"
      ]
    }
  ]
}